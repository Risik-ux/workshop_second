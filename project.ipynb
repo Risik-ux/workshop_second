{
 "cells": [
  {
   "cell_type": "markdown",
   "id": "2e013a92-394c-4f5a-9955-e7b7296462ec",
   "metadata": {},
   "source": [
    "# Название проекта: Маркетинг\n",
    "\n",
    "## Цель проекта:\n",
    "Используя имеющиеся данные о покупках пользователей и коммуникационные данные с пользователями, постоить модель классификации пользователей. Для \n",
    "предсказания, какие из пользователей совершат покупку.\n",
    "## Состав данных:\n",
    "**Основные**\n",
    "* apparel-messages.csv\n",
    "* apparel-purchases.csv\n",
    "* apparel-target_binary.csv\n",
    "\n",
    "**Вспомогательные**\n",
    "* full_campaign_daily_event.csv\n",
    "* full_campaign_daily_event_channel.csv\n",
    "## Обратить внимание:\n",
    "*  В таблице есть списки идентификаторов, к каким категориям относится товар. Часто это вложенные категории (например автотовары-аксессуары-освежители), но также может включать в начале списка маркер распродажи или маркер женщинам/мужчинам. Нумерация категорий сквозная для всех уровней, то есть 44 на второй позиции списка или на третьей– это одна и та же категория. Иногда дерево категорий обновляется, поэтому могут меняться вложенности, например `['4', '28', '44', '1594']` или `['4', '44', '1594']`.\n",
    "*  На основании имеющихся данных необходимо создать дополнительные признаки, для улучшения качетва модели."
   ]
  },
  {
   "cell_type": "markdown",
   "id": "1f25a36b-02db-4a20-a9b9-195f2f7f11c5",
   "metadata": {},
   "source": [
    "## План работы над проектом:\n",
    "* `Загрузка данных`. Необходимо загрузить 5 датафреймов, получить первоначальное представление о данных.\n",
    "* `Изучение признаков`. Изучим состав данных каждого из основных датафреймов. Определим нужна ли импутиация.\n",
    "* ...."
   ]
  },
  {
   "cell_type": "markdown",
   "id": "187d23c2-ea9b-4b7d-b0df-86d7435a673c",
   "metadata": {},
   "source": [
    "# Настройка окружения"
   ]
  },
  {
   "cell_type": "code",
   "execution_count": 4,
   "id": "fb8028cb-d86b-462e-a95f-4c59906f8987",
   "metadata": {},
   "outputs": [],
   "source": [
    "# установка модулей\n",
    "!pip install phik -q\n",
    "!pip install scikit-learn==1.6.1 -q\n",
    "!pip install shap -q\n",
    "!pip install matplotlib==3.9.2 -q\n",
    "!pip install catboost -q"
   ]
  },
  {
   "cell_type": "code",
   "execution_count": 5,
   "id": "06c3eaeb-d3e2-4b5d-ad0a-4c4a5bc3e062",
   "metadata": {},
   "outputs": [],
   "source": [
    "# загрузка модулей\n",
    "import ast\n",
    "import os\n",
    "import phik\n",
    "import random\n",
    "import shap\n",
    "\n",
    "import lightgbm as lgb\n",
    "import matplotlib.pyplot as plt\n",
    "import numpy as np\n",
    "import pandas as pd\n",
    "import seaborn as sns\n",
    "\n",
    "from catboost import CatBoostClassifier\n",
    "from imblearn.over_sampling import SMOTE\n",
    "from sklearn.compose import ColumnTransformer\n",
    "from sklearn.dummy import DummyClassifier\n",
    "from sklearn.utils import resample\n",
    "from sklearn.model_selection import train_test_split\n",
    "from sklearn.neighbors import NearestNeighbors\n",
    "from sklearn.pipeline import Pipeline\n",
    "from sklearn.preprocessing import (\n",
    "    StandardScaler,\n",
    "    MinMaxScaler\n",
    ")\n",
    "from sklearn.impute import SimpleImputer\n",
    "from sklearn.model_selection import GridSearchCV\n",
    "from sklearn.ensemble import RandomForestClassifier\n",
    "from sklearn.linear_model import LogisticRegression\n",
    "from sklearn.metrics import (\n",
    "    roc_auc_score,\n",
    "    f1_score,\n",
    "    precision_score,\n",
    "    recall_score,\n",
    "    make_scorer\n",
    ")"
   ]
  },
  {
   "cell_type": "markdown",
   "id": "b1950937-16c9-4c2c-86e4-1494f3cd4f01",
   "metadata": {},
   "source": [
    "# Определение констант"
   ]
  },
  {
   "cell_type": "code",
   "execution_count": 7,
   "id": "fc94f114-dab6-4b09-851f-9ab729b5ea06",
   "metadata": {},
   "outputs": [],
   "source": [
    "# определяем константы\n",
    "DATAFRAME_PATH = 'datasets/'\n",
    "TEST_SIZE = .25\n",
    "RANDOM_STATE = 165\n",
    "# определим целевой признак\n",
    "TARGET = 'target'\n",
    "# какую долю минорный класс будет составлять от мажорного\n",
    "# при оверсэмплинге\n",
    "MINOR_COEF = .2\n",
    "# во сколько раз сэмпл с мажорным классом будет больше минорного\n",
    "# при андерсэмплинге\n",
    "MAJOR_COEF = 9 "
   ]
  },
  {
   "cell_type": "code",
   "execution_count": 8,
   "id": "d7cf17a0-2399-4dcf-8b3c-66c9196cb730",
   "metadata": {},
   "outputs": [],
   "source": [
    "# отображение чисел с плавающей точкой в формате .4f\n",
    "pd.set_option('display.float_format', '{:.4f}'.format)"
   ]
  },
  {
   "cell_type": "markdown",
   "id": "576d23fe-2531-4584-8cef-34f0854a5b73",
   "metadata": {},
   "source": [
    "# Загрузка данных."
   ]
  },
  {
   "cell_type": "code",
   "execution_count": 10,
   "id": "41ecc964-c532-471a-a8bc-c06e3cc91226",
   "metadata": {},
   "outputs": [],
   "source": [
    "# функция загрузки данных в датафрейм\n",
    "def df_load(file_name, *arg):\n",
    "    if not os.path.exists(DATAFRAME_PATH + file_name):\n",
    "        raise ValueError(f'Файл {file_name} не найден.')\n",
    "    try:\n",
    "        df = pd.read_csv(DATAFRAME_PATH + file_name, sep=arg[0], decimal=arg[1])\n",
    "        print(f'Данные {file_name} успешно загружены')\n",
    "    except Exception as err:\n",
    "        raise ValueError(f'Ошибка загрузки данных из файла {file_name}: {err}')\n",
    "    print(f'Размерность датафрейма: {df.shape}\\n'\n",
    "          'Общая информация о датафрейме:')\n",
    "    print(df.info())\n",
    "    return(df)"
   ]
  },
  {
   "cell_type": "code",
   "execution_count": 11,
   "id": "4d8da8bc-5ccc-472d-81eb-bf242a727c65",
   "metadata": {},
   "outputs": [
    {
     "name": "stdout",
     "output_type": "stream",
     "text": [
      "Данные apparel-messages.csv успешно загружены\n",
      "Размерность датафрейма: (12739798, 7)\n",
      "Общая информация о датафрейме:\n",
      "<class 'pandas.core.frame.DataFrame'>\n",
      "RangeIndex: 12739798 entries, 0 to 12739797\n",
      "Data columns (total 7 columns):\n",
      " #   Column            Dtype \n",
      "---  ------            ----- \n",
      " 0   bulk_campaign_id  int64 \n",
      " 1   client_id         int64 \n",
      " 2   message_id        object\n",
      " 3   event             object\n",
      " 4   channel           object\n",
      " 5   date              object\n",
      " 6   created_at        object\n",
      "dtypes: int64(2), object(5)\n",
      "memory usage: 680.4+ MB\n",
      "None\n"
     ]
    }
   ],
   "source": [
    "df_messages = df_load('apparel-messages.csv', ',', '.')"
   ]
  },
  {
   "cell_type": "code",
   "execution_count": 12,
   "id": "bf90e8e2-7644-4124-9267-5871430d9f79",
   "metadata": {},
   "outputs": [],
   "source": [
    "df_messages_shape = df_messages.shape"
   ]
  },
  {
   "cell_type": "code",
   "execution_count": 13,
   "id": "0b2e56e6-3173-4419-81e0-e9dcfff0d68c",
   "metadata": {},
   "outputs": [
    {
     "name": "stdout",
     "output_type": "stream",
     "text": [
      "Данные apparel-purchases.csv успешно загружены\n",
      "Размерность датафрейма: (202208, 6)\n",
      "Общая информация о датафрейме:\n",
      "<class 'pandas.core.frame.DataFrame'>\n",
      "RangeIndex: 202208 entries, 0 to 202207\n",
      "Data columns (total 6 columns):\n",
      " #   Column        Non-Null Count   Dtype  \n",
      "---  ------        --------------   -----  \n",
      " 0   client_id     202208 non-null  int64  \n",
      " 1   quantity      202208 non-null  int64  \n",
      " 2   price         202208 non-null  float64\n",
      " 3   category_ids  202208 non-null  object \n",
      " 4   date          202208 non-null  object \n",
      " 5   message_id    202208 non-null  object \n",
      "dtypes: float64(1), int64(2), object(3)\n",
      "memory usage: 9.3+ MB\n",
      "None\n"
     ]
    }
   ],
   "source": [
    "df_purchases = df_load('apparel-purchases.csv', ',', '.')"
   ]
  },
  {
   "cell_type": "code",
   "execution_count": 14,
   "id": "5c33e52b-5c07-4a96-b078-2edb23132b2c",
   "metadata": {},
   "outputs": [],
   "source": [
    "df_purchases_shape = df_purchases.shape"
   ]
  },
  {
   "cell_type": "code",
   "execution_count": 15,
   "id": "025573b1-6188-477d-a8b9-95af3c386421",
   "metadata": {},
   "outputs": [
    {
     "name": "stdout",
     "output_type": "stream",
     "text": [
      "Данные apparel-target_binary.csv успешно загружены\n",
      "Размерность датафрейма: (49849, 2)\n",
      "Общая информация о датафрейме:\n",
      "<class 'pandas.core.frame.DataFrame'>\n",
      "RangeIndex: 49849 entries, 0 to 49848\n",
      "Data columns (total 2 columns):\n",
      " #   Column     Non-Null Count  Dtype\n",
      "---  ------     --------------  -----\n",
      " 0   client_id  49849 non-null  int64\n",
      " 1   target     49849 non-null  int64\n",
      "dtypes: int64(2)\n",
      "memory usage: 779.0 KB\n",
      "None\n"
     ]
    }
   ],
   "source": [
    "df_target = df_load('apparel-target_binary.csv', ',', '.')"
   ]
  },
  {
   "cell_type": "code",
   "execution_count": 16,
   "id": "a8e657d1-6811-4a16-8f50-cb033d957b53",
   "metadata": {},
   "outputs": [],
   "source": [
    "df_target_shape = df_target.shape"
   ]
  },
  {
   "cell_type": "code",
   "execution_count": 17,
   "id": "75cbf8bc-a0d9-4e76-880c-6ed67bef3935",
   "metadata": {},
   "outputs": [
    {
     "name": "stdout",
     "output_type": "stream",
     "text": [
      "Данные full_campaign_daily_event.csv успешно загружены\n",
      "Размерность датафрейма: (131072, 24)\n",
      "Общая информация о датафрейме:\n",
      "<class 'pandas.core.frame.DataFrame'>\n",
      "RangeIndex: 131072 entries, 0 to 131071\n",
      "Data columns (total 24 columns):\n",
      " #   Column               Non-Null Count   Dtype \n",
      "---  ------               --------------   ----- \n",
      " 0   date                 131072 non-null  object\n",
      " 1   bulk_campaign_id     131072 non-null  int64 \n",
      " 2   count_click          131072 non-null  int64 \n",
      " 3   count_complain       131072 non-null  int64 \n",
      " 4   count_hard_bounce    131072 non-null  int64 \n",
      " 5   count_open           131072 non-null  int64 \n",
      " 6   count_purchase       131072 non-null  int64 \n",
      " 7   count_send           131072 non-null  int64 \n",
      " 8   count_soft_bounce    131072 non-null  int64 \n",
      " 9   count_subscribe      131072 non-null  int64 \n",
      " 10  count_unsubscribe    131072 non-null  int64 \n",
      " 11  nunique_click        131072 non-null  int64 \n",
      " 12  nunique_complain     131072 non-null  int64 \n",
      " 13  nunique_hard_bounce  131072 non-null  int64 \n",
      " 14  nunique_open         131072 non-null  int64 \n",
      " 15  nunique_purchase     131072 non-null  int64 \n",
      " 16  nunique_send         131072 non-null  int64 \n",
      " 17  nunique_soft_bounce  131072 non-null  int64 \n",
      " 18  nunique_subscribe    131072 non-null  int64 \n",
      " 19  nunique_unsubscribe  131072 non-null  int64 \n",
      " 20  count_hbq_spam       131072 non-null  int64 \n",
      " 21  nunique_hbq_spam     131072 non-null  int64 \n",
      " 22  count_close          131072 non-null  int64 \n",
      " 23  nunique_close        131072 non-null  int64 \n",
      "dtypes: int64(23), object(1)\n",
      "memory usage: 24.0+ MB\n",
      "None\n"
     ]
    }
   ],
   "source": [
    "df_event = df_load('full_campaign_daily_event.csv', ',', '.')"
   ]
  },
  {
   "cell_type": "code",
   "execution_count": 18,
   "id": "0923b87a-8037-423a-834e-2817667f8e07",
   "metadata": {},
   "outputs": [
    {
     "name": "stdout",
     "output_type": "stream",
     "text": [
      "Данные full_campaign_daily_event_channel.csv успешно загружены\n",
      "Размерность датафрейма: (131072, 36)\n",
      "Общая информация о датафрейме:\n",
      "<class 'pandas.core.frame.DataFrame'>\n",
      "RangeIndex: 131072 entries, 0 to 131071\n",
      "Data columns (total 36 columns):\n",
      " #   Column                           Non-Null Count   Dtype \n",
      "---  ------                           --------------   ----- \n",
      " 0   date                             131072 non-null  object\n",
      " 1   bulk_campaign_id                 131072 non-null  int64 \n",
      " 2   count_click_email                131072 non-null  int64 \n",
      " 3   count_click_mobile_push          131072 non-null  int64 \n",
      " 4   count_open_email                 131072 non-null  int64 \n",
      " 5   count_open_mobile_push           131072 non-null  int64 \n",
      " 6   count_purchase_email             131072 non-null  int64 \n",
      " 7   count_purchase_mobile_push       131072 non-null  int64 \n",
      " 8   count_soft_bounce_email          131072 non-null  int64 \n",
      " 9   count_subscribe_email            131072 non-null  int64 \n",
      " 10  count_unsubscribe_email          131072 non-null  int64 \n",
      " 11  nunique_click_email              131072 non-null  int64 \n",
      " 12  nunique_click_mobile_push        131072 non-null  int64 \n",
      " 13  nunique_open_email               131072 non-null  int64 \n",
      " 14  nunique_open_mobile_push         131072 non-null  int64 \n",
      " 15  nunique_purchase_email           131072 non-null  int64 \n",
      " 16  nunique_purchase_mobile_push     131072 non-null  int64 \n",
      " 17  nunique_soft_bounce_email        131072 non-null  int64 \n",
      " 18  nunique_subscribe_email          131072 non-null  int64 \n",
      " 19  nunique_unsubscribe_email        131072 non-null  int64 \n",
      " 20  count_hard_bounce_mobile_push    131072 non-null  int64 \n",
      " 21  count_send_mobile_push           131072 non-null  int64 \n",
      " 22  nunique_hard_bounce_mobile_push  131072 non-null  int64 \n",
      " 23  nunique_send_mobile_push         131072 non-null  int64 \n",
      " 24  count_hard_bounce_email          131072 non-null  int64 \n",
      " 25  count_hbq_spam_email             131072 non-null  int64 \n",
      " 26  count_send_email                 131072 non-null  int64 \n",
      " 27  nunique_hard_bounce_email        131072 non-null  int64 \n",
      " 28  nunique_hbq_spam_email           131072 non-null  int64 \n",
      " 29  nunique_send_email               131072 non-null  int64 \n",
      " 30  count_soft_bounce_mobile_push    131072 non-null  int64 \n",
      " 31  nunique_soft_bounce_mobile_push  131072 non-null  int64 \n",
      " 32  count_complain_email             131072 non-null  int64 \n",
      " 33  nunique_complain_email           131072 non-null  int64 \n",
      " 34  count_close_mobile_push          131072 non-null  int64 \n",
      " 35  nunique_close_mobile_push        131072 non-null  int64 \n",
      "dtypes: int64(35), object(1)\n",
      "memory usage: 36.0+ MB\n",
      "None\n"
     ]
    }
   ],
   "source": [
    "df_channel = df_load('full_campaign_daily_event_channel.csv', ',', '.')"
   ]
  },
  {
   "cell_type": "code",
   "execution_count": 19,
   "id": "0ec8fe6c-f926-4771-a83c-4f6541c87976",
   "metadata": {},
   "outputs": [
    {
     "data": {
      "text/html": [
       "<div>\n",
       "<style scoped>\n",
       "    .dataframe tbody tr th:only-of-type {\n",
       "        vertical-align: middle;\n",
       "    }\n",
       "\n",
       "    .dataframe tbody tr th {\n",
       "        vertical-align: top;\n",
       "    }\n",
       "\n",
       "    .dataframe thead th {\n",
       "        text-align: right;\n",
       "    }\n",
       "</style>\n",
       "<table border=\"1\" class=\"dataframe\">\n",
       "  <thead>\n",
       "    <tr style=\"text-align: right;\">\n",
       "      <th></th>\n",
       "      <th>bulk_campaign_id</th>\n",
       "      <th>client_id</th>\n",
       "      <th>message_id</th>\n",
       "      <th>event</th>\n",
       "      <th>channel</th>\n",
       "      <th>date</th>\n",
       "      <th>created_at</th>\n",
       "    </tr>\n",
       "  </thead>\n",
       "  <tbody>\n",
       "    <tr>\n",
       "      <th>1979055</th>\n",
       "      <td>7180</td>\n",
       "      <td>1515915625468069361</td>\n",
       "      <td>1515915625468069361-7180-634d2f8014e67</td>\n",
       "      <td>send</td>\n",
       "      <td>email</td>\n",
       "      <td>2022-10-17</td>\n",
       "      <td>2022-10-17 11:57:50</td>\n",
       "    </tr>\n",
       "    <tr>\n",
       "      <th>2829774</th>\n",
       "      <td>8252</td>\n",
       "      <td>1515915625559754137</td>\n",
       "      <td>1515915625559754137-8252-6386fd869e5fa</td>\n",
       "      <td>open</td>\n",
       "      <td>email</td>\n",
       "      <td>2022-11-30</td>\n",
       "      <td>2022-11-30 14:09:35</td>\n",
       "    </tr>\n",
       "    <tr>\n",
       "      <th>2367384</th>\n",
       "      <td>7659</td>\n",
       "      <td>1515915625541979706</td>\n",
       "      <td>1515915625541979706-7659-6368e5694da85</td>\n",
       "      <td>open</td>\n",
       "      <td>email</td>\n",
       "      <td>2022-11-10</td>\n",
       "      <td>2022-11-10 14:32:35</td>\n",
       "    </tr>\n",
       "    <tr>\n",
       "      <th>1076149</th>\n",
       "      <td>5858</td>\n",
       "      <td>1515915625583134286</td>\n",
       "      <td>1515915625583134286-5858-62ed226d2da30</td>\n",
       "      <td>send</td>\n",
       "      <td>mobile_push</td>\n",
       "      <td>2022-08-05</td>\n",
       "      <td>2022-08-05 14:10:54</td>\n",
       "    </tr>\n",
       "    <tr>\n",
       "      <th>12440771</th>\n",
       "      <td>14618</td>\n",
       "      <td>1515915625902058454</td>\n",
       "      <td>1515915625902058454-14618-65c4ce7a90414</td>\n",
       "      <td>send</td>\n",
       "      <td>mobile_push</td>\n",
       "      <td>2024-02-08</td>\n",
       "      <td>2024-02-08 12:56:52</td>\n",
       "    </tr>\n",
       "    <tr>\n",
       "      <th>12253114</th>\n",
       "      <td>14576</td>\n",
       "      <td>1515915625502480713</td>\n",
       "      <td>1515915625502480713-14576-65badf6d27a01</td>\n",
       "      <td>open</td>\n",
       "      <td>mobile_push</td>\n",
       "      <td>2024-02-01</td>\n",
       "      <td>2024-02-01 00:03:17</td>\n",
       "    </tr>\n",
       "    <tr>\n",
       "      <th>3763174</th>\n",
       "      <td>9601</td>\n",
       "      <td>1515915625629298840</td>\n",
       "      <td>1515915625629298840-9601-63d0ece7f0539</td>\n",
       "      <td>send</td>\n",
       "      <td>email</td>\n",
       "      <td>2023-01-25</td>\n",
       "      <td>2023-01-25 10:10:05</td>\n",
       "    </tr>\n",
       "    <tr>\n",
       "      <th>11284591</th>\n",
       "      <td>14426</td>\n",
       "      <td>1515915625558818584</td>\n",
       "      <td>1515915625558818584-14426-65992efad12e2</td>\n",
       "      <td>send</td>\n",
       "      <td>mobile_push</td>\n",
       "      <td>2024-01-06</td>\n",
       "      <td>2024-01-06 13:20:19</td>\n",
       "    </tr>\n",
       "    <tr>\n",
       "      <th>11471252</th>\n",
       "      <td>14456</td>\n",
       "      <td>1515915625559844711</td>\n",
       "      <td>1515915625559844711-14456-659fb03e5fd4c</td>\n",
       "      <td>open</td>\n",
       "      <td>mobile_push</td>\n",
       "      <td>2024-01-11</td>\n",
       "      <td>2024-01-11 10:45:46</td>\n",
       "    </tr>\n",
       "    <tr>\n",
       "      <th>11654742</th>\n",
       "      <td>14499</td>\n",
       "      <td>1515915625551085377</td>\n",
       "      <td>1515915625551085377-14499-65a8cccf37f0a</td>\n",
       "      <td>open</td>\n",
       "      <td>mobile_push</td>\n",
       "      <td>2024-01-18</td>\n",
       "      <td>2024-01-18 07:06:59</td>\n",
       "    </tr>\n",
       "  </tbody>\n",
       "</table>\n",
       "</div>"
      ],
      "text/plain": [
       "          bulk_campaign_id            client_id  \\\n",
       "1979055               7180  1515915625468069361   \n",
       "2829774               8252  1515915625559754137   \n",
       "2367384               7659  1515915625541979706   \n",
       "1076149               5858  1515915625583134286   \n",
       "12440771             14618  1515915625902058454   \n",
       "12253114             14576  1515915625502480713   \n",
       "3763174               9601  1515915625629298840   \n",
       "11284591             14426  1515915625558818584   \n",
       "11471252             14456  1515915625559844711   \n",
       "11654742             14499  1515915625551085377   \n",
       "\n",
       "                                       message_id event      channel  \\\n",
       "1979055    1515915625468069361-7180-634d2f8014e67  send        email   \n",
       "2829774    1515915625559754137-8252-6386fd869e5fa  open        email   \n",
       "2367384    1515915625541979706-7659-6368e5694da85  open        email   \n",
       "1076149    1515915625583134286-5858-62ed226d2da30  send  mobile_push   \n",
       "12440771  1515915625902058454-14618-65c4ce7a90414  send  mobile_push   \n",
       "12253114  1515915625502480713-14576-65badf6d27a01  open  mobile_push   \n",
       "3763174    1515915625629298840-9601-63d0ece7f0539  send        email   \n",
       "11284591  1515915625558818584-14426-65992efad12e2  send  mobile_push   \n",
       "11471252  1515915625559844711-14456-659fb03e5fd4c  open  mobile_push   \n",
       "11654742  1515915625551085377-14499-65a8cccf37f0a  open  mobile_push   \n",
       "\n",
       "                date           created_at  \n",
       "1979055   2022-10-17  2022-10-17 11:57:50  \n",
       "2829774   2022-11-30  2022-11-30 14:09:35  \n",
       "2367384   2022-11-10  2022-11-10 14:32:35  \n",
       "1076149   2022-08-05  2022-08-05 14:10:54  \n",
       "12440771  2024-02-08  2024-02-08 12:56:52  \n",
       "12253114  2024-02-01  2024-02-01 00:03:17  \n",
       "3763174   2023-01-25  2023-01-25 10:10:05  \n",
       "11284591  2024-01-06  2024-01-06 13:20:19  \n",
       "11471252  2024-01-11  2024-01-11 10:45:46  \n",
       "11654742  2024-01-18  2024-01-18 07:06:59  "
      ]
     },
     "execution_count": 19,
     "metadata": {},
     "output_type": "execute_result"
    }
   ],
   "source": [
    "df_messages.sample(10)"
   ]
  },
  {
   "cell_type": "markdown",
   "id": "fd824c4c-ddc6-428d-b453-6d966e072fdb",
   "metadata": {},
   "source": [
    "## Выводы по разделу:\n",
    "* Загрузи данные в 5 датафреймов без ошибок. Вывели общую инфомацию по датафреймам и несколь строк из датафрейма `df_messages`.\n",
    "* При первом взгляде в датафреймах `df_purchases`, `df_target`, `df_event`, `df_channel` пропусков не зафиксировано.\n",
    "* В датафрейме `df_messages` с пропусками пока не ясно, но точно есть несовпадение типов признаков и значений `date`, `created_at`.\n",
    "* Так же в датафрейме `df_channel` есть несовпадение типа признака `date`.\n",
    "* Зафиксирована начальная размерность датафреймов."
   ]
  },
  {
   "cell_type": "markdown",
   "id": "962584d1-3dde-4d3b-aab5-b9ee495dcad5",
   "metadata": {},
   "source": [
    "# TEst"
   ]
  },
  {
   "cell_type": "code",
   "execution_count": 22,
   "id": "67046bb4-4664-4a2c-be73-efc0f9af7e16",
   "metadata": {},
   "outputs": [
    {
     "data": {
      "text/html": [
       "<div>\n",
       "<style scoped>\n",
       "    .dataframe tbody tr th:only-of-type {\n",
       "        vertical-align: middle;\n",
       "    }\n",
       "\n",
       "    .dataframe tbody tr th {\n",
       "        vertical-align: top;\n",
       "    }\n",
       "\n",
       "    .dataframe thead th {\n",
       "        text-align: right;\n",
       "    }\n",
       "</style>\n",
       "<table border=\"1\" class=\"dataframe\">\n",
       "  <thead>\n",
       "    <tr style=\"text-align: right;\">\n",
       "      <th></th>\n",
       "      <th>bulk_campaign_id</th>\n",
       "      <th>client_id</th>\n",
       "      <th>message_id</th>\n",
       "      <th>event</th>\n",
       "      <th>channel</th>\n",
       "      <th>date</th>\n",
       "      <th>created_at</th>\n",
       "    </tr>\n",
       "  </thead>\n",
       "  <tbody>\n",
       "  </tbody>\n",
       "</table>\n",
       "</div>"
      ],
      "text/plain": [
       "Empty DataFrame\n",
       "Columns: [bulk_campaign_id, client_id, message_id, event, channel, date, created_at]\n",
       "Index: []"
      ]
     },
     "execution_count": 22,
     "metadata": {},
     "output_type": "execute_result"
    }
   ],
   "source": [
    "df_messages[df_messages['client_id'] == 1515915625583487888]"
   ]
  },
  {
   "cell_type": "code",
   "execution_count": 23,
   "id": "3767fe67-d739-46e8-b268-1f6fceabe62c",
   "metadata": {},
   "outputs": [
    {
     "data": {
      "text/html": [
       "<div>\n",
       "<style scoped>\n",
       "    .dataframe tbody tr th:only-of-type {\n",
       "        vertical-align: middle;\n",
       "    }\n",
       "\n",
       "    .dataframe tbody tr th {\n",
       "        vertical-align: top;\n",
       "    }\n",
       "\n",
       "    .dataframe thead th {\n",
       "        text-align: right;\n",
       "    }\n",
       "</style>\n",
       "<table border=\"1\" class=\"dataframe\">\n",
       "  <thead>\n",
       "    <tr style=\"text-align: right;\">\n",
       "      <th></th>\n",
       "      <th>client_id</th>\n",
       "      <th>quantity</th>\n",
       "      <th>price</th>\n",
       "      <th>category_ids</th>\n",
       "      <th>date</th>\n",
       "      <th>message_id</th>\n",
       "    </tr>\n",
       "  </thead>\n",
       "  <tbody>\n",
       "    <tr>\n",
       "      <th>7626</th>\n",
       "      <td>1515915625557043414</td>\n",
       "      <td>1</td>\n",
       "      <td>399.0000</td>\n",
       "      <td>['4', '28', '244', '432']</td>\n",
       "      <td>2022-06-02</td>\n",
       "      <td>1515915625489896401-4679-6297220cb21c3</td>\n",
       "    </tr>\n",
       "    <tr>\n",
       "      <th>7627</th>\n",
       "      <td>1515915625557043414</td>\n",
       "      <td>1</td>\n",
       "      <td>599.0000</td>\n",
       "      <td>['4', '28', '57', '431']</td>\n",
       "      <td>2022-06-02</td>\n",
       "      <td>1515915625489896401-4679-6297220cb21c3</td>\n",
       "    </tr>\n",
       "    <tr>\n",
       "      <th>7628</th>\n",
       "      <td>1515915625557043414</td>\n",
       "      <td>1</td>\n",
       "      <td>599.0000</td>\n",
       "      <td>['4', '28', '244', '432']</td>\n",
       "      <td>2022-06-02</td>\n",
       "      <td>1515915625489896401-4679-6297220cb21c3</td>\n",
       "    </tr>\n",
       "    <tr>\n",
       "      <th>156183</th>\n",
       "      <td>1515915625557043414</td>\n",
       "      <td>1</td>\n",
       "      <td>280.0000</td>\n",
       "      <td>['4', '28', '244', '432']</td>\n",
       "      <td>2023-07-10</td>\n",
       "      <td>1515915625489896401-13471-64abf232cf7dc</td>\n",
       "    </tr>\n",
       "    <tr>\n",
       "      <th>156184</th>\n",
       "      <td>1515915625557043414</td>\n",
       "      <td>1</td>\n",
       "      <td>280.0000</td>\n",
       "      <td>['4', '28', '244', '432']</td>\n",
       "      <td>2023-07-10</td>\n",
       "      <td>1515915625489896401-13471-64abf232cf7dc</td>\n",
       "    </tr>\n",
       "    <tr>\n",
       "      <th>156185</th>\n",
       "      <td>1515915625557043414</td>\n",
       "      <td>1</td>\n",
       "      <td>399.0000</td>\n",
       "      <td>['4', '28', '244', '432']</td>\n",
       "      <td>2023-07-10</td>\n",
       "      <td>1515915625489896401-13471-64abf232cf7dc</td>\n",
       "    </tr>\n",
       "    <tr>\n",
       "      <th>156186</th>\n",
       "      <td>1515915625557043414</td>\n",
       "      <td>1</td>\n",
       "      <td>399.0000</td>\n",
       "      <td>['4', '28', '244', '432']</td>\n",
       "      <td>2023-07-10</td>\n",
       "      <td>1515915625489896401-13471-64abf232cf7dc</td>\n",
       "    </tr>\n",
       "    <tr>\n",
       "      <th>156187</th>\n",
       "      <td>1515915625557043414</td>\n",
       "      <td>1</td>\n",
       "      <td>280.0000</td>\n",
       "      <td>['4', '28', '244', '432']</td>\n",
       "      <td>2023-07-10</td>\n",
       "      <td>1515915625489896401-13471-64abf232cf7dc</td>\n",
       "    </tr>\n",
       "    <tr>\n",
       "      <th>156188</th>\n",
       "      <td>1515915625557043414</td>\n",
       "      <td>1</td>\n",
       "      <td>3.0000</td>\n",
       "      <td>['4', '28', '244', '432']</td>\n",
       "      <td>2023-07-10</td>\n",
       "      <td>1515915625489896401-13471-64abf232cf7dc</td>\n",
       "    </tr>\n",
       "  </tbody>\n",
       "</table>\n",
       "</div>"
      ],
      "text/plain": [
       "                  client_id  quantity    price               category_ids  \\\n",
       "7626    1515915625557043414         1 399.0000  ['4', '28', '244', '432']   \n",
       "7627    1515915625557043414         1 599.0000   ['4', '28', '57', '431']   \n",
       "7628    1515915625557043414         1 599.0000  ['4', '28', '244', '432']   \n",
       "156183  1515915625557043414         1 280.0000  ['4', '28', '244', '432']   \n",
       "156184  1515915625557043414         1 280.0000  ['4', '28', '244', '432']   \n",
       "156185  1515915625557043414         1 399.0000  ['4', '28', '244', '432']   \n",
       "156186  1515915625557043414         1 399.0000  ['4', '28', '244', '432']   \n",
       "156187  1515915625557043414         1 280.0000  ['4', '28', '244', '432']   \n",
       "156188  1515915625557043414         1   3.0000  ['4', '28', '244', '432']   \n",
       "\n",
       "              date                               message_id  \n",
       "7626    2022-06-02   1515915625489896401-4679-6297220cb21c3  \n",
       "7627    2022-06-02   1515915625489896401-4679-6297220cb21c3  \n",
       "7628    2022-06-02   1515915625489896401-4679-6297220cb21c3  \n",
       "156183  2023-07-10  1515915625489896401-13471-64abf232cf7dc  \n",
       "156184  2023-07-10  1515915625489896401-13471-64abf232cf7dc  \n",
       "156185  2023-07-10  1515915625489896401-13471-64abf232cf7dc  \n",
       "156186  2023-07-10  1515915625489896401-13471-64abf232cf7dc  \n",
       "156187  2023-07-10  1515915625489896401-13471-64abf232cf7dc  \n",
       "156188  2023-07-10  1515915625489896401-13471-64abf232cf7dc  "
      ]
     },
     "execution_count": 23,
     "metadata": {},
     "output_type": "execute_result"
    }
   ],
   "source": [
    "df_purchases[df_purchases['client_id'] == 1515915625557043414]"
   ]
  },
  {
   "cell_type": "code",
   "execution_count": 24,
   "id": "9b1590f4-96b2-4706-93b7-08ff069457e0",
   "metadata": {},
   "outputs": [
    {
     "data": {
      "text/plain": [
       "(202208, 7)"
      ]
     },
     "execution_count": 24,
     "metadata": {},
     "output_type": "execute_result"
    }
   ],
   "source": [
    "df_test = pd.merge(df_target, df_purchases, how=\"left\", on='client_id')\n",
    "df_test.shape"
   ]
  },
  {
   "cell_type": "markdown",
   "id": "640a781d-9bd0-49cc-bbfc-49f31a1b108e",
   "metadata": {},
   "source": [
    "# Изучение признаков."
   ]
  },
  {
   "cell_type": "markdown",
   "id": "a6654580-c1ca-4b1c-b590-e3b9da9d510e",
   "metadata": {},
   "source": [
    "Посмотрим на состав признаков каждого из основных датафреймов (`df_messages`, `df_purchases`, `df_target`)"
   ]
  },
  {
   "cell_type": "code",
   "execution_count": 27,
   "id": "11409aff-b3f6-4bd1-9fd1-d479bd3f36b0",
   "metadata": {},
   "outputs": [],
   "source": [
    "# функция отображения информации о категориальном признаке\n",
    "# количестве символов в значении\n",
    "def str_feature_info(df, feature):\n",
    "    lengths = df[feature].apply(lambda x: len(x) if pd.notna(x) else np.nan)\n",
    "    print(lengths.describe())"
   ]
  },
  {
   "cell_type": "code",
   "execution_count": 28,
   "id": "d04cdbb7-fe62-4782-a67d-841b674a0bf4",
   "metadata": {},
   "outputs": [],
   "source": [
    "# функция построения диаграммы распределения признака\n",
    "def custom_bar(df, feature):\n",
    "    sns.set(\n",
    "        context='notebook',\n",
    "        style='darkgrid',\n",
    "        palette='deep',\n",
    "        font='sans-serif',\n",
    "        font_scale=1,\n",
    "        color_codes=False,\n",
    "        rc=None\n",
    "    )\n",
    "    data = df[feature].value_counts().reset_index()\n",
    "    data.columns=['value', 'counts']\n",
    "    sns.barplot(\n",
    "        x='value',\n",
    "        y='counts',\n",
    "        data=data\n",
    "    )\n",
    "    plt.title(f'Гистограмма распределения признака {feature}')\n",
    "    plt.xticks(rotation=0)\n",
    "    plt.xlabel('Значения')\n",
    "    plt.ylabel('Частота')\n",
    "    plt.show()"
   ]
  },
  {
   "cell_type": "code",
   "execution_count": 29,
   "id": "1969a1cb-0963-4336-aaeb-f13ee6786f13",
   "metadata": {},
   "outputs": [],
   "source": [
    "# выводит тип признака с оформлением\n",
    "def feature_type(df, feature):\n",
    "    print(f'Тип признака {feature} - {df[feature].dtype}')"
   ]
  },
  {
   "cell_type": "code",
   "execution_count": 30,
   "id": "772a3c91-4c50-4882-b82a-0b3d2dd99a5f",
   "metadata": {},
   "outputs": [],
   "source": [
    "# функция поиска пропусков в датафреймах\n",
    "def nan_check(*arg):\n",
    "    for i, item in enumerate(arg):\n",
    "        check = item.isna().sum().sum()\n",
    "        print(f'В датафрейме №{i+1} найдено {check} пропусков')\n",
    "        percent_missing = round(item.isnull().sum() * 100 / len(item), 3)\n",
    "        if check:\n",
    "            print(pd.concat([item.isna().sum(), percent_missing], keys=['Количество', 'Процент'], axis=1), '\\n')"
   ]
  },
  {
   "cell_type": "markdown",
   "id": "dc37cc63-2ba1-4bd5-aeab-10095ed8b3bb",
   "metadata": {},
   "source": [
    "## df_messages"
   ]
  },
  {
   "cell_type": "markdown",
   "id": "c0ab9efd-b7a5-487c-a1ab-5ca127068ddd",
   "metadata": {},
   "source": [
    "Признаки:\n",
    "* `bulk_campaign_id` - идентификатор рассылки\n",
    "* `client_id` - идентификатор клиента\n",
    "* `message_id` - идентификатор сообщения\n",
    "* `event` - действие с сообщением (отправлено, открыто, покупка…)\n",
    "* `channel` - канал рассылки\n",
    "* `date` - дата действия\n",
    "* `created_at` - дата-время полностью "
   ]
  },
  {
   "cell_type": "markdown",
   "id": "10608b0b-6ab5-4c86-9755-7fb6902cd90f",
   "metadata": {},
   "source": [
    "### bulk_campaign_id"
   ]
  },
  {
   "cell_type": "code",
   "execution_count": 34,
   "id": "0479e986-a10c-4cb5-a9ee-74a877dc2264",
   "metadata": {},
   "outputs": [
    {
     "name": "stdout",
     "output_type": "stream",
     "text": [
      "Тип признака bulk_campaign_id - int64\n"
     ]
    }
   ],
   "source": [
    "feature_type(df_messages, 'bulk_campaign_id')"
   ]
  },
  {
   "cell_type": "code",
   "execution_count": 35,
   "id": "3ea76655-212d-4c93-985e-4d1f62ea9108",
   "metadata": {},
   "outputs": [
    {
     "name": "stdout",
     "output_type": "stream",
     "text": [
      "Количество уникальных значений признака - 2709\n"
     ]
    }
   ],
   "source": [
    "print(f'Количество уникальных значений признака - {len(df_messages[\"bulk_campaign_id\"].unique())}')"
   ]
  },
  {
   "cell_type": "code",
   "execution_count": 36,
   "id": "31cac827-e7d1-443b-9c9b-07776420f099",
   "metadata": {},
   "outputs": [
    {
     "data": {
      "text/plain": [
       "count   12739798.0000\n",
       "mean       11604.5876\n",
       "std         3259.2111\n",
       "min          548.0000\n",
       "25%         8746.0000\n",
       "50%        13516.0000\n",
       "75%        14158.0000\n",
       "max        14657.0000\n",
       "Name: bulk_campaign_id, dtype: float64"
      ]
     },
     "execution_count": 36,
     "metadata": {},
     "output_type": "execute_result"
    }
   ],
   "source": [
    "df_messages['bulk_campaign_id'].describe()"
   ]
  },
  {
   "cell_type": "code",
   "execution_count": 37,
   "id": "51d583bb-edd4-496a-8d78-1c683b992ac3",
   "metadata": {},
   "outputs": [
    {
     "data": {
      "text/plain": [
       "bulk_campaign_id\n",
       "14272    104479\n",
       "14276     63826\n",
       "4679      50621\n",
       "11760     45985\n",
       "14081     44884\n",
       "          ...  \n",
       "1080          1\n",
       "548           1\n",
       "4478          1\n",
       "754           1\n",
       "4899          1\n",
       "Name: count, Length: 2709, dtype: int64"
      ]
     },
     "execution_count": 37,
     "metadata": {},
     "output_type": "execute_result"
    }
   ],
   "source": [
    "df_messages['bulk_campaign_id'].value_counts()"
   ]
  },
  {
   "cell_type": "markdown",
   "id": "b9dcbfd5-956d-4abc-9865-3680bc56a7d4",
   "metadata": {},
   "source": [
    "* Всего было `2709` рекламных компаний.\n",
    "* Аномально больших или маленьких значений нет, ни в значении признака ни в его распределении (нулевых значений нет)."
   ]
  },
  {
   "cell_type": "markdown",
   "id": "62055904-0509-4cf0-9cca-6ab9753448f7",
   "metadata": {},
   "source": [
    "### client_id"
   ]
  },
  {
   "cell_type": "code",
   "execution_count": 40,
   "id": "e4c70773-33f5-4381-b229-0ee6d877fa30",
   "metadata": {},
   "outputs": [
    {
     "name": "stdout",
     "output_type": "stream",
     "text": [
      "Тип признака client_id - int64\n"
     ]
    }
   ],
   "source": [
    "feature_type(df_messages, 'client_id')"
   ]
  },
  {
   "cell_type": "code",
   "execution_count": 41,
   "id": "4c3b42d7-93a6-4604-a7ff-d0bffc7907bd",
   "metadata": {},
   "outputs": [
    {
     "name": "stdout",
     "output_type": "stream",
     "text": [
      "Количество уникальных значений признака - 53329\n"
     ]
    }
   ],
   "source": [
    "print(f'Количество уникальных значений признака - {len(df_messages[\"client_id\"].unique())}')"
   ]
  },
  {
   "cell_type": "code",
   "execution_count": 42,
   "id": "52dc70a6-3561-45cc-bcee-ea2cf2a73d19",
   "metadata": {},
   "outputs": [
    {
     "data": {
      "text/plain": [
       "count              12739798.0000\n",
       "mean    1515915625574831616.0000\n",
       "std               326551798.1577\n",
       "min     1515915625468060928.0000\n",
       "25%     1515915625489149440.0000\n",
       "50%     1515915625503432192.0000\n",
       "75%     1515915625591286272.0000\n",
       "max     1515915626010288640.0000\n",
       "Name: client_id, dtype: float64"
      ]
     },
     "execution_count": 42,
     "metadata": {},
     "output_type": "execute_result"
    }
   ],
   "source": [
    "df_messages['client_id'].describe()"
   ]
  },
  {
   "cell_type": "code",
   "execution_count": 43,
   "id": "4beec6dc-04d6-48a8-9bba-e31bd6915dc7",
   "metadata": {},
   "outputs": [
    {
     "data": {
      "text/plain": [
       "client_id\n",
       "1515915625516327994    3100\n",
       "1515915625625548006    3090\n",
       "1515915625804998560    2764\n",
       "1515915625489071904    1845\n",
       "1515915625489095763    1454\n",
       "                       ... \n",
       "1515915625550299889       1\n",
       "1515915625977549113       1\n",
       "1515915625840706531       1\n",
       "1515915625586111659       1\n",
       "1515915625577289455       1\n",
       "Name: count, Length: 53329, dtype: int64"
      ]
     },
     "execution_count": 43,
     "metadata": {},
     "output_type": "execute_result"
    }
   ],
   "source": [
    "df_messages['client_id'].value_counts()"
   ]
  },
  {
   "cell_type": "markdown",
   "id": "713d11a4-d740-4eb7-9e1a-9ac461c05b7e",
   "metadata": {},
   "source": [
    "* Всего уникальных пользователей в рассылках `53329`.\n",
    "* Все ID имеют одно количество символов в значении.\n",
    "* В распределении признака аномально больших значений нет."
   ]
  },
  {
   "cell_type": "markdown",
   "id": "e798db88-52e5-439b-8be2-1a97f005c08e",
   "metadata": {},
   "source": [
    "### message_id"
   ]
  },
  {
   "cell_type": "code",
   "execution_count": 46,
   "id": "41b44fba-ff8c-4654-ab4b-a491f7957c39",
   "metadata": {},
   "outputs": [
    {
     "name": "stdout",
     "output_type": "stream",
     "text": [
      "Тип признака message_id - object\n"
     ]
    }
   ],
   "source": [
    "feature_type(df_messages, 'message_id')"
   ]
  },
  {
   "cell_type": "code",
   "execution_count": 47,
   "id": "68962b55-6ac9-4895-b644-f4952842b21e",
   "metadata": {},
   "outputs": [
    {
     "data": {
      "text/plain": [
       "5232265    1515915625487459752-12838-646efa62d23a8\n",
       "3779406     1515915625600271211-9615-63d12c44d2696\n",
       "9353703    1515915625581452108-14118-6554b050e8dd3\n",
       "Name: message_id, dtype: object"
      ]
     },
     "execution_count": 47,
     "metadata": {},
     "output_type": "execute_result"
    }
   ],
   "source": [
    "df_messages['message_id'].sample(3)"
   ]
  },
  {
   "cell_type": "code",
   "execution_count": 48,
   "id": "0f1dca19-b27a-470d-b1b8-deb5a1fa48ac",
   "metadata": {},
   "outputs": [
    {
     "name": "stdout",
     "output_type": "stream",
     "text": [
      "Количество уникальных значений признака - 9061667\n"
     ]
    }
   ],
   "source": [
    "print(f'Количество уникальных значений признака - {len(df_messages[\"message_id\"].unique())}')"
   ]
  },
  {
   "cell_type": "code",
   "execution_count": 49,
   "id": "8524cea5-26e3-43c8-a485-612cf00ff41e",
   "metadata": {},
   "outputs": [
    {
     "name": "stdout",
     "output_type": "stream",
     "text": [
      "count   12739798.0000\n",
      "mean          38.6882\n",
      "std            0.4632\n",
      "min           37.0000\n",
      "25%           38.0000\n",
      "50%           39.0000\n",
      "75%           39.0000\n",
      "max           39.0000\n",
      "Name: message_id, dtype: float64\n"
     ]
    }
   ],
   "source": [
    "str_feature_info(df_messages, 'message_id')"
   ]
  },
  {
   "cell_type": "markdown",
   "id": "67cc67d0-6e2b-47fb-acd2-97c701ecf1ec",
   "metadata": {},
   "source": [
    "* Уникальных значений сообщений `9_061_667`\n",
    "* ID сообщения судя по всему представляет собой комбинацию из ID пользователя, ID рассылки и еще какого-то идентификатора (возможно ID самой сообщения).\n",
    "* Все идентификаторы содержат `37-39` символов.\n",
    "* Аномальных значений нет."
   ]
  },
  {
   "cell_type": "markdown",
   "id": "46377a8a-7265-4142-973e-ca6adecdc6ef",
   "metadata": {},
   "source": [
    "### event"
   ]
  },
  {
   "cell_type": "code",
   "execution_count": 52,
   "id": "975b61a2-4e70-4f88-a9b4-f3cf657fdbf3",
   "metadata": {},
   "outputs": [
    {
     "name": "stdout",
     "output_type": "stream",
     "text": [
      "Тип признака event - object\n"
     ]
    }
   ],
   "source": [
    "feature_type(df_messages, 'event')"
   ]
  },
  {
   "cell_type": "code",
   "execution_count": 53,
   "id": "65b21daa-fe21-4795-938e-0365f9e7c190",
   "metadata": {},
   "outputs": [
    {
     "data": {
      "text/plain": [
       "8983000     send\n",
       "12137343    send\n",
       "8621173     open\n",
       "Name: event, dtype: object"
      ]
     },
     "execution_count": 53,
     "metadata": {},
     "output_type": "execute_result"
    }
   ],
   "source": [
    "df_messages['event'].sample(3)"
   ]
  },
  {
   "cell_type": "code",
   "execution_count": 54,
   "id": "aaecc50a-5ecb-4bb0-8b48-0f2c6ad60b40",
   "metadata": {},
   "outputs": [
    {
     "name": "stdout",
     "output_type": "stream",
     "text": [
      "Количество уникальных значений признака - 11\n"
     ]
    }
   ],
   "source": [
    "print(f'Количество уникальных значений признака - {len(df_messages[\"event\"].unique())}')"
   ]
  },
  {
   "cell_type": "code",
   "execution_count": 55,
   "id": "f8516516-9cf7-4147-a419-effdb8af3869",
   "metadata": {},
   "outputs": [
    {
     "data": {
      "text/plain": [
       "event\n",
       "send           9058196\n",
       "open           3085820\n",
       "click           496339\n",
       "purchase         64679\n",
       "hard_bounce      19903\n",
       "soft_bounce      10583\n",
       "unsubscribe       2841\n",
       "hbq_spam           823\n",
       "complain           528\n",
       "subscribe           85\n",
       "close                1\n",
       "Name: count, dtype: int64"
      ]
     },
     "execution_count": 55,
     "metadata": {},
     "output_type": "execute_result"
    }
   ],
   "source": [
    "df_messages['event'].value_counts()"
   ]
  },
  {
   "cell_type": "markdown",
   "id": "25902a4a-7c69-4698-a25b-745da2dff271",
   "metadata": {},
   "source": [
    "* Уникальных значений признака `11`.\n",
    "* Аномальных значений нет."
   ]
  },
  {
   "cell_type": "markdown",
   "id": "90a93b20-b611-453a-884e-0a0e30646f9b",
   "metadata": {},
   "source": [
    "### channel"
   ]
  },
  {
   "cell_type": "code",
   "execution_count": 58,
   "id": "ddde7750-b00d-441f-858a-a4a03335b3fe",
   "metadata": {},
   "outputs": [
    {
     "name": "stdout",
     "output_type": "stream",
     "text": [
      "Тип признака channel - object\n"
     ]
    }
   ],
   "source": [
    "feature_type(df_messages, 'channel')"
   ]
  },
  {
   "cell_type": "code",
   "execution_count": 59,
   "id": "8a399933-f234-4360-ad71-ccc4fdf06180",
   "metadata": {},
   "outputs": [
    {
     "data": {
      "text/plain": [
       "5681399     mobile_push\n",
       "11752027    mobile_push\n",
       "5462049           email\n",
       "Name: channel, dtype: object"
      ]
     },
     "execution_count": 59,
     "metadata": {},
     "output_type": "execute_result"
    }
   ],
   "source": [
    "df_messages['channel'].sample(3)"
   ]
  },
  {
   "cell_type": "code",
   "execution_count": 60,
   "id": "89115285-ff08-4831-93d6-0f7683a867bc",
   "metadata": {},
   "outputs": [
    {
     "name": "stdout",
     "output_type": "stream",
     "text": [
      "Количество уникальных значений признака - 2\n"
     ]
    }
   ],
   "source": [
    "print(f'Количество уникальных значений признака - {len(df_messages[\"channel\"].unique())}')"
   ]
  },
  {
   "cell_type": "code",
   "execution_count": 61,
   "id": "9152d85f-388b-4005-8e9f-87117e681f4d",
   "metadata": {},
   "outputs": [
    {
     "data": {
      "image/png": "[encoded data removed]",
      "text/plain": [
       "<Figure size 640x480 with 1 Axes>"
      ]
     },
     "metadata": {},
     "output_type": "display_data"
    }
   ],
   "source": [
    "custom_bar(df_messages, 'channel')"
   ]
  },
  {
   "cell_type": "markdown",
   "id": "b74f5a3c-938f-4ef9-be0c-d98b857db3cb",
   "metadata": {},
   "source": [
    "* Уникальных значений `2`.\n",
    "* Распределение признака примерно `60% - mobile_push` и `40% - email`.\n",
    "* Аномальных значений нет."
   ]
  },
  {
   "cell_type": "markdown",
   "id": "b948baf2-80fe-4e88-b5f9-272d19723c2d",
   "metadata": {},
   "source": [
    "### date"
   ]
  },
  {
   "cell_type": "code",
   "execution_count": 64,
   "id": "238926c8-103a-42bb-8a6b-50dc4046fb89",
   "metadata": {},
   "outputs": [
    {
     "name": "stdout",
     "output_type": "stream",
     "text": [
      "Тип признака date - object\n"
     ]
    }
   ],
   "source": [
    "feature_type(df_messages, 'date')"
   ]
  },
  {
   "cell_type": "code",
   "execution_count": 65,
   "id": "ae08f799-aae6-4224-a8c0-060db46da848",
   "metadata": {},
   "outputs": [
    {
     "data": {
      "text/plain": [
       "2060638     2022-10-21\n",
       "7059594     2023-08-18\n",
       "11537369    2024-01-13\n",
       "Name: date, dtype: object"
      ]
     },
     "execution_count": 65,
     "metadata": {},
     "output_type": "execute_result"
    }
   ],
   "source": [
    "df_messages['date'].sample(3)"
   ]
  },
  {
   "cell_type": "code",
   "execution_count": 66,
   "id": "7465cb23-9dd3-4eaf-83da-28480c5a11e8",
   "metadata": {},
   "outputs": [
    {
     "name": "stdout",
     "output_type": "stream",
     "text": [
      "count   12739798.0000\n",
      "mean          10.0000\n",
      "std            0.0000\n",
      "min           10.0000\n",
      "25%           10.0000\n",
      "50%           10.0000\n",
      "75%           10.0000\n",
      "max           10.0000\n",
      "Name: date, dtype: float64\n"
     ]
    }
   ],
   "source": [
    "str_feature_info(df_messages, 'date')"
   ]
  },
  {
   "cell_type": "code",
   "execution_count": 67,
   "id": "c7ff4752-c4ea-4113-a098-f52a6130c051",
   "metadata": {},
   "outputs": [],
   "source": [
    "df_messages['date'] = pd.to_datetime(df_messages['date'])"
   ]
  },
  {
   "cell_type": "code",
   "execution_count": 68,
   "id": "74825cad-d328-4bf3-ac83-b56243e75725",
   "metadata": {},
   "outputs": [
    {
     "name": "stdout",
     "output_type": "stream",
     "text": [
      "Тип признака date - datetime64[ns]\n"
     ]
    }
   ],
   "source": [
    "feature_type(df_messages, 'date')"
   ]
  },
  {
   "cell_type": "markdown",
   "id": "7292ad92-b081-402f-83af-fcb4c024e200",
   "metadata": {},
   "source": [
    "* Несовпадение значения с типом признака (нужен datetime).\n",
    "* Все значения имеют длину `10` символов.\n",
    "* Аномальных значений нет.\n",
    "* Преобразован в datetime."
   ]
  },
  {
   "cell_type": "markdown",
   "id": "22cda052-ced8-4f6f-ac42-844e2cbbbd34",
   "metadata": {},
   "source": [
    "### created_at"
   ]
  },
  {
   "cell_type": "code",
   "execution_count": 71,
   "id": "d5db54a3-a435-478d-871d-8de3ab3c6448",
   "metadata": {},
   "outputs": [
    {
     "name": "stdout",
     "output_type": "stream",
     "text": [
      "Тип признака created_at - object\n"
     ]
    }
   ],
   "source": [
    "feature_type(df_messages, 'created_at')"
   ]
  },
  {
   "cell_type": "code",
   "execution_count": 72,
   "id": "eb8dd11a-7a93-4bea-805d-82b9cbfd77de",
   "metadata": {},
   "outputs": [
    {
     "data": {
      "text/plain": [
       "10459107    2023-12-16 14:19:33\n",
       "4244975     2023-03-03 13:23:46\n",
       "8609708     2023-10-19 06:06:02\n",
       "Name: created_at, dtype: object"
      ]
     },
     "execution_count": 72,
     "metadata": {},
     "output_type": "execute_result"
    }
   ],
   "source": [
    "df_messages['created_at'].sample(3)"
   ]
  },
  {
   "cell_type": "code",
   "execution_count": 73,
   "id": "4a4a4b9b-5815-4b4a-95b0-3a2a4a00c5c8",
   "metadata": {},
   "outputs": [
    {
     "name": "stdout",
     "output_type": "stream",
     "text": [
      "count   12739798.0000\n",
      "mean          19.0000\n",
      "std            0.0000\n",
      "min           19.0000\n",
      "25%           19.0000\n",
      "50%           19.0000\n",
      "75%           19.0000\n",
      "max           19.0000\n",
      "Name: created_at, dtype: float64\n"
     ]
    }
   ],
   "source": [
    "str_feature_info(df_messages, 'created_at')"
   ]
  },
  {
   "cell_type": "code",
   "execution_count": 74,
   "id": "240b7606-c669-435e-bffb-f6bc4ebd5ae7",
   "metadata": {},
   "outputs": [
    {
     "name": "stdout",
     "output_type": "stream",
     "text": [
      "Тип признака created_at - datetime64[ns]\n"
     ]
    }
   ],
   "source": [
    "df_messages['created_at'] = pd.to_datetime(df_messages['created_at'])\n",
    "feature_type(df_messages, 'created_at')"
   ]
  },
  {
   "cell_type": "markdown",
   "id": "d38200a6-d13c-46e3-a300-8ef207d5031c",
   "metadata": {},
   "source": [
    "* Несовпадение значения с типом признака (нужен datetime).\n",
    "* Все значения имеют длину `19` символов.\n",
    "* Аномальных значений нет.\n",
    "* Признак будет полезен для поиска явных дублей.\n",
    "* Преобразован в datetime."
   ]
  },
  {
   "cell_type": "markdown",
   "id": "eaf316a4-5f22-41ef-8a02-4cab9bd83bc1",
   "metadata": {},
   "source": [
    "### Пропуски."
   ]
  },
  {
   "cell_type": "code",
   "execution_count": 77,
   "id": "4a969bb1-132f-4ea3-a5a3-ed97521955ae",
   "metadata": {},
   "outputs": [
    {
     "name": "stdout",
     "output_type": "stream",
     "text": [
      "В датафрейме №1 найдено 0 пропусков\n"
     ]
    }
   ],
   "source": [
    "nan_check(df_messages)"
   ]
  },
  {
   "cell_type": "markdown",
   "id": "cba16a0b-e796-4e5d-96a7-ee71f2db8c6c",
   "metadata": {},
   "source": [
    "### Дубликаты."
   ]
  },
  {
   "cell_type": "code",
   "execution_count": 79,
   "id": "2cf51fcf-85cd-42fa-8f70-348a6ddc6cb8",
   "metadata": {},
   "outputs": [
    {
     "name": "stdout",
     "output_type": "stream",
     "text": [
      "Количество явных дублей в датафрейме df_messages - 48610\n"
     ]
    }
   ],
   "source": [
    "print(f'Количество явных дублей в датафрейме df_messages - {df_messages.duplicated().sum()}')"
   ]
  },
  {
   "cell_type": "markdown",
   "id": "1228a52e-dfa9-413e-9343-1b54e9e065c9",
   "metadata": {},
   "source": [
    "## df_purchases"
   ]
  },
  {
   "cell_type": "markdown",
   "id": "0f12fdc6-360a-4655-8cde-7b74177577fd",
   "metadata": {},
   "source": [
    "Признаки:\n",
    "* `client_id` - идентификатор клиента (**int**)\n",
    "* `quantity` - количество единиц товара (**int**)\n",
    "* `price` - цена товара (**float**)\n",
    "* `category_ids` - идентификаторы категорий (**object**)\n",
    "* `date` - дата покупки (**object**)\n",
    "* `message_id` - идентификатор сообщения из рассылки (**object**)"
   ]
  },
  {
   "cell_type": "markdown",
   "id": "fe090a5f-ad3e-4883-becb-9504925874dd",
   "metadata": {},
   "source": [
    "### client_id"
   ]
  },
  {
   "cell_type": "code",
   "execution_count": 83,
   "id": "0547e424-e5a4-4170-9ea3-8ece29910a7d",
   "metadata": {},
   "outputs": [
    {
     "name": "stdout",
     "output_type": "stream",
     "text": [
      "Количество уникальных значений признака - 49849\n"
     ]
    }
   ],
   "source": [
    "print(f'Количество уникальных значений признака - {len(df_purchases[\"client_id\"].unique())}')"
   ]
  },
  {
   "cell_type": "code",
   "execution_count": 84,
   "id": "35b91ffb-b6e7-4544-8dd4-5c837501b60a",
   "metadata": {},
   "outputs": [
    {
     "data": {
      "text/plain": [
       "count                202208.0000\n",
       "mean    1515915625596210944.0000\n",
       "std               145951436.3692\n",
       "min     1515915625468060928.0000\n",
       "25%     1515915625490081280.0000\n",
       "50%     1515915625557177088.0000\n",
       "75%     1515915625624391936.0000\n",
       "max     1515915626010443520.0000\n",
       "Name: client_id, dtype: float64"
      ]
     },
     "execution_count": 84,
     "metadata": {},
     "output_type": "execute_result"
    }
   ],
   "source": [
    "df_purchases['client_id'].describe()"
   ]
  },
  {
   "cell_type": "code",
   "execution_count": 85,
   "id": "a079bdf7-568d-4d50-9eff-709188471030",
   "metadata": {},
   "outputs": [
    {
     "data": {
      "text/plain": [
       "client_id\n",
       "1515915625853312319    346\n",
       "1515915625624308268    218\n",
       "1515915625607113301    210\n",
       "1515915625500232103    131\n",
       "1515915625470860261    131\n",
       "                      ... \n",
       "1515915625559962326      1\n",
       "1515915625559941251      1\n",
       "1515915625468133517      1\n",
       "1515915625559866916      1\n",
       "1515915626010443624      1\n",
       "Name: count, Length: 49849, dtype: int64"
      ]
     },
     "execution_count": 85,
     "metadata": {},
     "output_type": "execute_result"
    }
   ],
   "source": [
    "df_purchases['client_id'].value_counts()"
   ]
  },
  {
   "cell_type": "markdown",
   "id": "ad0ed7ed-f8b8-49b3-ab88-5ab0e57a1609",
   "metadata": {},
   "source": [
    "* Уникальных значений `49849`.\n",
    "* Все ID имеют одинаковое количество символов.\n",
    "* Аномальных значений нет."
   ]
  },
  {
   "cell_type": "markdown",
   "id": "17645455-7174-4caa-841c-5329e9af0c0d",
   "metadata": {},
   "source": [
    "### quantity"
   ]
  },
  {
   "cell_type": "code",
   "execution_count": 88,
   "id": "0126e5d5-1cba-450f-8733-78939bf21b3e",
   "metadata": {},
   "outputs": [
    {
     "name": "stdout",
     "output_type": "stream",
     "text": [
      "Количество уникальных значений признака - 16\n"
     ]
    }
   ],
   "source": [
    "print(f'Количество уникальных значений признака - {len(df_purchases[\"quantity\"].unique())}')"
   ]
  },
  {
   "cell_type": "code",
   "execution_count": 89,
   "id": "02314693-8fcc-4ad6-a0e3-c9cf0bf5c85e",
   "metadata": {},
   "outputs": [
    {
     "data": {
      "text/plain": [
       "count   202208.0000\n",
       "mean         1.0065\n",
       "std          0.1844\n",
       "min          1.0000\n",
       "25%          1.0000\n",
       "50%          1.0000\n",
       "75%          1.0000\n",
       "max         30.0000\n",
       "Name: quantity, dtype: float64"
      ]
     },
     "execution_count": 89,
     "metadata": {},
     "output_type": "execute_result"
    }
   ],
   "source": [
    "df_purchases['quantity'].describe()"
   ]
  },
  {
   "cell_type": "code",
   "execution_count": 90,
   "id": "939d5c3a-c557-4a39-a0fa-e5a27c2ea479",
   "metadata": {},
   "outputs": [
    {
     "data": {
      "text/plain": [
       "quantity\n",
       "1     201323\n",
       "2        751\n",
       "3         94\n",
       "4         12\n",
       "6          5\n",
       "10         4\n",
       "20         3\n",
       "15         3\n",
       "5          3\n",
       "25         2\n",
       "30         2\n",
       "9          2\n",
       "13         1\n",
       "18         1\n",
       "8          1\n",
       "7          1\n",
       "Name: count, dtype: int64"
      ]
     },
     "execution_count": 90,
     "metadata": {},
     "output_type": "execute_result"
    }
   ],
   "source": [
    "df_purchases['quantity'].value_counts()"
   ]
  },
  {
   "cell_type": "markdown",
   "id": "c9f538f6-d726-4c8d-8ecc-4b15e5d0268f",
   "metadata": {},
   "source": [
    "* Уникальных значений признака `16`.\n",
    "* Признак имеет распределение от `1 до 30`.\n",
    "* Аномльно высоких и нулевых значений нет."
   ]
  },
  {
   "cell_type": "markdown",
   "id": "c7a88085-bcdb-4283-82e5-28e739e03c71",
   "metadata": {},
   "source": [
    "### price"
   ]
  },
  {
   "cell_type": "code",
   "execution_count": 93,
   "id": "aff8767e-a6ac-4131-b1db-1d8b32a20aed",
   "metadata": {},
   "outputs": [
    {
     "data": {
      "text/plain": [
       "count   202208.0000\n",
       "mean      1193.3015\n",
       "std       1342.2527\n",
       "min          1.0000\n",
       "25%        352.0000\n",
       "50%        987.0000\n",
       "75%       1699.0000\n",
       "max      85499.0000\n",
       "Name: price, dtype: float64"
      ]
     },
     "execution_count": 93,
     "metadata": {},
     "output_type": "execute_result"
    }
   ],
   "source": [
    "df_purchases['price'].describe()"
   ]
  },
  {
   "cell_type": "code",
   "execution_count": 94,
   "id": "7b0b3188-3107-409e-9c84-eee8a1bb5619",
   "metadata": {},
   "outputs": [
    {
     "data": {
      "image/png": "[encoded data removed]",
      "text/plain": [
       "<Figure size 640x480 with 1 Axes>"
      ]
     },
     "metadata": {},
     "output_type": "display_data"
    }
   ],
   "source": [
    "# посмотрим распределение признака ниже 75-го процентиля\n",
    "plt.hist(df_purchases[df_purchases['price'] < df_purchases['price'].quantile(.75)]['price'], bins=50)\n",
    "plt.xlabel('Значения')\n",
    "plt.ylabel('Частота')\n",
    "plt.title('Диаграмма распределения признака price (меньше 75 процентиля)')\n",
    "plt.show()"
   ]
  },
  {
   "cell_type": "markdown",
   "id": "9c93ea12-c9a1-4462-886a-02abd7667927",
   "metadata": {},
   "source": [
    "* Нулевых значенйи цены нет.\n",
    "* Высокие значения цены лежат выше 75-го процентиля.\n",
    "* Нет нормального распределения признака.\n",
    "* Аномально высоких значений нет."
   ]
  },
  {
   "cell_type": "markdown",
   "id": "e100f344-ef0d-41e2-8f77-516bb271f7c5",
   "metadata": {},
   "source": [
    "### category_ids"
   ]
  },
  {
   "cell_type": "code",
   "execution_count": 97,
   "id": "c9e2dcc5-8dc4-4afd-a9dd-ab4b511aa260",
   "metadata": {},
   "outputs": [
    {
     "data": {
      "text/plain": [
       "3811            ['2', '18', '274', '450']\n",
       "115187          ['4', '27', '138', '468']\n",
       "87677     ['5562', '5630', '5687', '558']\n",
       "Name: category_ids, dtype: object"
      ]
     },
     "execution_count": 97,
     "metadata": {},
     "output_type": "execute_result"
    }
   ],
   "source": [
    "df_purchases['category_ids'].sample(3)"
   ]
  },
  {
   "cell_type": "code",
   "execution_count": 98,
   "id": "15d8078a-08b0-4660-bb31-f2aeb8d2f326",
   "metadata": {},
   "outputs": [
    {
     "name": "stdout",
     "output_type": "stream",
     "text": [
      "Количество уникальных значений признака - 933\n"
     ]
    }
   ],
   "source": [
    "print(f'Количество уникальных значений признака - {len(df_purchases[\"category_ids\"].unique())}')"
   ]
  },
  {
   "cell_type": "code",
   "execution_count": 99,
   "id": "cdf6aed7-68f4-4bc1-a46a-24aec456e837",
   "metadata": {},
   "outputs": [
    {
     "name": "stdout",
     "output_type": "stream",
     "text": [
      "count   202208.0000\n",
      "mean        25.9967\n",
      "std          5.3042\n",
      "min          2.0000\n",
      "25%         25.0000\n",
      "50%         25.0000\n",
      "75%         31.0000\n",
      "max         32.0000\n",
      "Name: category_ids, dtype: float64\n"
     ]
    }
   ],
   "source": [
    "str_feature_info(df_purchases, 'category_ids')"
   ]
  },
  {
   "cell_type": "markdown",
   "id": "e16f12dc-c8d2-4ad5-ad59-abfbe408c4dd",
   "metadata": {},
   "source": [
    "* Уникальных комбинаций категорий `933`.\n",
    "* Минимальная длина признака 2, с учетом квадратных скобок это значит, что признак не содержит никаких категорий. Вероятно на момент выгрузки таких категорий уже не существовало. Такие значения можно приравнять к пропускам.\n",
    "* Из задания известно, что вложенность категорий может меняться. Первоначальное предложение заменить признак на два новых: Основная категория и последняя. Тогда незначительные изменения дерева категорий не повлияют на значения этих признаков."
   ]
  },
  {
   "cell_type": "markdown",
   "id": "bf9669c6-e6e7-4bf4-b3bc-0b2873e18fb9",
   "metadata": {},
   "source": [
    "### date"
   ]
  },
  {
   "cell_type": "code",
   "execution_count": 102,
   "id": "b6ee6d12-945f-43e8-ae36-fcf6c379814a",
   "metadata": {},
   "outputs": [
    {
     "data": {
      "text/plain": [
       "119365    2023-05-06\n",
       "128882    2023-06-06\n",
       "80069     2022-12-29\n",
       "Name: date, dtype: object"
      ]
     },
     "execution_count": 102,
     "metadata": {},
     "output_type": "execute_result"
    }
   ],
   "source": [
    "df_purchases['date'].sample(3)"
   ]
  },
  {
   "cell_type": "code",
   "execution_count": 103,
   "id": "ab7085d2-fbd4-4a87-b4c5-f9a273b73c80",
   "metadata": {},
   "outputs": [
    {
     "name": "stdout",
     "output_type": "stream",
     "text": [
      "count   202208.0000\n",
      "mean        10.0000\n",
      "std          0.0000\n",
      "min         10.0000\n",
      "25%         10.0000\n",
      "50%         10.0000\n",
      "75%         10.0000\n",
      "max         10.0000\n",
      "Name: date, dtype: float64\n"
     ]
    }
   ],
   "source": [
    "str_feature_info(df_purchases, 'date')"
   ]
  },
  {
   "cell_type": "code",
   "execution_count": 104,
   "id": "70b8814d-f9cf-4a7c-8c92-fed18407ea13",
   "metadata": {},
   "outputs": [],
   "source": [
    "df_purchases['date'] = pd.to_datetime(df_purchases['date'])"
   ]
  },
  {
   "cell_type": "code",
   "execution_count": 105,
   "id": "5a4d9d35-2f70-4a3e-9fa9-242c4b6eda64",
   "metadata": {},
   "outputs": [
    {
     "name": "stdout",
     "output_type": "stream",
     "text": [
      "Тип признака date - datetime64[ns]\n"
     ]
    }
   ],
   "source": [
    "feature_type(df_purchases, 'date')"
   ]
  },
  {
   "cell_type": "markdown",
   "id": "c5f2ec83-2d32-49e7-adc0-57b242ac9ae6",
   "metadata": {},
   "source": [
    "* Несовпадение значения с типом признака (нужен datetime).\n",
    "* Несовпадение устранено.\n",
    "* Все значения имеют длину `10` символов.\n",
    "* Аномальных значений нет."
   ]
  },
  {
   "cell_type": "markdown",
   "id": "5d79525d-942e-40ce-9ba8-4a4fed03ddb2",
   "metadata": {},
   "source": [
    "### message_id"
   ]
  },
  {
   "cell_type": "code",
   "execution_count": 108,
   "id": "9679f34b-e38c-4475-b5b6-6d17de18144c",
   "metadata": {},
   "outputs": [
    {
     "data": {
      "text/plain": [
       "191439    1515915625609719907-14421-6593b4583d30a\n",
       "100790    1515915625468172460-11760-64367482668d2\n",
       "147180    1515915625488706454-13415-649c2f752cf04\n",
       "Name: message_id, dtype: object"
      ]
     },
     "execution_count": 108,
     "metadata": {},
     "output_type": "execute_result"
    }
   ],
   "source": [
    "df_purchases['message_id'].sample(3)"
   ]
  },
  {
   "cell_type": "code",
   "execution_count": 109,
   "id": "123b9029-002f-416b-8754-56ba95e76287",
   "metadata": {},
   "outputs": [
    {
     "name": "stdout",
     "output_type": "stream",
     "text": [
      "Количество уникальных значений признака - 50204\n"
     ]
    }
   ],
   "source": [
    "print(f'Количество уникальных значений признака - {len(df_purchases[\"message_id\"].unique())}')"
   ]
  },
  {
   "cell_type": "code",
   "execution_count": 110,
   "id": "bd80bfaa-6b97-45b9-8c04-b08f8adeafd7",
   "metadata": {},
   "outputs": [
    {
     "name": "stdout",
     "output_type": "stream",
     "text": [
      "count   202208.0000\n",
      "mean        38.5759\n",
      "std          0.4944\n",
      "min         37.0000\n",
      "25%         38.0000\n",
      "50%         39.0000\n",
      "75%         39.0000\n",
      "max         39.0000\n",
      "Name: message_id, dtype: float64\n"
     ]
    }
   ],
   "source": [
    "str_feature_info(df_purchases, 'message_id')"
   ]
  },
  {
   "cell_type": "markdown",
   "id": "261daec6-c209-421d-9364-95c4ef17c9be",
   "metadata": {},
   "source": [
    "* Уникальных значений сообщений `50_204`\n",
    "* ID сообщения судя по всему представляет собой комбинацию из ID пользователя, ID рассылки и еще какого-то идентификатора (возможно ID самой сообщения).\n",
    "* Все идентификаторы содержат `37-39` символов.\n",
    "* Аномальных значений нет."
   ]
  },
  {
   "cell_type": "markdown",
   "id": "5633f70e-2900-4c28-a208-ad71c39ed7c6",
   "metadata": {},
   "source": [
    "### Пропуски"
   ]
  },
  {
   "cell_type": "code",
   "execution_count": 113,
   "id": "93c1a5a9-78df-4f55-afc7-f4e13a8084d4",
   "metadata": {},
   "outputs": [
    {
     "name": "stdout",
     "output_type": "stream",
     "text": [
      "В датафрейме №1 найдено 0 пропусков\n"
     ]
    }
   ],
   "source": [
    "nan_check(df_purchases)"
   ]
  },
  {
   "cell_type": "markdown",
   "id": "c690f7ec-9e59-4368-8783-11429c94b326",
   "metadata": {},
   "source": [
    "### Дубликаты."
   ]
  },
  {
   "cell_type": "code",
   "execution_count": 115,
   "id": "6992a641-2957-487e-b090-7954e1a0e0df",
   "metadata": {},
   "outputs": [
    {
     "name": "stdout",
     "output_type": "stream",
     "text": [
      "Количество явных дублей в датафрейме df_purchases - 73020\n"
     ]
    }
   ],
   "source": [
    "print(f'Количество явных дублей в датафрейме df_purchases - {df_purchases.duplicated().sum()}')"
   ]
  },
  {
   "cell_type": "markdown",
   "id": "c913cd9b-cb5f-4992-b1a3-1c25332921e9",
   "metadata": {},
   "source": [
    "## df_target"
   ]
  },
  {
   "cell_type": "markdown",
   "id": "5987e6ef-056b-47c4-a7b7-6d8a11b3c4a0",
   "metadata": {},
   "source": [
    "Признаки:\n",
    "* `client_id` - идентификатор клиента (**int**)\n",
    "* `target` - клиент совершил покупку в целевом период (**int**)"
   ]
  },
  {
   "cell_type": "markdown",
   "id": "43008b32-83ac-470e-a32e-61cd2773fd06",
   "metadata": {},
   "source": [
    "### client_id"
   ]
  },
  {
   "cell_type": "code",
   "execution_count": 119,
   "id": "f5fc4fa7-b565-4a5c-8851-5fad5c41d5aa",
   "metadata": {},
   "outputs": [
    {
     "data": {
      "text/plain": [
       "count                 49849.0000\n",
       "mean    1515915625598796032.0000\n",
       "std               148794665.0851\n",
       "min     1515915625468060928.0000\n",
       "25%     1515915625489972736.0000\n",
       "50%     1515915625556614912.0000\n",
       "75%     1515915625633408768.0000\n",
       "max     1515915626010443520.0000\n",
       "Name: client_id, dtype: float64"
      ]
     },
     "execution_count": 119,
     "metadata": {},
     "output_type": "execute_result"
    }
   ],
   "source": [
    "df_target['client_id'].describe()"
   ]
  },
  {
   "cell_type": "code",
   "execution_count": 120,
   "id": "eafdd504-dae7-43f4-a2f0-2ae50b598204",
   "metadata": {},
   "outputs": [
    {
     "name": "stdout",
     "output_type": "stream",
     "text": [
      "Количество дубликатов признака client_id - 0\n"
     ]
    }
   ],
   "source": [
    "print(f'Количество дубликатов признака client_id - {df_target[\"client_id\"].duplicated().sum()}')"
   ]
  },
  {
   "cell_type": "markdown",
   "id": "f6b39403-9c9f-45ee-a173-779d83f89d13",
   "metadata": {},
   "source": [
    "* Уникальных значений `49849`.\n",
    "* Все ID имеют одинаковое количество символов.\n",
    "* Аномальных значений нет."
   ]
  },
  {
   "cell_type": "markdown",
   "id": "22859589-4d77-430c-b2cb-b5979d3c7772",
   "metadata": {},
   "source": [
    "### target"
   ]
  },
  {
   "cell_type": "code",
   "execution_count": 123,
   "id": "2837153c-edb3-42f0-a9f7-0307bf1be83c",
   "metadata": {},
   "outputs": [
    {
     "data": {
      "text/plain": [
       "count   49849.0000\n",
       "mean        0.0193\n",
       "std         0.1375\n",
       "min         0.0000\n",
       "25%         0.0000\n",
       "50%         0.0000\n",
       "75%         0.0000\n",
       "max         1.0000\n",
       "Name: target, dtype: float64"
      ]
     },
     "execution_count": 123,
     "metadata": {},
     "output_type": "execute_result"
    }
   ],
   "source": [
    "df_target['target'].describe()"
   ]
  },
  {
   "cell_type": "code",
   "execution_count": 124,
   "id": "7dd9952e-aa9c-44d6-8829-811aacc0cf8c",
   "metadata": {},
   "outputs": [
    {
     "data": {
      "text/plain": [
       "target\n",
       "0    48888\n",
       "1      961\n",
       "Name: count, dtype: int64"
      ]
     },
     "execution_count": 124,
     "metadata": {},
     "output_type": "execute_result"
    }
   ],
   "source": [
    "df_target['target'].value_counts()"
   ]
  },
  {
   "cell_type": "code",
   "execution_count": 125,
   "id": "7cbcc23e-1ed3-419b-9f28-86c9f6419fec",
   "metadata": {},
   "outputs": [
    {
     "data": {
      "image/png": "[encoded data removed]",
      "text/plain": [
       "<Figure size 640x480 with 1 Axes>"
      ]
     },
     "metadata": {},
     "output_type": "display_data"
    }
   ],
   "source": [
    "custom_bar(df_target, 'target')"
   ]
  },
  {
   "cell_type": "code",
   "execution_count": 126,
   "id": "c9134f0b-f69c-476d-8e6c-73196d5d5d2a",
   "metadata": {},
   "outputs": [
    {
     "data": {
      "text/plain": [
       "target\n",
       "0   98.0700\n",
       "1    1.9300\n",
       "Name: target, dtype: float64"
      ]
     },
     "execution_count": 126,
     "metadata": {},
     "output_type": "execute_result"
    }
   ],
   "source": [
    "round((df_target.groupby(by='target')['target'].count() / len(df_target))*100, 2)"
   ]
  },
  {
   "cell_type": "markdown",
   "id": "dff72f3e-5387-4f67-a2c5-dd9edb343edc",
   "metadata": {},
   "source": [
    "* Признак имеет 2 уникальных значения\n",
    "* Наблюдается сильный дисбаланс в строну нулевого значения `2% - [1]`, `98% - [0]`."
   ]
  },
  {
   "cell_type": "markdown",
   "id": "cb9df3bd-ff56-4bf3-a907-6ce27ead85fc",
   "metadata": {},
   "source": [
    "### Пропуски."
   ]
  },
  {
   "cell_type": "code",
   "execution_count": 129,
   "id": "4334d836-6933-4e5c-80fb-9118a0c68eba",
   "metadata": {},
   "outputs": [
    {
     "name": "stdout",
     "output_type": "stream",
     "text": [
      "В датафрейме №1 найдено 0 пропусков\n"
     ]
    }
   ],
   "source": [
    "nan_check(df_target)"
   ]
  },
  {
   "cell_type": "markdown",
   "id": "ee8f8d75-cb3f-4bfe-9dc2-1ad7fcd1c84c",
   "metadata": {},
   "source": [
    "### Дубликаты."
   ]
  },
  {
   "cell_type": "code",
   "execution_count": 131,
   "id": "a454b714-e0c9-48f8-b593-f41abe65458d",
   "metadata": {},
   "outputs": [
    {
     "name": "stdout",
     "output_type": "stream",
     "text": [
      "Количество явных дублей в датафрейме df_target - 0\n"
     ]
    }
   ],
   "source": [
    "print(f'Количество явных дублей в датафрейме df_target - {df_target.duplicated().sum()}')"
   ]
  },
  {
   "cell_type": "markdown",
   "id": "b36e44f5-2e81-42f0-97d4-52f29691d27d",
   "metadata": {},
   "source": [
    "## Выводы по разделу:\n",
    "* Изучены все признаки основных датафреймов.\n",
    "* Потверждены несоответствия типов признаков `date` и `created_at` в датафреймах `df_messages` и `date` в `df_purchases`.\n",
    "* Преобразованы в типы datetime.\n",
    "* Количество уникальных пользователей в датафрейме `df_messages` (53329) не соответсвует количеству в датафреймах `df_purchases` и `df_target` (49849).\n",
    "* В значениях признака `category_ids` наблюдается неконсистентность. Требуется импутация.\n",
    "* Количество явных дублей:\n",
    "  * `df_messages` - 48610\n",
    "  * `df_purchases` - 73020\n",
    "  * `df_target` - 0\n",
    "* Пропусков в датафреймах нет.\n",
    "* В остальных признаках аномалий не выявлено."
   ]
  },
  {
   "cell_type": "markdown",
   "id": "1d15f49c-81d0-45b1-9d54-bd0a753bc9e6",
   "metadata": {},
   "source": [
    "# Удаление дубликатов."
   ]
  },
  {
   "cell_type": "markdown",
   "id": "7303d46e-0451-4038-a23f-5e9e2fcf5f82",
   "metadata": {},
   "source": [
    "## df_messages"
   ]
  },
  {
   "cell_type": "code",
   "execution_count": 135,
   "id": "21bf0af8-445f-4474-8487-889a796beb0d",
   "metadata": {},
   "outputs": [],
   "source": [
    "# удаление дубликатов\n",
    "df_messages = df_messages.drop_duplicates()"
   ]
  },
  {
   "cell_type": "code",
   "execution_count": 136,
   "id": "53ec761c-9c3e-4035-98a0-bf0512d0dc3f",
   "metadata": {},
   "outputs": [
    {
     "name": "stdout",
     "output_type": "stream",
     "text": [
      "Потеря данных составила 0.38%\n"
     ]
    }
   ],
   "source": [
    "print(f'Потеря данных составила {1 - df_messages.shape[0] / df_messages_shape[0]:.2%}')"
   ]
  },
  {
   "cell_type": "code",
   "execution_count": 137,
   "id": "071580b7-29e0-415d-8459-3887debc4b97",
   "metadata": {},
   "outputs": [],
   "source": [
    "# сохраним новую размерность датафрейма\n",
    "df_messages_shape = df_messages.shape"
   ]
  },
  {
   "cell_type": "markdown",
   "id": "a296f1d1-7469-4896-9ca1-c62dcdbb33d7",
   "metadata": {},
   "source": [
    "## df_purchases"
   ]
  },
  {
   "cell_type": "markdown",
   "id": "23c114ca-e90f-4544-913a-7d24e5590cf2",
   "metadata": {},
   "source": [
    "В этом случае при удалении дубликатов ожидаемая потеря данных составит более трети. Это достаточно много."
   ]
  },
  {
   "cell_type": "code",
   "execution_count": 140,
   "id": "ea841181-c6dc-4d55-9c8b-740950cb253a",
   "metadata": {},
   "outputs": [
    {
     "name": "stdout",
     "output_type": "stream",
     "text": [
      "Ожидаемая потеря данных составит 36.11%\n"
     ]
    }
   ],
   "source": [
    "print(f'Ожидаемая потеря данных составит {1 - df_purchases.drop_duplicates().shape[0] / df_purchases_shape[0]:.2%}')"
   ]
  },
  {
   "cell_type": "markdown",
   "id": "08cd6b06-6dac-466c-a533-8b5718716984",
   "metadata": {},
   "source": [
    "Есть конечно вероятность, что пользователи совершили повторную покупку в тот же день, в том же количестве и с той же ценой. Но без дополнительной информации это установить не получится."
   ]
  },
  {
   "cell_type": "code",
   "execution_count": 142,
   "id": "c5ca24c2-9a8b-4edc-8a5c-0a8863c14068",
   "metadata": {},
   "outputs": [
    {
     "name": "stdout",
     "output_type": "stream",
     "text": [
      "Уникальных пользователей имеющих дублированные покупки: 45.42%\n"
     ]
    }
   ],
   "source": [
    "print(f'Уникальных пользователей имеющих дублированные покупки: '\n",
    "      f'{(\n",
    "          1 - len(df_purchases[df_purchases.duplicated(keep=False)]['client_id'].unique()) / len(df_purchases['client_id'].unique())\n",
    "      ):.2%}')"
   ]
  },
  {
   "cell_type": "code",
   "execution_count": 143,
   "id": "da803b61-1d62-4369-b552-6248632d56d2",
   "metadata": {},
   "outputs": [
    {
     "name": "stdout",
     "output_type": "stream",
     "text": [
      "Дней в которые было замечено дублирование покупок: 630\n"
     ]
    }
   ],
   "source": [
    "print(f\"Дней в которые было замечено дублирование покупок: \"\n",
    "      f\"{len(df_purchases[df_purchases.duplicated()]['date'].unique())}\")"
   ]
  },
  {
   "cell_type": "code",
   "execution_count": 144,
   "id": "f3525da1-d65f-4a69-a49c-7a3298948b57",
   "metadata": {},
   "outputs": [
    {
     "data": {
      "text/plain": [
       "date\n",
       "2022-11-11    2462\n",
       "2023-04-28    1488\n",
       "2023-06-10    1480\n",
       "2022-11-15    1281\n",
       "2022-12-22    1146\n",
       "2022-12-21    1120\n",
       "2022-11-12    1016\n",
       "2022-11-13    1003\n",
       "2022-12-16     985\n",
       "2023-06-11     882\n",
       "Name: count, dtype: int64"
      ]
     },
     "execution_count": 144,
     "metadata": {},
     "output_type": "execute_result"
    }
   ],
   "source": [
    "df_purchases[df_purchases.duplicated()]['date'].value_counts().head(10)"
   ]
  },
  {
   "cell_type": "markdown",
   "id": "62aec8b9-15fc-4b1c-a227-73226b4e36dd",
   "metadata": {},
   "source": [
    "* Практически у половины пользователей было замечено дублирование записей о покупках. Если каждый второй делает повторную покупку в тот же день, то это либо члены клуба любителей повторных покупок, либо все таки ошибка в данных.\n",
    "* По дням какой-то закономерности нет, но больше всего дублей в `2022 - 2023` годах.\n",
    "* Учитывая количество дней в которые проявились дубли, такое происходит почти каждый день. Нужно дать совет заказчику проверись систему логирования данных.\n",
    "* Будем считать это аномалией и удалим дублирующиеся строки."
   ]
  },
  {
   "cell_type": "code",
   "execution_count": 146,
   "id": "b32dbcff-f41c-4834-986a-22a296703c80",
   "metadata": {},
   "outputs": [],
   "source": [
    "# удаление дубликатов\n",
    "df_purchases = df_purchases.drop_duplicates()"
   ]
  },
  {
   "cell_type": "code",
   "execution_count": 147,
   "id": "ea123552-2f28-473d-8b8d-3c8e3a4358e4",
   "metadata": {},
   "outputs": [
    {
     "name": "stdout",
     "output_type": "stream",
     "text": [
      "Потеря данных составила 36.11%\n"
     ]
    }
   ],
   "source": [
    "print(f'Потеря данных составила {1 - df_purchases.shape[0] / df_purchases_shape[0]:.2%}')"
   ]
  },
  {
   "cell_type": "code",
   "execution_count": 148,
   "id": "cf03bc6d-8013-47ed-afab-a118650e36b0",
   "metadata": {},
   "outputs": [],
   "source": [
    "# сохраним новую размерность датафрейма\n",
    "df_purchases_shape = df_purchases.shape"
   ]
  },
  {
   "cell_type": "markdown",
   "id": "bf8a1035-b9f6-4fc4-9be8-9b85bcbb6174",
   "metadata": {},
   "source": [
    "## Вывод по разделу:\n",
    "* В датафрейме `df_messages` удалены явные дубли, потеря данных `0.38%`.\n",
    "* В датафрейме `df_purchases` удалены явные дубли, потеря данных `36.11%`."
   ]
  },
  {
   "cell_type": "markdown",
   "id": "1446ba7d-4ae0-481a-bc68-b8ee46ace8bf",
   "metadata": {},
   "source": [
    "# Импутация данных."
   ]
  },
  {
   "cell_type": "markdown",
   "id": "863369c3-2e1c-4917-8356-d3e4650823b1",
   "metadata": {},
   "source": [
    "Повторно осмотрим датафреймы на предмет пропусков."
   ]
  },
  {
   "cell_type": "code",
   "execution_count": 152,
   "id": "1d47c518-7f78-4104-9d80-cf39c6b4e394",
   "metadata": {},
   "outputs": [
    {
     "name": "stdout",
     "output_type": "stream",
     "text": [
      "В датафрейме №1 найдено 0 пропусков\n",
      "В датафрейме №2 найдено 0 пропусков\n",
      "В датафрейме №3 найдено 0 пропусков\n"
     ]
    }
   ],
   "source": [
    "nan_check(df_messages, df_purchases, df_target)"
   ]
  },
  {
   "cell_type": "markdown",
   "id": "c08684fe-1e16-42fb-bfc0-d89f7eccb4c0",
   "metadata": {},
   "source": [
    "У нас была проблема с признаком `category_ids` в датафрейме `df_purchases`. Признак имеет строковый тип и состоит из спика идентификаторов категорий. Сначала преобразуем строку в список, затем создадим плоский список из категорий и проверим на количество пропусков."
   ]
  },
  {
   "cell_type": "code",
   "execution_count": 154,
   "id": "56bb51ef-e28a-451e-88d1-1904b1b6014c",
   "metadata": {},
   "outputs": [
    {
     "name": "stdout",
     "output_type": "stream",
     "text": [
      "Количество значений признака category_ids состоящих из пустых скобок: 2738\n"
     ]
    }
   ],
   "source": [
    "print(f'Количество значений признака category_ids состоящих из пустых скобок: '\n",
    "      f'{df_purchases.loc[(df_purchases['category_ids'].apply(lambda x: len(x)) == 2) , 'category_ids'].count()}')"
   ]
  },
  {
   "cell_type": "markdown",
   "id": "c769506b-8fe0-4331-becc-15f4af427a71",
   "metadata": {},
   "source": [
    "Возможно пропуски есть не только одиночные, но и в структуре дерева категорий."
   ]
  },
  {
   "cell_type": "code",
   "execution_count": 156,
   "id": "2d0c8e8c-a149-4152-a112-af2fd5485db9",
   "metadata": {},
   "outputs": [],
   "source": [
    "# преобразуем строковое значение признака в список\n",
    "df_purchases['category_ids'] = df_purchases['category_ids'].apply(ast.literal_eval)"
   ]
  },
  {
   "cell_type": "code",
   "execution_count": 157,
   "id": "04b59609-e5c8-4c5d-b0ee-6808b6977945",
   "metadata": {},
   "outputs": [],
   "source": [
    "# создадим плоский список значений признака\n",
    "flat = df_purchases['category_ids'].explode()"
   ]
  },
  {
   "cell_type": "code",
   "execution_count": 158,
   "id": "2381a01c-f76d-4f8c-8351-5be5c3541c12",
   "metadata": {},
   "outputs": [
    {
     "name": "stdout",
     "output_type": "stream",
     "text": [
      "Пропусков среди значений признака - 3360\n"
     ]
    }
   ],
   "source": [
    "print(f'Пропусков среди значений признака - {flat.isna().sum()}')"
   ]
  },
  {
   "cell_type": "markdown",
   "id": "2764b116-2fcf-48be-ba80-8308ef078b65",
   "metadata": {},
   "source": [
    "Теперь пропуски нужно чем то заполнить. Заполним заглушкой, вида `нет категории`, но т.к. у нас список цифровых идентификаторов, то заполним цифровой заглушкой несуществующего идентификатора."
   ]
  },
  {
   "cell_type": "code",
   "execution_count": 160,
   "id": "080d0b8c-8fc6-4d10-80f2-7032f1d84a71",
   "metadata": {},
   "outputs": [
    {
     "data": {
      "text/plain": [
       "29809        1\n",
       "22938        1\n",
       "5990         1\n",
       "108856      10\n",
       "137085    1001\n",
       "          ... \n",
       "201914     NaN\n",
       "201964     NaN\n",
       "201989     NaN\n",
       "202068     NaN\n",
       "202144     NaN\n",
       "Name: category_ids, Length: 506281, dtype: object"
      ]
     },
     "execution_count": 160,
     "metadata": {},
     "output_type": "execute_result"
    }
   ],
   "source": [
    "# отсортируем значения признака category_ids\n",
    "flat.sort_values()"
   ]
  },
  {
   "cell_type": "markdown",
   "id": "1a53059f-6daf-40b9-8f27-f5c1e468f93a",
   "metadata": {},
   "source": [
    "Нумерация категорий идет с 1, чтобы случайно не выбрать в качестве заглушки существующую категорию или которая может появиться в будующем, возьмем **-1**."
   ]
  },
  {
   "cell_type": "code",
   "execution_count": 162,
   "id": "45451953-8e93-41ad-829e-ca931b9cc01b",
   "metadata": {},
   "outputs": [],
   "source": [
    "# функция заменяет Nan и None на -1 в списке\n",
    "# если список пустой то тоже -1\n",
    "def nan_fill(x):\n",
    "    res = [-1 if pd.isna(i) else i for i in x]\n",
    "    return res if len(res) > 0 else [-1]"
   ]
  },
  {
   "cell_type": "code",
   "execution_count": 163,
   "id": "42ea0dbd-f99b-491a-8e7a-d0757503ed0d",
   "metadata": {},
   "outputs": [],
   "source": [
    "df_purchases['category_ids'] = df_purchases['category_ids'].apply(nan_fill)"
   ]
  },
  {
   "cell_type": "markdown",
   "id": "6863cc5e-18e4-442a-9ad4-ab41a05a07b8",
   "metadata": {},
   "source": [
    "Повторно проведем процедуру определения количества пропусков в признаке."
   ]
  },
  {
   "cell_type": "code",
   "execution_count": 165,
   "id": "8d48f0c4-9394-4c08-bf8e-4a43bd9ebba6",
   "metadata": {},
   "outputs": [
    {
     "name": "stdout",
     "output_type": "stream",
     "text": [
      "Пропусков среди значений признака - 0\n"
     ]
    }
   ],
   "source": [
    "print(f'Пропусков среди значений признака - {df_purchases['category_ids'].explode().isna().sum()}')"
   ]
  },
  {
   "cell_type": "markdown",
   "id": "5879e12c-0e0b-4866-aaa4-b60d79f9b467",
   "metadata": {},
   "source": [
    "## Выводы по разделу:\n",
    "* Убедились что признак содержит неконсистентные значения.\n",
    "* Преобразовали строковый тип значения признака в список.\n",
    "* Выявлено `3360` пропусков.\n",
    "* Проведена импутация пропусков и пустых значений заглушкой.\n",
    "* В качестве заглушки определено значение `-1`.\n",
    "* Пропусков больше нет."
   ]
  },
  {
   "cell_type": "markdown",
   "id": "922cdf72-ac6c-45e5-8b27-fac56518c60e",
   "metadata": {},
   "source": [
    "# Создание новых признаков."
   ]
  },
  {
   "cell_type": "markdown",
   "id": "84ecb8ad-229a-4b65-aa45-d6f194fb209e",
   "metadata": {},
   "source": [
    "## df_messages"
   ]
  },
  {
   "cell_type": "markdown",
   "id": "fd91d839-0df0-427d-bd79-bb46f6b1e93c",
   "metadata": {},
   "source": [
    "**Возможные варианты**\n",
    "* Количество рассылок на пользователя `bulk_by_user`. +\n",
    "* Количество сообщений на пользователя `message_by_user`. +\n",
    "* Самое частое действие или Количество каждого действия `send` и т.д. + \n",
    "* Самый частый канал или Количество сообщений на каждый канал `email` и `mobile_push`. +\n",
    "* Разница между последним и первым эвентом, можно предположить сколько времени клиент зарегестрирован `duration`. +\n",
    "* Отдельно вынесем дату первую рассылки, потом можно вычислить разницу между последней покупкой и создать признак `длительность активности`. +\n",
    "* Частота сообщений (количество сообщений в условную единицу времени, например в квартал) `messages_per_quarter`. +"
   ]
  },
  {
   "cell_type": "code",
   "execution_count": 170,
   "id": "597be1aa-bc54-43bc-9dd0-70432bf95579",
   "metadata": {},
   "outputs": [
    {
     "data": {
      "text/plain": [
       "message_id\n",
       "1515915625468060902-10022-63e5ededd911f    1\n",
       "1515915625564758192-13340-64859b65b8299    1\n",
       "1515915625564758192-12911-6471c27f783c1    1\n",
       "1515915625564758192-13069-6479c8e439f9c    1\n",
       "1515915625564758192-13228-648075a1ae60c    1\n",
       "Name: client_id, dtype: int64"
      ]
     },
     "execution_count": 170,
     "metadata": {},
     "output_type": "execute_result"
    }
   ],
   "source": [
    "# убедимся что каждое сообщение адресовано только одному пользователю\n",
    "df_messages.groupby('message_id')['client_id'].nunique().sort_values(ascending=False).head(5)"
   ]
  },
  {
   "cell_type": "code",
   "execution_count": 171,
   "id": "90de4b98-aa83-4706-a12d-8700a249ae91",
   "metadata": {},
   "outputs": [],
   "source": [
    "# количество рассылочных компаний в которых фигурировал пользователь\n",
    "df_messages['bulk_by_user'] = df_messages.groupby('client_id')['bulk_campaign_id'].transform('nunique')"
   ]
  },
  {
   "cell_type": "code",
   "execution_count": 172,
   "id": "c9b7b8a5-239d-4e12-82bb-9b17e57400c9",
   "metadata": {},
   "outputs": [],
   "source": [
    "# количество рассылок в которых фигурировал пользователь\n",
    "df_messages['messages_by_client'] = df_messages.groupby('client_id')['message_id'].transform('nunique')"
   ]
  },
  {
   "cell_type": "code",
   "execution_count": 173,
   "id": "0694c477-d0f2-4e26-a97e-92e2c0c7365c",
   "metadata": {},
   "outputs": [],
   "source": [
    "# создаем признаки с названием канала коммуникации и количеством сообщений по нему\n",
    "channel_counts = df_messages.drop_duplicates('message_id').groupby(\n",
    "    ['client_id', 'channel']\n",
    ")['channel'].count().unstack(fill_value=0)\n",
    "df_messages = df_messages.join(channel_counts, on='client_id')"
   ]
  },
  {
   "cell_type": "code",
   "execution_count": 174,
   "id": "197329af-6a2b-475c-98b9-fccc24c73e53",
   "metadata": {},
   "outputs": [],
   "source": [
    "# посчитаем количество каждого значения event для пользователя\n",
    "# и вынесем в отдельные признаки каждый event\n",
    "event_counts = df_messages.groupby(\n",
    "    ['client_id', 'event']\n",
    ")['event'].count().unstack(fill_value=0)\n",
    "df_messages = df_messages.join(event_counts, on='client_id')"
   ]
  },
  {
   "cell_type": "code",
   "execution_count": 175,
   "id": "a9ecb3cc-334c-4b52-a2b4-5017619a1615",
   "metadata": {},
   "outputs": [],
   "source": [
    "# добавим признак дата первого сообщения\n",
    "df_messages['first_message_date'] = df_messages.groupby('client_id')['date'].transform('min')"
   ]
  },
  {
   "cell_type": "code",
   "execution_count": 176,
   "id": "f96f1a50-638e-481f-a801-42b68f9269db",
   "metadata": {},
   "outputs": [],
   "source": [
    "# посчитаем для каждого пользователя дату первого и последнего сообщения,\n",
    "# разницу в днях запишем в признак `duration`, сколько клиент является зарегестрированным \n",
    "# пользователем\n",
    "result = df_messages.groupby('client_id').agg(\n",
    "    first_event=('date', 'min'),    \n",
    "    last_event=('date', 'max')      \n",
    ")\n",
    "result['duration'] = (result['last_event']-result['first_event']).dt.days\n",
    "df_messages = df_messages.join(result['duration'], on='client_id' )"
   ]
  },
  {
   "cell_type": "code",
   "execution_count": 177,
   "id": "a1d800e6-8e9b-428d-8de7-d23ce78dfb31",
   "metadata": {},
   "outputs": [],
   "source": [
    "# для каждой даты сообщения вычисли квартал\n",
    "df_messages['quarter'] = df_messages['date'].dt.quarter"
   ]
  },
  {
   "cell_type": "code",
   "execution_count": 178,
   "id": "b9840f3e-ec39-49b9-a278-74557037e341",
   "metadata": {},
   "outputs": [],
   "source": [
    "# для каждого пользователя посчитаем количество уникальных сообщений в квартал \n",
    "# создадим признак messages_per_quarter\n",
    "df_messages['messages_per_quarter'] = df_messages.groupby(['client_id', 'quarter'])['message_id'].transform('nunique')"
   ]
  },
  {
   "cell_type": "code",
   "execution_count": 179,
   "id": "457c1ef9-0610-4766-998f-4bf55aaad981",
   "metadata": {},
   "outputs": [
    {
     "name": "stdout",
     "output_type": "stream",
     "text": [
      "Признаки датафрейма после добавления новых:\n",
      "- bulk_campaign_id\n",
      "- client_id\n",
      "- message_id\n",
      "- event\n",
      "- channel\n",
      "- date\n",
      "- created_at\n",
      "- bulk_by_user\n",
      "- messages_by_client\n",
      "- email\n",
      "- mobile_push\n",
      "- click\n",
      "- close\n",
      "- complain\n",
      "- hard_bounce\n",
      "- hbq_spam\n",
      "- open\n",
      "- purchase\n",
      "- send\n",
      "- soft_bounce\n",
      "- subscribe\n",
      "- unsubscribe\n",
      "- first_message_date\n",
      "- duration\n",
      "- quarter\n",
      "- messages_per_quarter\n"
     ]
    }
   ],
   "source": [
    "print('Признаки датафрейма после добавления новых:')\n",
    "for feature in df_messages.columns.tolist():\n",
    "    print(f'- {feature}')"
   ]
  },
  {
   "cell_type": "markdown",
   "id": "ccb64a1c-28ec-44ef-bcf3-e87098ead381",
   "metadata": {},
   "source": [
    "Отберем признаки которые нам не интресены:\n",
    "* `complain` - жалоба\n",
    "* `hard_bounce` - неактивные адрес\n",
    "* `soft_bounce` - ящик не может принять письмо\n",
    "* `subscribe` - подписка\n",
    "* `unsubscribe` - отписка\n",
    "* `hbq_spam` - попало в спам\n",
    "* `close` - закрытие\n",
    "* `quarter` - номер квартала, использовался для расчета частоты отправки\n",
    "* `event` - событие, мы конвертировали в признаки значений события\n",
    "* `channel` - канал, мы конвертировали в признаки `email` и `mobile_phone`\n",
    "* `message_id` - признак полезен только для анализа эффективности рассылок\n",
    "* `bulk_campaign_id` - признак полезен только для анализа эффективности рассылок\n",
    "* `created_at` - признак нужен был для поиска явных дублей и больше не нужен\n",
    "* `date` - признак был использован создания признаков `duration` и `first_messages_date`\n",
    "  \n",
    "Остальные признаки рассмотрим после объединения датафреймов."
   ]
  },
  {
   "cell_type": "code",
   "execution_count": 181,
   "id": "c1ef4961-55ae-4a4a-925a-d3d9cbbbdf2c",
   "metadata": {},
   "outputs": [],
   "source": [
    "non_info_feat = ['complain', 'hard_bounce', 'hbq_spam', 'close', 'date',\n",
    "                 'soft_bounce', 'quarter',  'unsubscribe', 'subscribe',\n",
    "                 'event', 'channel', 'message_id', 'created_at', 'bulk_campaign_id'] "
   ]
  },
  {
   "cell_type": "code",
   "execution_count": 182,
   "id": "2961cebe-25dd-44fa-82ad-ab25663c2d6d",
   "metadata": {},
   "outputs": [
    {
     "data": {
      "text/html": [
       "<div>\n",
       "<style scoped>\n",
       "    .dataframe tbody tr th:only-of-type {\n",
       "        vertical-align: middle;\n",
       "    }\n",
       "\n",
       "    .dataframe tbody tr th {\n",
       "        vertical-align: top;\n",
       "    }\n",
       "\n",
       "    .dataframe thead th {\n",
       "        text-align: right;\n",
       "    }\n",
       "</style>\n",
       "<table border=\"1\" class=\"dataframe\">\n",
       "  <thead>\n",
       "    <tr style=\"text-align: right;\">\n",
       "      <th></th>\n",
       "      <th>bulk_by_user</th>\n",
       "      <th>messages_by_client</th>\n",
       "      <th>email</th>\n",
       "      <th>mobile_push</th>\n",
       "      <th>click</th>\n",
       "      <th>open</th>\n",
       "      <th>purchase</th>\n",
       "      <th>send</th>\n",
       "      <th>messages_per_quarter</th>\n",
       "      <th>first_message_date</th>\n",
       "      <th>duration</th>\n",
       "    </tr>\n",
       "  </thead>\n",
       "  <tbody>\n",
       "    <tr>\n",
       "      <th>0</th>\n",
       "      <td>383</td>\n",
       "      <td>385</td>\n",
       "      <td>123</td>\n",
       "      <td>262</td>\n",
       "      <td>15</td>\n",
       "      <td>79</td>\n",
       "      <td>1</td>\n",
       "      <td>384</td>\n",
       "      <td>51</td>\n",
       "      <td>2022-05-19</td>\n",
       "      <td>637</td>\n",
       "    </tr>\n",
       "    <tr>\n",
       "      <th>1</th>\n",
       "      <td>446</td>\n",
       "      <td>448</td>\n",
       "      <td>173</td>\n",
       "      <td>275</td>\n",
       "      <td>38</td>\n",
       "      <td>426</td>\n",
       "      <td>2</td>\n",
       "      <td>447</td>\n",
       "      <td>74</td>\n",
       "      <td>2022-05-19</td>\n",
       "      <td>637</td>\n",
       "    </tr>\n",
       "    <tr>\n",
       "      <th>2</th>\n",
       "      <td>256</td>\n",
       "      <td>263</td>\n",
       "      <td>97</td>\n",
       "      <td>166</td>\n",
       "      <td>28</td>\n",
       "      <td>158</td>\n",
       "      <td>2</td>\n",
       "      <td>262</td>\n",
       "      <td>51</td>\n",
       "      <td>2022-05-19</td>\n",
       "      <td>637</td>\n",
       "    </tr>\n",
       "    <tr>\n",
       "      <th>3</th>\n",
       "      <td>256</td>\n",
       "      <td>263</td>\n",
       "      <td>97</td>\n",
       "      <td>166</td>\n",
       "      <td>28</td>\n",
       "      <td>158</td>\n",
       "      <td>2</td>\n",
       "      <td>262</td>\n",
       "      <td>51</td>\n",
       "      <td>2022-05-19</td>\n",
       "      <td>637</td>\n",
       "    </tr>\n",
       "    <tr>\n",
       "      <th>4</th>\n",
       "      <td>169</td>\n",
       "      <td>169</td>\n",
       "      <td>105</td>\n",
       "      <td>64</td>\n",
       "      <td>19</td>\n",
       "      <td>68</td>\n",
       "      <td>1</td>\n",
       "      <td>167</td>\n",
       "      <td>24</td>\n",
       "      <td>2022-05-19</td>\n",
       "      <td>637</td>\n",
       "    </tr>\n",
       "    <tr>\n",
       "      <th>...</th>\n",
       "      <td>...</td>\n",
       "      <td>...</td>\n",
       "      <td>...</td>\n",
       "      <td>...</td>\n",
       "      <td>...</td>\n",
       "      <td>...</td>\n",
       "      <td>...</td>\n",
       "      <td>...</td>\n",
       "      <td>...</td>\n",
       "      <td>...</td>\n",
       "      <td>...</td>\n",
       "    </tr>\n",
       "    <tr>\n",
       "      <th>12739793</th>\n",
       "      <td>149</td>\n",
       "      <td>149</td>\n",
       "      <td>134</td>\n",
       "      <td>15</td>\n",
       "      <td>21</td>\n",
       "      <td>141</td>\n",
       "      <td>10</td>\n",
       "      <td>149</td>\n",
       "      <td>27</td>\n",
       "      <td>2022-05-19</td>\n",
       "      <td>637</td>\n",
       "    </tr>\n",
       "    <tr>\n",
       "      <th>12739794</th>\n",
       "      <td>360</td>\n",
       "      <td>366</td>\n",
       "      <td>135</td>\n",
       "      <td>231</td>\n",
       "      <td>11</td>\n",
       "      <td>193</td>\n",
       "      <td>1</td>\n",
       "      <td>366</td>\n",
       "      <td>82</td>\n",
       "      <td>2022-08-30</td>\n",
       "      <td>534</td>\n",
       "    </tr>\n",
       "    <tr>\n",
       "      <th>12739795</th>\n",
       "      <td>321</td>\n",
       "      <td>322</td>\n",
       "      <td>78</td>\n",
       "      <td>244</td>\n",
       "      <td>8</td>\n",
       "      <td>92</td>\n",
       "      <td>2</td>\n",
       "      <td>322</td>\n",
       "      <td>88</td>\n",
       "      <td>2022-05-23</td>\n",
       "      <td>633</td>\n",
       "    </tr>\n",
       "    <tr>\n",
       "      <th>12739796</th>\n",
       "      <td>149</td>\n",
       "      <td>149</td>\n",
       "      <td>134</td>\n",
       "      <td>15</td>\n",
       "      <td>21</td>\n",
       "      <td>141</td>\n",
       "      <td>10</td>\n",
       "      <td>149</td>\n",
       "      <td>27</td>\n",
       "      <td>2022-05-19</td>\n",
       "      <td>637</td>\n",
       "    </tr>\n",
       "    <tr>\n",
       "      <th>12739797</th>\n",
       "      <td>149</td>\n",
       "      <td>149</td>\n",
       "      <td>134</td>\n",
       "      <td>15</td>\n",
       "      <td>21</td>\n",
       "      <td>141</td>\n",
       "      <td>10</td>\n",
       "      <td>149</td>\n",
       "      <td>27</td>\n",
       "      <td>2022-05-19</td>\n",
       "      <td>637</td>\n",
       "    </tr>\n",
       "  </tbody>\n",
       "</table>\n",
       "<p>12691188 rows × 11 columns</p>\n",
       "</div>"
      ],
      "text/plain": [
       "          bulk_by_user  messages_by_client  email  mobile_push  click  open  \\\n",
       "0                  383                 385    123          262     15    79   \n",
       "1                  446                 448    173          275     38   426   \n",
       "2                  256                 263     97          166     28   158   \n",
       "3                  256                 263     97          166     28   158   \n",
       "4                  169                 169    105           64     19    68   \n",
       "...                ...                 ...    ...          ...    ...   ...   \n",
       "12739793           149                 149    134           15     21   141   \n",
       "12739794           360                 366    135          231     11   193   \n",
       "12739795           321                 322     78          244      8    92   \n",
       "12739796           149                 149    134           15     21   141   \n",
       "12739797           149                 149    134           15     21   141   \n",
       "\n",
       "          purchase  send  messages_per_quarter first_message_date  duration  \n",
       "0                1   384                    51         2022-05-19       637  \n",
       "1                2   447                    74         2022-05-19       637  \n",
       "2                2   262                    51         2022-05-19       637  \n",
       "3                2   262                    51         2022-05-19       637  \n",
       "4                1   167                    24         2022-05-19       637  \n",
       "...            ...   ...                   ...                ...       ...  \n",
       "12739793        10   149                    27         2022-05-19       637  \n",
       "12739794         1   366                    82         2022-08-30       534  \n",
       "12739795         2   322                    88         2022-05-23       633  \n",
       "12739796        10   149                    27         2022-05-19       637  \n",
       "12739797        10   149                    27         2022-05-19       637  \n",
       "\n",
       "[12691188 rows x 11 columns]"
      ]
     },
     "execution_count": 182,
     "metadata": {},
     "output_type": "execute_result"
    }
   ],
   "source": [
    "# посмотрим значения новых признаков\n",
    "df_messages[['bulk_by_user', 'messages_by_client', 'email', 'mobile_push', 'click',\n",
    "             'open', 'purchase', 'send', 'messages_per_quarter', 'first_message_date', 'duration']]"
   ]
  },
  {
   "cell_type": "markdown",
   "id": "01c0f615-2b06-4879-bd5d-eb6307d6e9d0",
   "metadata": {},
   "source": [
    "Признак `bulk_by_user` почти равен `messages_by_client`, последний часто немного больше. Вероятно в рамках одно рассылки клиенту отправлялось больше одного письма."
   ]
  },
  {
   "cell_type": "code",
   "execution_count": 184,
   "id": "f792c575-875b-4efe-b210-2b3c368933b2",
   "metadata": {},
   "outputs": [
    {
     "name": "stdout",
     "output_type": "stream",
     "text": [
      "Процент несовпадением количества сообщений и количества рассылок: 50.12%\n"
     ]
    }
   ],
   "source": [
    "print(f'Процент несовпадением количества сообщений и количества рассылок: '\n",
    "      f'{1 - (\n",
    "          df_messages.query('messages_by_client != bulk_by_user')['client_id'].nunique() / df_messages['client_id'].nunique()\n",
    "      ):.2%}')"
   ]
  },
  {
   "cell_type": "markdown",
   "id": "1e112172-7d54-484f-a101-76357cda415e",
   "metadata": {},
   "source": [
    "У `50%` процентов пользователей наблюдается расхождение."
   ]
  },
  {
   "cell_type": "code",
   "execution_count": 186,
   "id": "5f3be200-1f98-4803-949b-5ca2c9a5de4c",
   "metadata": {},
   "outputs": [
    {
     "data": {
      "text/plain": [
       "6360349    0\n",
       "5074019    0\n",
       "5074018    0\n",
       "dtype: int64"
      ]
     },
     "execution_count": 186,
     "metadata": {},
     "output_type": "execute_result"
    }
   ],
   "source": [
    "(df_messages['messages_by_client'] - df_messages['bulk_by_user']).sort_values().head(3)"
   ]
  },
  {
   "cell_type": "markdown",
   "id": "0f8a5e97-f662-4031-a1c5-60d1390f421b",
   "metadata": {},
   "source": [
    "Как видно отрицательных значений нет (сообщений больше чем рассылок), значит возможно в рамках одной рассылке было несколько сообщений одному пользователю. "
   ]
  },
  {
   "cell_type": "markdown",
   "id": "aade0554-a948-48fa-bd2c-0b24fce5a837",
   "metadata": {},
   "source": [
    "Признак `messages_by_client` визуально равен сумме `email` и `mobile_push`. Проверим это."
   ]
  },
  {
   "cell_type": "code",
   "execution_count": 189,
   "id": "7faba8e6-654c-4332-ae0f-8e1a5ad25daf",
   "metadata": {},
   "outputs": [
    {
     "name": "stdout",
     "output_type": "stream",
     "text": [
      "Количество записей с несовпадением количества сообщений и суммы количества по источникам: 0\n"
     ]
    }
   ],
   "source": [
    "print(f'Количество записей с несовпадением количества сообщений и суммы количества по источникам: '\n",
    "      f'{df_messages.query('messages_by_client != mobile_push + email')['client_id'].count()}')"
   ]
  },
  {
   "cell_type": "markdown",
   "id": "d9592bb2-020f-4d0a-92d1-51ee191b1764",
   "metadata": {},
   "source": [
    "Значения признака `send` должно быть равным значению признака `messages_by_client`, но в некоторых случаях мы видим что это не так."
   ]
  },
  {
   "cell_type": "code",
   "execution_count": 191,
   "id": "532ade02-0657-43f3-9131-74b02bb0d63c",
   "metadata": {},
   "outputs": [],
   "source": [
    "# создадим серию содержащую сообщения для которых событие send не зарегистрировано\n",
    "# True если 'send' нет в ивентах\n",
    "df_no_send = df_messages[\n",
    "        df_messages['send'] < df_messages['messages_by_client']\n",
    "].groupby('message_id')['event'].apply(lambda x: True if \"send\" not in x else False)"
   ]
  },
  {
   "cell_type": "code",
   "execution_count": 192,
   "id": "705e2642-5c61-4b21-bb4c-9921391db129",
   "metadata": {},
   "outputs": [
    {
     "name": "stdout",
     "output_type": "stream",
     "text": [
      "Процент сообщений без event == send: 91.64%\n"
     ]
    }
   ],
   "source": [
    "print(f'Процент сообщений без event == send: '\n",
    "      f'{(1 - len(df_no_send[df_no_send == True]) / df_messages[\"message_id\"].nunique()):.2%}')"
   ]
  },
  {
   "cell_type": "markdown",
   "id": "9469c96a-fee8-4b8f-b037-0ff8ad499dfb",
   "metadata": {},
   "source": [
    "Реакция на сообщение есть, а сам факт отправки не зарегистрирован для `91%` сообщений. Признак `send` не выглядит очень достоверным."
   ]
  },
  {
   "cell_type": "markdown",
   "id": "a6d4a675-90bb-42be-b832-0e450d2954df",
   "metadata": {},
   "source": [
    "Таким образом мы видим, что признак `bulk_by_user`, `messages_by_client`, `send` и сумма значений `email`, `mobile_push` представляют собой одно и то же значение (с учетом ошибок в логах). И по сути являются `dummy` признаками. Нужно удалить часть из них, оставим только количество сообщений разложенные по каналам. Возможно это даст нам понять какой канал более перспективный."
   ]
  },
  {
   "cell_type": "code",
   "execution_count": 195,
   "id": "01d5869f-83bf-46e1-b3a1-a2593f36e89a",
   "metadata": {},
   "outputs": [],
   "source": [
    "# создадим список неиформативных признаков и удалим их\n",
    "dummy_features = ['bulk_by_user', 'messages_by_client', 'send']\n",
    "# удалим признаки которые нам не интересны\n",
    "df_messages = df_messages.drop(non_info_feat, axis=1)\n",
    "df_messages = df_messages.drop(dummy_features, axis=1)"
   ]
  },
  {
   "cell_type": "code",
   "execution_count": 196,
   "id": "9f924cf8-1a29-468a-9f73-17d3433e0762",
   "metadata": {},
   "outputs": [
    {
     "data": {
      "text/html": [
       "<div>\n",
       "<style scoped>\n",
       "    .dataframe tbody tr th:only-of-type {\n",
       "        vertical-align: middle;\n",
       "    }\n",
       "\n",
       "    .dataframe tbody tr th {\n",
       "        vertical-align: top;\n",
       "    }\n",
       "\n",
       "    .dataframe thead th {\n",
       "        text-align: right;\n",
       "    }\n",
       "</style>\n",
       "<table border=\"1\" class=\"dataframe\">\n",
       "  <thead>\n",
       "    <tr style=\"text-align: right;\">\n",
       "      <th></th>\n",
       "      <th>client_id</th>\n",
       "      <th>email</th>\n",
       "      <th>mobile_push</th>\n",
       "      <th>click</th>\n",
       "      <th>open</th>\n",
       "      <th>purchase</th>\n",
       "      <th>first_message_date</th>\n",
       "      <th>duration</th>\n",
       "      <th>messages_per_quarter</th>\n",
       "    </tr>\n",
       "  </thead>\n",
       "  <tbody>\n",
       "    <tr>\n",
       "      <th>1116207</th>\n",
       "      <td>1515915625538980532</td>\n",
       "      <td>121</td>\n",
       "      <td>219</td>\n",
       "      <td>2</td>\n",
       "      <td>210</td>\n",
       "      <td>1</td>\n",
       "      <td>2022-05-20</td>\n",
       "      <td>636</td>\n",
       "      <td>99</td>\n",
       "    </tr>\n",
       "    <tr>\n",
       "      <th>2577175</th>\n",
       "      <td>1515915625468141348</td>\n",
       "      <td>128</td>\n",
       "      <td>236</td>\n",
       "      <td>23</td>\n",
       "      <td>139</td>\n",
       "      <td>0</td>\n",
       "      <td>2022-05-25</td>\n",
       "      <td>630</td>\n",
       "      <td>139</td>\n",
       "    </tr>\n",
       "    <tr>\n",
       "      <th>11256724</th>\n",
       "      <td>1515915625487551453</td>\n",
       "      <td>141</td>\n",
       "      <td>248</td>\n",
       "      <td>2</td>\n",
       "      <td>225</td>\n",
       "      <td>1</td>\n",
       "      <td>2022-05-20</td>\n",
       "      <td>636</td>\n",
       "      <td>92</td>\n",
       "    </tr>\n",
       "  </tbody>\n",
       "</table>\n",
       "</div>"
      ],
      "text/plain": [
       "                    client_id  email  mobile_push  click  open  purchase  \\\n",
       "1116207   1515915625538980532    121          219      2   210         1   \n",
       "2577175   1515915625468141348    128          236     23   139         0   \n",
       "11256724  1515915625487551453    141          248      2   225         1   \n",
       "\n",
       "         first_message_date  duration  messages_per_quarter  \n",
       "1116207          2022-05-20       636                    99  \n",
       "2577175          2022-05-25       630                   139  \n",
       "11256724         2022-05-20       636                    92  "
      ]
     },
     "execution_count": 196,
     "metadata": {},
     "output_type": "execute_result"
    }
   ],
   "source": [
    "df_messages.sample(3)"
   ]
  },
  {
   "cell_type": "markdown",
   "id": "191c43f7-4bb6-4186-9b7e-ee20d8967c35",
   "metadata": {},
   "source": [
    "## df_purchases"
   ]
  },
  {
   "cell_type": "markdown",
   "id": "d079e997-e53a-4656-b24e-d602368f7993",
   "metadata": {},
   "source": [
    "**Возможные варианты**\n",
    "* Признак `category_ids` конвертировать в 1 или 2 признака, типа `parent_category` и `child_category`. Взять первый и последний ID категории в списке.\n",
    "* С помощью `parent_category` и `child_category` можно получить моду для признака любимая категория, возможно стоит так же использовать `quantity`, учитывать каждую категорию по значению количества купленного товара.\n",
    "* Признак дата последней покупки для каждого клиента `last_purchase_date`. Так же используя первую дату рассылки на клиента можно определить время сколько дней он является активным покупателем или сколько времени он зарегистрирован (второе будет вернее).\n",
    "* Признак `date` можно использовать для создания признака, например, `days_after` - дней с момента покупки по настоящий момент (как давно была сделана последняя покупка).\n",
    "* Создадим категорию с общнй стоимость купленного каждым клиентом товара и общим количеством (`cost` и `count`).\n",
    "* C признаком `message_id` пока не понятно что делать. очень хочется удалить, он конечно пригодился бы для анализа эффективности рассылок, но задачи такой пока нет."
   ]
  },
  {
   "cell_type": "code",
   "execution_count": 199,
   "id": "58508b28-ebb6-4f25-84fc-f12093892497",
   "metadata": {},
   "outputs": [],
   "source": [
    "# создадим признаки с родительской и дочерней категорией\n",
    "df_purchases['parent_category'] = df_purchases['category_ids'].apply(lambda x: x[0])\n",
    "df_purchases['child_category'] = df_purchases['category_ids'].apply(lambda x: x[-1])"
   ]
  },
  {
   "cell_type": "code",
   "execution_count": 200,
   "id": "8df0c264-9ef3-4dcb-99a1-21767461ec36",
   "metadata": {},
   "outputs": [
    {
     "data": {
      "text/html": [
       "<div>\n",
       "<style scoped>\n",
       "    .dataframe tbody tr th:only-of-type {\n",
       "        vertical-align: middle;\n",
       "    }\n",
       "\n",
       "    .dataframe tbody tr th {\n",
       "        vertical-align: top;\n",
       "    }\n",
       "\n",
       "    .dataframe thead th {\n",
       "        text-align: right;\n",
       "    }\n",
       "</style>\n",
       "<table border=\"1\" class=\"dataframe\">\n",
       "  <thead>\n",
       "    <tr style=\"text-align: right;\">\n",
       "      <th></th>\n",
       "      <th>category_ids</th>\n",
       "      <th>parent_category</th>\n",
       "      <th>child_category</th>\n",
       "    </tr>\n",
       "  </thead>\n",
       "  <tbody>\n",
       "    <tr>\n",
       "      <th>87385</th>\n",
       "      <td>[4, 28, 62, 657]</td>\n",
       "      <td>4</td>\n",
       "      <td>657</td>\n",
       "    </tr>\n",
       "    <tr>\n",
       "      <th>990</th>\n",
       "      <td>[4, 28, 343, 425]</td>\n",
       "      <td>4</td>\n",
       "      <td>425</td>\n",
       "    </tr>\n",
       "    <tr>\n",
       "      <th>175366</th>\n",
       "      <td>[2, 18, 61, 660]</td>\n",
       "      <td>2</td>\n",
       "      <td>660</td>\n",
       "    </tr>\n",
       "    <tr>\n",
       "      <th>175823</th>\n",
       "      <td>[5562, 5634, 5705, 1276]</td>\n",
       "      <td>5562</td>\n",
       "      <td>1276</td>\n",
       "    </tr>\n",
       "    <tr>\n",
       "      <th>95840</th>\n",
       "      <td>[5562, 5536, 5537, 842]</td>\n",
       "      <td>5562</td>\n",
       "      <td>842</td>\n",
       "    </tr>\n",
       "    <tr>\n",
       "      <th>19014</th>\n",
       "      <td>[4, 28, 124, 415]</td>\n",
       "      <td>4</td>\n",
       "      <td>415</td>\n",
       "    </tr>\n",
       "    <tr>\n",
       "      <th>64867</th>\n",
       "      <td>[5562, 5589, 5686, 1674]</td>\n",
       "      <td>5562</td>\n",
       "      <td>1674</td>\n",
       "    </tr>\n",
       "    <tr>\n",
       "      <th>172757</th>\n",
       "      <td>[5562, 5633, 5567, 590]</td>\n",
       "      <td>5562</td>\n",
       "      <td>590</td>\n",
       "    </tr>\n",
       "    <tr>\n",
       "      <th>76678</th>\n",
       "      <td>[4, 31, 324, 5813]</td>\n",
       "      <td>4</td>\n",
       "      <td>5813</td>\n",
       "    </tr>\n",
       "    <tr>\n",
       "      <th>63995</th>\n",
       "      <td>[4, 1822, 1824, 1625]</td>\n",
       "      <td>4</td>\n",
       "      <td>1625</td>\n",
       "    </tr>\n",
       "  </tbody>\n",
       "</table>\n",
       "</div>"
      ],
      "text/plain": [
       "                    category_ids parent_category child_category\n",
       "87385           [4, 28, 62, 657]               4            657\n",
       "990            [4, 28, 343, 425]               4            425\n",
       "175366          [2, 18, 61, 660]               2            660\n",
       "175823  [5562, 5634, 5705, 1276]            5562           1276\n",
       "95840    [5562, 5536, 5537, 842]            5562            842\n",
       "19014          [4, 28, 124, 415]               4            415\n",
       "64867   [5562, 5589, 5686, 1674]            5562           1674\n",
       "172757   [5562, 5633, 5567, 590]            5562            590\n",
       "76678         [4, 31, 324, 5813]               4           5813\n",
       "63995      [4, 1822, 1824, 1625]               4           1625"
      ]
     },
     "execution_count": 200,
     "metadata": {},
     "output_type": "execute_result"
    }
   ],
   "source": [
    "df_purchases[['category_ids', 'parent_category', 'child_category']].sample(10)"
   ]
  },
  {
   "cell_type": "markdown",
   "id": "c8779f62-d86e-44bd-b6cc-cac81850ac22",
   "metadata": {},
   "source": [
    "Для определения любимых категорий нужно учесть, что в некоторых покупках может быть более одного товара из одной категории. Поэтому каждая категория должа иметь вхождение по значению `quantity`. Создадим временные признаки в которых будем собирать все родительские и дочерние категории."
   ]
  },
  {
   "cell_type": "code",
   "execution_count": 202,
   "id": "d1f81351-aecd-4ba4-8a21-09111523a430",
   "metadata": {},
   "outputs": [],
   "source": [
    "# временный признак для дочерних категорий\n",
    "df_purchases['temp_parent'] = df_purchases.apply(\n",
    "    lambda x: [x['parent_category']] * x['quantity'],\n",
    "    axis=1\n",
    ")\n",
    "# временный признак для дочерних категорий\n",
    "df_purchases['temp_child'] = df_purchases.apply(\n",
    "    lambda x: [x['child_category']] * x['quantity'],\n",
    "    axis=1\n",
    ")"
   ]
  },
  {
   "cell_type": "code",
   "execution_count": 203,
   "id": "12c121f3-bd38-439e-a191-7a49aa8db9fd",
   "metadata": {},
   "outputs": [
    {
     "data": {
      "text/html": [
       "<div>\n",
       "<style scoped>\n",
       "    .dataframe tbody tr th:only-of-type {\n",
       "        vertical-align: middle;\n",
       "    }\n",
       "\n",
       "    .dataframe tbody tr th {\n",
       "        vertical-align: top;\n",
       "    }\n",
       "\n",
       "    .dataframe thead th {\n",
       "        text-align: right;\n",
       "    }\n",
       "</style>\n",
       "<table border=\"1\" class=\"dataframe\">\n",
       "  <thead>\n",
       "    <tr style=\"text-align: right;\">\n",
       "      <th></th>\n",
       "      <th>client_id</th>\n",
       "      <th>quantity</th>\n",
       "      <th>category_ids</th>\n",
       "      <th>temp_parent</th>\n",
       "      <th>temp_child</th>\n",
       "    </tr>\n",
       "  </thead>\n",
       "  <tbody>\n",
       "    <tr>\n",
       "      <th>11</th>\n",
       "      <td>1515915625491869271</td>\n",
       "      <td>2</td>\n",
       "      <td>[4, 27, 350, 1392]</td>\n",
       "      <td>[4, 4]</td>\n",
       "      <td>[1392, 1392]</td>\n",
       "    </tr>\n",
       "    <tr>\n",
       "      <th>98</th>\n",
       "      <td>1515915625470737089</td>\n",
       "      <td>2</td>\n",
       "      <td>[4, 28, 49, 684]</td>\n",
       "      <td>[4, 4]</td>\n",
       "      <td>[684, 684]</td>\n",
       "    </tr>\n",
       "    <tr>\n",
       "      <th>242</th>\n",
       "      <td>1515915625489956953</td>\n",
       "      <td>2</td>\n",
       "      <td>[4, 28, 49, 684]</td>\n",
       "      <td>[4, 4]</td>\n",
       "      <td>[684, 684]</td>\n",
       "    </tr>\n",
       "    <tr>\n",
       "      <th>303</th>\n",
       "      <td>1515915625491770402</td>\n",
       "      <td>2</td>\n",
       "      <td>[4, 28, 57, 431]</td>\n",
       "      <td>[4, 4]</td>\n",
       "      <td>[431, 431]</td>\n",
       "    </tr>\n",
       "    <tr>\n",
       "      <th>317</th>\n",
       "      <td>1515915625491828133</td>\n",
       "      <td>2</td>\n",
       "      <td>[4, 28, 57, 431]</td>\n",
       "      <td>[4, 4]</td>\n",
       "      <td>[431, 431]</td>\n",
       "    </tr>\n",
       "  </tbody>\n",
       "</table>\n",
       "</div>"
      ],
      "text/plain": [
       "               client_id  quantity        category_ids temp_parent  \\\n",
       "11   1515915625491869271         2  [4, 27, 350, 1392]      [4, 4]   \n",
       "98   1515915625470737089         2    [4, 28, 49, 684]      [4, 4]   \n",
       "242  1515915625489956953         2    [4, 28, 49, 684]      [4, 4]   \n",
       "303  1515915625491770402         2    [4, 28, 57, 431]      [4, 4]   \n",
       "317  1515915625491828133         2    [4, 28, 57, 431]      [4, 4]   \n",
       "\n",
       "       temp_child  \n",
       "11   [1392, 1392]  \n",
       "98     [684, 684]  \n",
       "242    [684, 684]  \n",
       "303    [431, 431]  \n",
       "317    [431, 431]  "
      ]
     },
     "execution_count": 203,
     "metadata": {},
     "output_type": "execute_result"
    }
   ],
   "source": [
    "# получается вот такая структура\n",
    "df_purchases[df_purchases['quantity'] > 1][['client_id','quantity', 'category_ids', 'temp_parent', 'temp_child']].head()"
   ]
  },
  {
   "cell_type": "markdown",
   "id": "07f17f16-a9db-46aa-bc00-5b660981de4f",
   "metadata": {},
   "source": [
    "Далее данные нужно агрегировать по покупателям и сложить все значения из временных категорий, чтобы получить для каждго клиента список все категорий, с учетом количества товара в заказе, по всем покупкам."
   ]
  },
  {
   "cell_type": "code",
   "execution_count": 205,
   "id": "9a59d956-ad1d-44bf-8b5e-bf854b3290c8",
   "metadata": {},
   "outputs": [],
   "source": [
    "# агрегируем по client_id и суммируем родительские и дочерние категории\n",
    "df_purchases['temp_parent'] = df_purchases.groupby('client_id')['temp_parent'].transform('sum')\n",
    "df_purchases['temp_child'] = df_purchases.groupby('client_id')['temp_child'].transform('sum')"
   ]
  },
  {
   "cell_type": "code",
   "execution_count": 206,
   "id": "92cf9b92-5546-45e9-8523-959fe69c8cf0",
   "metadata": {},
   "outputs": [
    {
     "data": {
      "text/html": [
       "<div>\n",
       "<style scoped>\n",
       "    .dataframe tbody tr th:only-of-type {\n",
       "        vertical-align: middle;\n",
       "    }\n",
       "\n",
       "    .dataframe tbody tr th {\n",
       "        vertical-align: top;\n",
       "    }\n",
       "\n",
       "    .dataframe thead th {\n",
       "        text-align: right;\n",
       "    }\n",
       "</style>\n",
       "<table border=\"1\" class=\"dataframe\">\n",
       "  <thead>\n",
       "    <tr style=\"text-align: right;\">\n",
       "      <th></th>\n",
       "      <th>quantity</th>\n",
       "      <th>category_ids</th>\n",
       "      <th>temp_parent</th>\n",
       "      <th>temp_child</th>\n",
       "    </tr>\n",
       "  </thead>\n",
       "  <tbody>\n",
       "    <tr>\n",
       "      <th>303</th>\n",
       "      <td>2</td>\n",
       "      <td>[4, 28, 57, 431]</td>\n",
       "      <td>[4, 4, 4, 4, 4, 4]</td>\n",
       "      <td>[431, 431, 416, 420, 431, 431]</td>\n",
       "    </tr>\n",
       "    <tr>\n",
       "      <th>304</th>\n",
       "      <td>1</td>\n",
       "      <td>[4, 28, 156, 416]</td>\n",
       "      <td>[4, 4, 4, 4, 4, 4]</td>\n",
       "      <td>[431, 431, 416, 420, 431, 431]</td>\n",
       "    </tr>\n",
       "    <tr>\n",
       "      <th>305</th>\n",
       "      <td>1</td>\n",
       "      <td>[4, 28, 260, 420]</td>\n",
       "      <td>[4, 4, 4, 4, 4, 4]</td>\n",
       "      <td>[431, 431, 416, 420, 431, 431]</td>\n",
       "    </tr>\n",
       "    <tr>\n",
       "      <th>306</th>\n",
       "      <td>1</td>\n",
       "      <td>[4, 28, 57, 431]</td>\n",
       "      <td>[4, 4, 4, 4, 4, 4]</td>\n",
       "      <td>[431, 431, 416, 420, 431, 431]</td>\n",
       "    </tr>\n",
       "    <tr>\n",
       "      <th>307</th>\n",
       "      <td>1</td>\n",
       "      <td>[4, 28, 57, 431]</td>\n",
       "      <td>[4, 4, 4, 4, 4, 4]</td>\n",
       "      <td>[431, 431, 416, 420, 431, 431]</td>\n",
       "    </tr>\n",
       "  </tbody>\n",
       "</table>\n",
       "</div>"
      ],
      "text/plain": [
       "     quantity       category_ids         temp_parent  \\\n",
       "303         2   [4, 28, 57, 431]  [4, 4, 4, 4, 4, 4]   \n",
       "304         1  [4, 28, 156, 416]  [4, 4, 4, 4, 4, 4]   \n",
       "305         1  [4, 28, 260, 420]  [4, 4, 4, 4, 4, 4]   \n",
       "306         1   [4, 28, 57, 431]  [4, 4, 4, 4, 4, 4]   \n",
       "307         1   [4, 28, 57, 431]  [4, 4, 4, 4, 4, 4]   \n",
       "\n",
       "                         temp_child  \n",
       "303  [431, 431, 416, 420, 431, 431]  \n",
       "304  [431, 431, 416, 420, 431, 431]  \n",
       "305  [431, 431, 416, 420, 431, 431]  \n",
       "306  [431, 431, 416, 420, 431, 431]  \n",
       "307  [431, 431, 416, 420, 431, 431]  "
      ]
     },
     "execution_count": 206,
     "metadata": {},
     "output_type": "execute_result"
    }
   ],
   "source": [
    "# для проверки выберем все покупки клиента с ID 1515915625491770402 (индекс 303 из таблицы выше)\n",
    "df_purchases[df_purchases['client_id'] == 1515915625491770402][['quantity', 'category_ids', 'temp_parent', 'temp_child']]"
   ]
  },
  {
   "cell_type": "markdown",
   "id": "1ba81fa6-4f79-4204-8036-5aa499c10115",
   "metadata": {},
   "source": [
    "Как видим с учетом `quantity`:\n",
    "* 4 категория 6 раз\n",
    "* 431 категория 4 раза\n",
    "* 416 и 420 по 1 разу"
   ]
  },
  {
   "cell_type": "markdown",
   "id": "04595294-3166-4695-814e-6b2376d3a9e9",
   "metadata": {},
   "source": [
    "Теперь для нахождения любимых родительских и дочерних категорий воспользуемся поиском моды."
   ]
  },
  {
   "cell_type": "code",
   "execution_count": 209,
   "id": "cb7e16cc-0337-44ac-ba2c-aeb6049c5522",
   "metadata": {},
   "outputs": [],
   "source": [
    "# для начала приведем все значения категорий к int, т.к. в процессе создания списков они стали строковые в большинстве\n",
    "df_purchases['temp_parent'] = df_purchases['temp_parent'].apply(lambda x: [int(i) for i in x])\n",
    "df_purchases['temp_child'] = df_purchases['temp_child'].apply(lambda x: [int(i) for i in x])"
   ]
  },
  {
   "cell_type": "code",
   "execution_count": 210,
   "id": "9bf26add-5bde-4f21-91f2-34e18685b3f3",
   "metadata": {},
   "outputs": [],
   "source": [
    "# создадим префиксы любимых категорий найдя моду по спискам категорий\n",
    "df_purchases['top_parent'] = df_purchases['temp_parent'].transform(lambda x: pd.Series(x).mode()[0])\n",
    "df_purchases['top_child'] = df_purchases['temp_child'].transform(lambda x: pd.Series(x).mode()[0])"
   ]
  },
  {
   "cell_type": "code",
   "execution_count": 211,
   "id": "167fa937-de70-430d-b74a-7e06bfb4ab7e",
   "metadata": {},
   "outputs": [
    {
     "data": {
      "text/html": [
       "<div>\n",
       "<style scoped>\n",
       "    .dataframe tbody tr th:only-of-type {\n",
       "        vertical-align: middle;\n",
       "    }\n",
       "\n",
       "    .dataframe tbody tr th {\n",
       "        vertical-align: top;\n",
       "    }\n",
       "\n",
       "    .dataframe thead th {\n",
       "        text-align: right;\n",
       "    }\n",
       "</style>\n",
       "<table border=\"1\" class=\"dataframe\">\n",
       "  <thead>\n",
       "    <tr style=\"text-align: right;\">\n",
       "      <th></th>\n",
       "      <th>client_id</th>\n",
       "      <th>quantity</th>\n",
       "      <th>category_ids</th>\n",
       "      <th>temp_parent</th>\n",
       "      <th>temp_child</th>\n",
       "      <th>top_parent</th>\n",
       "      <th>top_child</th>\n",
       "    </tr>\n",
       "  </thead>\n",
       "  <tbody>\n",
       "    <tr>\n",
       "      <th>11</th>\n",
       "      <td>1515915625491869271</td>\n",
       "      <td>2</td>\n",
       "      <td>[4, 27, 350, 1392]</td>\n",
       "      <td>[4, 4]</td>\n",
       "      <td>[1392, 1392]</td>\n",
       "      <td>4</td>\n",
       "      <td>1392</td>\n",
       "    </tr>\n",
       "    <tr>\n",
       "      <th>98</th>\n",
       "      <td>1515915625470737089</td>\n",
       "      <td>2</td>\n",
       "      <td>[4, 28, 49, 684]</td>\n",
       "      <td>[4, 4, 4, 4, 4, 4]</td>\n",
       "      <td>[684, 684, 684, 431, 413, 431]</td>\n",
       "      <td>4</td>\n",
       "      <td>684</td>\n",
       "    </tr>\n",
       "    <tr>\n",
       "      <th>242</th>\n",
       "      <td>1515915625489956953</td>\n",
       "      <td>2</td>\n",
       "      <td>[4, 28, 49, 684]</td>\n",
       "      <td>[4, 4, 4]</td>\n",
       "      <td>[684, 684, 422]</td>\n",
       "      <td>4</td>\n",
       "      <td>684</td>\n",
       "    </tr>\n",
       "    <tr>\n",
       "      <th>303</th>\n",
       "      <td>1515915625491770402</td>\n",
       "      <td>2</td>\n",
       "      <td>[4, 28, 57, 431]</td>\n",
       "      <td>[4, 4, 4, 4, 4, 4]</td>\n",
       "      <td>[431, 431, 416, 420, 431, 431]</td>\n",
       "      <td>4</td>\n",
       "      <td>431</td>\n",
       "    </tr>\n",
       "    <tr>\n",
       "      <th>317</th>\n",
       "      <td>1515915625491828133</td>\n",
       "      <td>2</td>\n",
       "      <td>[4, 28, 57, 431]</td>\n",
       "      <td>[4, 4, 4, 4, 4, 4, 4, 4, 4, 4, 4, 4]</td>\n",
       "      <td>[431, 431, 422, 684, 684, 548, 548, 548, 548, ...</td>\n",
       "      <td>4</td>\n",
       "      <td>548</td>\n",
       "    </tr>\n",
       "  </tbody>\n",
       "</table>\n",
       "</div>"
      ],
      "text/plain": [
       "               client_id  quantity        category_ids  \\\n",
       "11   1515915625491869271         2  [4, 27, 350, 1392]   \n",
       "98   1515915625470737089         2    [4, 28, 49, 684]   \n",
       "242  1515915625489956953         2    [4, 28, 49, 684]   \n",
       "303  1515915625491770402         2    [4, 28, 57, 431]   \n",
       "317  1515915625491828133         2    [4, 28, 57, 431]   \n",
       "\n",
       "                              temp_parent  \\\n",
       "11                                 [4, 4]   \n",
       "98                     [4, 4, 4, 4, 4, 4]   \n",
       "242                             [4, 4, 4]   \n",
       "303                    [4, 4, 4, 4, 4, 4]   \n",
       "317  [4, 4, 4, 4, 4, 4, 4, 4, 4, 4, 4, 4]   \n",
       "\n",
       "                                            temp_child  top_parent  top_child  \n",
       "11                                        [1392, 1392]           4       1392  \n",
       "98                      [684, 684, 684, 431, 413, 431]           4        684  \n",
       "242                                    [684, 684, 422]           4        684  \n",
       "303                     [431, 431, 416, 420, 431, 431]           4        431  \n",
       "317  [431, 431, 422, 684, 684, 548, 548, 548, 548, ...           4        548  "
      ]
     },
     "execution_count": 211,
     "metadata": {},
     "output_type": "execute_result"
    }
   ],
   "source": [
    "# вот такие признаки у нас получилось\n",
    "df_purchases[df_purchases['quantity'] > 1][\n",
    "    ['client_id','quantity', 'category_ids', 'temp_parent', 'temp_child', 'top_parent', 'top_child']\n",
    "].head()"
   ]
  },
  {
   "cell_type": "markdown",
   "id": "e6c9e367-0fe2-439a-b0e4-8e1b49087b96",
   "metadata": {},
   "source": [
    "Создадим признак с датой последней покупки для каждого клиента."
   ]
  },
  {
   "cell_type": "code",
   "execution_count": 213,
   "id": "ed9dfc31-65fa-4b5d-869f-1072e983ea24",
   "metadata": {},
   "outputs": [],
   "source": [
    "# для каждого клиента определеям дату последней покупки\n",
    "df_purchases['last_purchase_date'] = df_purchases.groupby('client_id')['date'].transform('max')"
   ]
  },
  {
   "cell_type": "markdown",
   "id": "96a6fafd-9792-4d9c-8a03-327b03f8563a",
   "metadata": {},
   "source": [
    "Теперь можно создать признак с количеством дней с даты последней покупки (`days_after`). Для начала определим контрольную дату от которой будет отсчет. Текущую дату брать конечно не стоит. Данные в датафрейме за 2024 год. Возьмем за порог дату самой последней покупки, будем считать ее датой выгрузки данных."
   ]
  },
  {
   "cell_type": "code",
   "execution_count": 215,
   "id": "071b04a1-9124-4823-b015-09790a620ab6",
   "metadata": {},
   "outputs": [],
   "source": [
    "# определим последнюю дату покупки в датафрейме, ее будем использовать как дату данной выгрузки\n",
    "df_purchases['last_date'] = df_purchases['date'].max()"
   ]
  },
  {
   "cell_type": "code",
   "execution_count": 216,
   "id": "bba3c171-111d-4ab1-bb83-13740a48bd5d",
   "metadata": {},
   "outputs": [
    {
     "data": {
      "text/plain": [
       "0   2024-02-16\n",
       "1   2024-02-16\n",
       "2   2024-02-16\n",
       "Name: last_date, dtype: datetime64[ns]"
      ]
     },
     "execution_count": 216,
     "metadata": {},
     "output_type": "execute_result"
    }
   ],
   "source": [
    "df_purchases['last_date'].head(3)"
   ]
  },
  {
   "cell_type": "markdown",
   "id": "7bfb030b-c673-426b-8f81-8791e423ad6d",
   "metadata": {},
   "source": [
    "Датой отсчета будет `16-02-2024`. Теперь создадим признак `days_after`, как разницу между `last_date` и `last_purchase_date` в днях."
   ]
  },
  {
   "cell_type": "code",
   "execution_count": 218,
   "id": "463508ba-6348-4cee-9b35-7ec819b837bf",
   "metadata": {},
   "outputs": [],
   "source": [
    "# создаем признак из разницы столбцов в днях\n",
    "df_purchases['days_after'] = (df_purchases['last_date'] - df_purchases['last_purchase_date']).dt.days"
   ]
  },
  {
   "cell_type": "code",
   "execution_count": 219,
   "id": "1071904e-e8bf-4d26-8181-2bd37ace6d6a",
   "metadata": {},
   "outputs": [
    {
     "data": {
      "text/html": [
       "<div>\n",
       "<style scoped>\n",
       "    .dataframe tbody tr th:only-of-type {\n",
       "        vertical-align: middle;\n",
       "    }\n",
       "\n",
       "    .dataframe tbody tr th {\n",
       "        vertical-align: top;\n",
       "    }\n",
       "\n",
       "    .dataframe thead th {\n",
       "        text-align: right;\n",
       "    }\n",
       "</style>\n",
       "<table border=\"1\" class=\"dataframe\">\n",
       "  <thead>\n",
       "    <tr style=\"text-align: right;\">\n",
       "      <th></th>\n",
       "      <th>last_purchase_date</th>\n",
       "      <th>last_date</th>\n",
       "      <th>days_after</th>\n",
       "    </tr>\n",
       "  </thead>\n",
       "  <tbody>\n",
       "    <tr>\n",
       "      <th>112589</th>\n",
       "      <td>2023-04-28</td>\n",
       "      <td>2024-02-16</td>\n",
       "      <td>294</td>\n",
       "    </tr>\n",
       "    <tr>\n",
       "      <th>46873</th>\n",
       "      <td>2022-11-11</td>\n",
       "      <td>2024-02-16</td>\n",
       "      <td>462</td>\n",
       "    </tr>\n",
       "    <tr>\n",
       "      <th>84151</th>\n",
       "      <td>2023-01-28</td>\n",
       "      <td>2024-02-16</td>\n",
       "      <td>384</td>\n",
       "    </tr>\n",
       "    <tr>\n",
       "      <th>168494</th>\n",
       "      <td>2023-09-09</td>\n",
       "      <td>2024-02-16</td>\n",
       "      <td>160</td>\n",
       "    </tr>\n",
       "    <tr>\n",
       "      <th>54628</th>\n",
       "      <td>2022-11-15</td>\n",
       "      <td>2024-02-16</td>\n",
       "      <td>458</td>\n",
       "    </tr>\n",
       "  </tbody>\n",
       "</table>\n",
       "</div>"
      ],
      "text/plain": [
       "       last_purchase_date  last_date  days_after\n",
       "112589         2023-04-28 2024-02-16         294\n",
       "46873          2022-11-11 2024-02-16         462\n",
       "84151          2023-01-28 2024-02-16         384\n",
       "168494         2023-09-09 2024-02-16         160\n",
       "54628          2022-11-15 2024-02-16         458"
      ]
     },
     "execution_count": 219,
     "metadata": {},
     "output_type": "execute_result"
    }
   ],
   "source": [
    "# получился такой вариант\n",
    "df_purchases[['last_purchase_date', 'last_date', 'days_after']].sample(5)"
   ]
  },
  {
   "cell_type": "markdown",
   "id": "d839073b-f817-4fcb-8b4d-fbfec78364cb",
   "metadata": {},
   "source": [
    "Создание признака с общей стоимостью купленного товара `cost`."
   ]
  },
  {
   "cell_type": "code",
   "execution_count": 221,
   "id": "522e184f-518d-4e11-9f49-a20fed193693",
   "metadata": {},
   "outputs": [],
   "source": [
    "df_purchases['cost'] = df_purchases.groupby('client_id')['price'].transform('sum')#.astype('int')"
   ]
  },
  {
   "cell_type": "code",
   "execution_count": 222,
   "id": "f04a4078-911e-4aa1-91fd-c873b1c484fe",
   "metadata": {},
   "outputs": [
    {
     "data": {
      "text/plain": [
       "count   129188.0000\n",
       "mean      5920.7561\n",
       "std       9572.3439\n",
       "min          1.0000\n",
       "25%       1699.0000\n",
       "50%       3498.0000\n",
       "75%       6879.2500\n",
       "max     297954.0000\n",
       "Name: cost, dtype: float64"
      ]
     },
     "execution_count": 222,
     "metadata": {},
     "output_type": "execute_result"
    }
   ],
   "source": [
    "df_purchases['cost'].describe()"
   ]
  },
  {
   "cell_type": "markdown",
   "id": "06a934ce-1970-44b4-b967-89b05722c1bd",
   "metadata": {},
   "source": [
    "Аномалий нет, а за рубль можно какой-нибудь пакет купить)"
   ]
  },
  {
   "cell_type": "markdown",
   "id": "7a22329a-2c24-405b-ac5b-2612e20309f7",
   "metadata": {},
   "source": [
    "Создание признака с общим количеством купленного товара `count`."
   ]
  },
  {
   "cell_type": "code",
   "execution_count": 225,
   "id": "cae74dad-3a66-4fd6-9fd6-9145b38c9b77",
   "metadata": {},
   "outputs": [],
   "source": [
    "df_purchases['count'] = df_purchases.groupby('client_id')['quantity'].transform('sum')"
   ]
  },
  {
   "cell_type": "code",
   "execution_count": 226,
   "id": "55abfb18-467a-4b6b-8a24-9f7370e32534",
   "metadata": {},
   "outputs": [
    {
     "data": {
      "text/plain": [
       "count   129188.0000\n",
       "mean         5.8745\n",
       "std          8.5020\n",
       "min          1.0000\n",
       "25%          2.0000\n",
       "50%          4.0000\n",
       "75%          7.0000\n",
       "max        161.0000\n",
       "Name: count, dtype: float64"
      ]
     },
     "execution_count": 226,
     "metadata": {},
     "output_type": "execute_result"
    }
   ],
   "source": [
    "df_purchases['count'].describe()"
   ]
  },
  {
   "cell_type": "markdown",
   "id": "effc1be0-f850-4c1b-b160-f9262ad07c33",
   "metadata": {},
   "source": [
    "Тут тоже все нормально, а 161 товар вполне можно купить за несколько лет."
   ]
  },
  {
   "cell_type": "code",
   "execution_count": 228,
   "id": "ada38ccd-a197-4dcf-a601-0b068311b33a",
   "metadata": {},
   "outputs": [],
   "source": [
    "# создадим временнеы признаки год и квартал покупки\n",
    "df_purchases['quarter'] = df_purchases['date'].dt.quarter\n",
    "df_purchases['year'] = df_purchases['date'].dt.year"
   ]
  },
  {
   "cell_type": "code",
   "execution_count": 229,
   "id": "3d224364-6c95-4923-97bc-cef31bfaed1e",
   "metadata": {},
   "outputs": [],
   "source": [
    "# сгруппируем данны по клиенту, году и кварталу. Получим количество товара куплнного в каждый квартал каждого года\n",
    "#df_purchases['quantily_per_quarter'] = df_purchases.groupby(['client_id', 'year', 'quarter'])['quantity'].transform('sum')"
   ]
  },
  {
   "cell_type": "code",
   "execution_count": 230,
   "id": "00c805c3-a4af-4ea7-9011-4c86007edbc7",
   "metadata": {},
   "outputs": [],
   "source": [
    "# посчитаем медиану количества товара для кадго клиента\n",
    "#df_purchases['median_quantily_per_quarter'] = df_purchases.groupby(['client_id'])['quantily_per_quarter'].transform('median').astype('int')"
   ]
  },
  {
   "cell_type": "code",
   "execution_count": 231,
   "id": "0bb7dc12-9ae7-4019-bb38-cdaa4246df7e",
   "metadata": {},
   "outputs": [],
   "source": [
    "# удалим признаки созданные для расчета\n",
    "#df_purchases = df_purchases.drop(['quarter', 'year', 'quantily_per_quarter'], axis=1)"
   ]
  },
  {
   "cell_type": "code",
   "execution_count": 232,
   "id": "0f232b12-a215-464e-ae26-d58eafa07a23",
   "metadata": {},
   "outputs": [],
   "source": [
    "#df_purchases[df_purchases['client_id']==1515915625468060902].groupby(['client_id', 'quarter']).count()"
   ]
  },
  {
   "cell_type": "code",
   "execution_count": 233,
   "id": "3e8feb3d-3730-4e78-9e3b-629e56e36c86",
   "metadata": {},
   "outputs": [],
   "source": [
    "# считаем для каждого клиента, сколько кварталов в год у него были с покупками\n",
    "df_purchases['quarter_per_year'] = df_purchases.groupby(['client_id', 'year'])['quarter'].transform('nunique')"
   ]
  },
  {
   "cell_type": "code",
   "execution_count": 234,
   "id": "e7c0253c-5794-403d-96e2-6882e8340915",
   "metadata": {},
   "outputs": [
    {
     "data": {
      "text/plain": [
       "quarter_per_year\n",
       "1    113516\n",
       "2     13134\n",
       "3      2324\n",
       "4       214\n",
       "Name: count, dtype: int64"
      ]
     },
     "execution_count": 234,
     "metadata": {},
     "output_type": "execute_result"
    }
   ],
   "source": [
    "df_purchases['quarter_per_year'].value_counts()"
   ]
  },
  {
   "cell_type": "code",
   "execution_count": 235,
   "id": "50a12acb-4b32-4aaa-a73a-3f7abe5b609d",
   "metadata": {},
   "outputs": [],
   "source": [
    "# Содаем выборку с суммой количества кварталов за все годы для каждого клиента\n",
    "temp_res = df_purchases.drop_duplicates(['client_id', 'year']).groupby(['client_id'])['quarter_per_year'].sum()\n",
    "# добавляем признак quarter_active_count - количество кварталов с покупками за все время\n",
    "df_purchases['quarter_active_count'] = df_purchases['client_id'].map(temp_res)"
   ]
  },
  {
   "cell_type": "code",
   "execution_count": 236,
   "id": "d691befa-3f81-4814-8371-082d855aa158",
   "metadata": {},
   "outputs": [],
   "source": [
    "# удаляем временные признаки\n",
    "df_purchases = df_purchases.drop(['quarter_per_year', 'quarter', 'year'], axis=1)"
   ]
  },
  {
   "cell_type": "code",
   "execution_count": 237,
   "id": "25d639b9-daf4-4b27-89a6-6a958c064ae0",
   "metadata": {},
   "outputs": [],
   "source": [
    "df_purchases[df_purchases['client_id'] == 1515915625590210000]"
   ]
  },
  {
   "cell_type": "markdown",
   "id": "325d2f5a-1fda-4fd7-bc45-7f077f719b50",
   "metadata": {},
   "source": [
    "Пока с созданием новых признаков закончим, после объединения с `df_messages` можно добавить еще 1-2. Определим список признаков которые необходимо удалить.\n",
    "* `temp_parent`, `parent_category` - временный\n",
    "* `temp_child`, `child_category` - временный\n",
    "* `last_date` - использовался для расчета\n",
    "* `date` - использовали для рачета других признаков\n",
    "* `category_ids` - мы отпределили моду родительской и дочерней категории для кадого пользователя.\n",
    "* `price` - заменили на агрегированное значение `cost`\n",
    "* `quantity` - заменили на агрегированное значение `count`\n",
    "* `message_id` - признак полезен только для анализа эффективности рассылок"
   ]
  },
  {
   "cell_type": "code",
   "execution_count": 239,
   "id": "c220ca35-6c49-404a-a02a-11d4aceb435d",
   "metadata": {},
   "outputs": [],
   "source": [
    "non_info_feat = ['temp_parent', 'temp_child', 'last_date', 'date',\n",
    "                 'category_ids', 'price', 'quantity', 'message_id',\n",
    "                'child_category', 'parent_category']"
   ]
  },
  {
   "cell_type": "code",
   "execution_count": 240,
   "id": "9688757b-1934-4c75-ac90-d0d0270c5447",
   "metadata": {},
   "outputs": [],
   "source": [
    "df_purchases = df_purchases.drop(non_info_feat, axis=1)"
   ]
  },
  {
   "cell_type": "code",
   "execution_count": 241,
   "id": "8a1d1db8-7369-4377-920c-83501361b74b",
   "metadata": {},
   "outputs": [
    {
     "data": {
      "text/html": [
       "<div>\n",
       "<style scoped>\n",
       "    .dataframe tbody tr th:only-of-type {\n",
       "        vertical-align: middle;\n",
       "    }\n",
       "\n",
       "    .dataframe tbody tr th {\n",
       "        vertical-align: top;\n",
       "    }\n",
       "\n",
       "    .dataframe thead th {\n",
       "        text-align: right;\n",
       "    }\n",
       "</style>\n",
       "<table border=\"1\" class=\"dataframe\">\n",
       "  <thead>\n",
       "    <tr style=\"text-align: right;\">\n",
       "      <th></th>\n",
       "      <th>client_id</th>\n",
       "      <th>top_parent</th>\n",
       "      <th>top_child</th>\n",
       "      <th>last_purchase_date</th>\n",
       "      <th>days_after</th>\n",
       "      <th>cost</th>\n",
       "      <th>count</th>\n",
       "      <th>quarter_active_count</th>\n",
       "    </tr>\n",
       "  </thead>\n",
       "  <tbody>\n",
       "    <tr>\n",
       "      <th>0</th>\n",
       "      <td>1515915625468169594</td>\n",
       "      <td>4</td>\n",
       "      <td>657</td>\n",
       "      <td>2023-11-22</td>\n",
       "      <td>86</td>\n",
       "      <td>19013.0000</td>\n",
       "      <td>8</td>\n",
       "      <td>4</td>\n",
       "    </tr>\n",
       "    <tr>\n",
       "      <th>1</th>\n",
       "      <td>1515915625468169594</td>\n",
       "      <td>4</td>\n",
       "      <td>657</td>\n",
       "      <td>2023-11-22</td>\n",
       "      <td>86</td>\n",
       "      <td>19013.0000</td>\n",
       "      <td>8</td>\n",
       "      <td>4</td>\n",
       "    </tr>\n",
       "    <tr>\n",
       "      <th>2</th>\n",
       "      <td>1515915625471138230</td>\n",
       "      <td>4</td>\n",
       "      <td>413</td>\n",
       "      <td>2022-05-16</td>\n",
       "      <td>641</td>\n",
       "      <td>16497.0000</td>\n",
       "      <td>3</td>\n",
       "      <td>1</td>\n",
       "    </tr>\n",
       "    <tr>\n",
       "      <th>3</th>\n",
       "      <td>1515915625471138230</td>\n",
       "      <td>4</td>\n",
       "      <td>413</td>\n",
       "      <td>2022-05-16</td>\n",
       "      <td>641</td>\n",
       "      <td>16497.0000</td>\n",
       "      <td>3</td>\n",
       "      <td>1</td>\n",
       "    </tr>\n",
       "    <tr>\n",
       "      <th>4</th>\n",
       "      <td>1515915625471138230</td>\n",
       "      <td>4</td>\n",
       "      <td>413</td>\n",
       "      <td>2022-05-16</td>\n",
       "      <td>641</td>\n",
       "      <td>16497.0000</td>\n",
       "      <td>3</td>\n",
       "      <td>1</td>\n",
       "    </tr>\n",
       "  </tbody>\n",
       "</table>\n",
       "</div>"
      ],
      "text/plain": [
       "             client_id  top_parent  top_child last_purchase_date  days_after  \\\n",
       "0  1515915625468169594           4        657         2023-11-22          86   \n",
       "1  1515915625468169594           4        657         2023-11-22          86   \n",
       "2  1515915625471138230           4        413         2022-05-16         641   \n",
       "3  1515915625471138230           4        413         2022-05-16         641   \n",
       "4  1515915625471138230           4        413         2022-05-16         641   \n",
       "\n",
       "        cost  count  quarter_active_count  \n",
       "0 19013.0000      8                     4  \n",
       "1 19013.0000      8                     4  \n",
       "2 16497.0000      3                     1  \n",
       "3 16497.0000      3                     1  \n",
       "4 16497.0000      3                     1  "
      ]
     },
     "execution_count": 241,
     "metadata": {},
     "output_type": "execute_result"
    }
   ],
   "source": [
    "df_purchases.head()"
   ]
  },
  {
   "cell_type": "markdown",
   "id": "49d7c2f6-4a30-411b-a857-3fac544c5beb",
   "metadata": {},
   "source": [
    "## Вывод по разделу:\n",
    "**df_messages**\n",
    "\n",
    "Создали признаки:\n",
    "* Количество рассылок на пользователя `bulk_by_user`.\n",
    "* Количество сообщений на пользователя `message_by_user`.\n",
    "* Количество каждого действия `send`, `open` и т.д.\n",
    "* Количество сообщений на каждый канал `email` и `mobile_push`.\n",
    "* Признак  `duration` - разница между последним и первым эвентом, время сколько клиент зарегестрирован.\n",
    "* Признак первой даты рассылки, потом можно вычислить разницу между последней покупкой и создать признак `first_message_date`.\n",
    "* Частота сообщений (количество сообщений в квартал) `messages_per_quarter`.\n",
    "* В процессе признаки `bulk_by_user`, `messages_by_client`, `send` были определены как `dummy` и в датафрейм не вошли.\n",
    "* Признаки `complain`, `hard_bounce`, `hbq_spam`, `close`, `soft_bounce`, `subscribe`, `unsubscribe` было решено не использовать из за неиформативности.\n",
    "* Признаки `bulk_campaign_id` и `message_id` было не использовать в рамках текущей задачи, они тоже не вошли в датафрейм.\n",
    "* Из новых признаков в датафрейм вошли:\n",
    "  * `email`, `mobile_push` - количество сообщений по каналам\n",
    "  * `click`, `open`, `purchase` - количественная оценка пользовательской реакции\n",
    "  * `first_message_date` - дата первого сообщения\n",
    "  * `duration` - продолжительность коммуникации с клиентом в днях\n",
    "  * `messages_per_quarter` - количество сообщений в квартал\n",
    "  \n",
    "\n",
    "**df_purchases**\n",
    "\n",
    "Создали признаки:\n",
    "* Родительскую и дочернюю категории -  `parent_category` и `child_category`, взяв первый и последний ID категории в списке.\n",
    "* С помощью `parent_category` и `child_category` - создали `temp_parent` и `temp_child` (временные признаки) для подсчета категрий с учтетом  признака `quantity`, учитываем каждую категорию по значению количества купленного товара.\n",
    "* Признаки `top_parent` и `top_child` - агрегировав по пользователю и просуммировав категории, мы взяли моду и вывели самы частые категории в которых покупал клиент.\n",
    "* Временные признак `last_date` - дата самой последней покупки в датафрейме, ее взяли за дату создания выгрузки.\n",
    "* Признак `days_after` - дней с момента покупки по `last_date` (как давно была сделана последняя покупка).\n",
    "* Признак `last_purchase_date` - дата последней покупки пользователя. Так же используя первую дату рассылки на клиента можно определить время сколько дней он является активным покупателем.\n",
    "* Признаки с общей стоимостью купленного каждым клиентом товара и общим количеством (`cost` и `count`).\n",
    "* Признак `message_id` удалили как незадействованный в текущей задаче.\n",
    "* Временные признаки `temp_parent`, `temp_child`, `last_date`, `child_category`, `parent_category` - так же удалили\n",
    "* Признаки `category_ids`, `price`, `quantity` удалили как обработанные и замененные другими.\n",
    "* Из новых признаков в датафрейм вошли:\n",
    "  * `top_parent` - мода родительской категории (первой в списке)\n",
    "  * `top_child` - мода дочерней категории (последней в списке)\n",
    "  * `days_after` - дней с момента последней покупки\n",
    "  * `last_purchase_date` - дата последней покупки клиента\n",
    "  * `cost` - общая стоимость купленных клиентом товаров\n",
    "  * `count` - общее количество товаров купленых клиентом"
   ]
  },
  {
   "cell_type": "markdown",
   "id": "5835ca53-8622-4979-b0b6-af463ae8aa85",
   "metadata": {},
   "source": [
    "# Объединение датафреймов"
   ]
  },
  {
   "cell_type": "markdown",
   "id": "8542573a-d03d-435e-85ad-3e57103a07f4",
   "metadata": {},
   "source": [
    "## Подготовка df_messages"
   ]
  },
  {
   "cell_type": "code",
   "execution_count": 245,
   "id": "e442f5f0-47a7-454f-a983-35b624616d0f",
   "metadata": {},
   "outputs": [],
   "source": [
    "df_messages = df_messages.drop_duplicates('client_id').reset_index(drop=True)"
   ]
  },
  {
   "cell_type": "code",
   "execution_count": 246,
   "id": "874e519c-84d6-4f64-85f3-8bd4f6ffd3d4",
   "metadata": {},
   "outputs": [
    {
     "data": {
      "text/plain": [
       "(53329, 9)"
      ]
     },
     "execution_count": 246,
     "metadata": {},
     "output_type": "execute_result"
    }
   ],
   "source": [
    "df_messages.shape"
   ]
  },
  {
   "cell_type": "markdown",
   "id": "969e9138-e2c9-424b-9249-0f6a9b3c071d",
   "metadata": {},
   "source": [
    "## Подготовка df_purchases"
   ]
  },
  {
   "cell_type": "code",
   "execution_count": 248,
   "id": "c5f24b56-0602-410c-a7a4-048190004c8d",
   "metadata": {},
   "outputs": [],
   "source": [
    "df_purchases = df_purchases.drop_duplicates('client_id').reset_index(drop=True)"
   ]
  },
  {
   "cell_type": "code",
   "execution_count": 249,
   "id": "32ba186a-7d21-4bf7-a057-008dc4a3da2e",
   "metadata": {},
   "outputs": [
    {
     "data": {
      "text/plain": [
       "(49849, 8)"
      ]
     },
     "execution_count": 249,
     "metadata": {},
     "output_type": "execute_result"
    }
   ],
   "source": [
    "df_purchases.shape"
   ]
  },
  {
   "cell_type": "markdown",
   "id": "05caf34d-611d-4e8c-bf3a-e730378204b5",
   "metadata": {},
   "source": [
    "## Объединение с df_target"
   ]
  },
  {
   "cell_type": "code",
   "execution_count": 251,
   "id": "6b3e6896-9a49-462a-88a2-645de5842e11",
   "metadata": {},
   "outputs": [
    {
     "data": {
      "text/plain": [
       "(41982, 17)"
      ]
     },
     "execution_count": 251,
     "metadata": {},
     "output_type": "execute_result"
    }
   ],
   "source": [
    "# посмотрим на размерность будущего датафрейма\n",
    "df_purchases.merge(df_messages, how=\"inner\", on=\"client_id\").merge(df_target, how=\"inner\", on=\"client_id\").shape"
   ]
  },
  {
   "cell_type": "markdown",
   "id": "773f62bc-ee84-444d-b4b2-9001d3ffd350",
   "metadata": {},
   "source": [
    "Количество строк говорит о том, что в каждом из трех датафреймах есть клиенты которые уникальны только для него. Т.е. в `df_messages` есть клиенты которых нет в двух других, и так для каждого. И если мы будем объединять данные через `left` то это приведеит к образованию большого количества пропусков, которые придется заполнять. Поэтому лучше будем использовать достоверные данные и не заполнять пропуски синтетическими."
   ]
  },
  {
   "cell_type": "code",
   "execution_count": 253,
   "id": "36ea7707-85d8-401d-9f78-e38004f604c9",
   "metadata": {},
   "outputs": [],
   "source": [
    "# создаем итоговый датафрейм из данных клиентов которые есть одновременно во всех датафреймах\n",
    "df = df_purchases.merge(df_messages, how=\"inner\", on=\"client_id\").merge(df_target, how=\"inner\", on=\"client_id\")"
   ]
  },
  {
   "cell_type": "code",
   "execution_count": 254,
   "id": "dd24267b-4619-4005-875d-3395b423ec11",
   "metadata": {},
   "outputs": [
    {
     "data": {
      "text/html": [
       "<div>\n",
       "<style scoped>\n",
       "    .dataframe tbody tr th:only-of-type {\n",
       "        vertical-align: middle;\n",
       "    }\n",
       "\n",
       "    .dataframe tbody tr th {\n",
       "        vertical-align: top;\n",
       "    }\n",
       "\n",
       "    .dataframe thead th {\n",
       "        text-align: right;\n",
       "    }\n",
       "</style>\n",
       "<table border=\"1\" class=\"dataframe\">\n",
       "  <thead>\n",
       "    <tr style=\"text-align: right;\">\n",
       "      <th></th>\n",
       "      <th>client_id</th>\n",
       "      <th>top_parent</th>\n",
       "      <th>top_child</th>\n",
       "      <th>last_purchase_date</th>\n",
       "      <th>days_after</th>\n",
       "      <th>cost</th>\n",
       "      <th>count</th>\n",
       "      <th>quarter_active_count</th>\n",
       "      <th>email</th>\n",
       "      <th>mobile_push</th>\n",
       "      <th>click</th>\n",
       "      <th>open</th>\n",
       "      <th>purchase</th>\n",
       "      <th>first_message_date</th>\n",
       "      <th>duration</th>\n",
       "      <th>messages_per_quarter</th>\n",
       "      <th>target</th>\n",
       "    </tr>\n",
       "  </thead>\n",
       "  <tbody>\n",
       "    <tr>\n",
       "      <th>0</th>\n",
       "      <td>1515915625468169594</td>\n",
       "      <td>4</td>\n",
       "      <td>657</td>\n",
       "      <td>2023-11-22</td>\n",
       "      <td>86</td>\n",
       "      <td>19013.0000</td>\n",
       "      <td>8</td>\n",
       "      <td>4</td>\n",
       "      <td>114</td>\n",
       "      <td>0</td>\n",
       "      <td>13</td>\n",
       "      <td>125</td>\n",
       "      <td>4</td>\n",
       "      <td>2022-05-19</td>\n",
       "      <td>635</td>\n",
       "      <td>18</td>\n",
       "      <td>0</td>\n",
       "    </tr>\n",
       "    <tr>\n",
       "      <th>1</th>\n",
       "      <td>1515915625471138230</td>\n",
       "      <td>4</td>\n",
       "      <td>413</td>\n",
       "      <td>2022-05-16</td>\n",
       "      <td>641</td>\n",
       "      <td>16497.0000</td>\n",
       "      <td>3</td>\n",
       "      <td>1</td>\n",
       "      <td>0</td>\n",
       "      <td>177</td>\n",
       "      <td>9</td>\n",
       "      <td>0</td>\n",
       "      <td>0</td>\n",
       "      <td>2022-06-18</td>\n",
       "      <td>606</td>\n",
       "      <td>26</td>\n",
       "      <td>0</td>\n",
       "    </tr>\n",
       "    <tr>\n",
       "      <th>2</th>\n",
       "      <td>1515915625471640575</td>\n",
       "      <td>2</td>\n",
       "      <td>440</td>\n",
       "      <td>2022-06-17</td>\n",
       "      <td>609</td>\n",
       "      <td>5797.0000</td>\n",
       "      <td>3</td>\n",
       "      <td>1</td>\n",
       "      <td>109</td>\n",
       "      <td>194</td>\n",
       "      <td>21</td>\n",
       "      <td>79</td>\n",
       "      <td>3</td>\n",
       "      <td>2022-05-27</td>\n",
       "      <td>629</td>\n",
       "      <td>31</td>\n",
       "      <td>0</td>\n",
       "    </tr>\n",
       "  </tbody>\n",
       "</table>\n",
       "</div>"
      ],
      "text/plain": [
       "             client_id  top_parent  top_child last_purchase_date  days_after  \\\n",
       "0  1515915625468169594           4        657         2023-11-22          86   \n",
       "1  1515915625471138230           4        413         2022-05-16         641   \n",
       "2  1515915625471640575           2        440         2022-06-17         609   \n",
       "\n",
       "        cost  count  quarter_active_count  email  mobile_push  click  open  \\\n",
       "0 19013.0000      8                     4    114            0     13   125   \n",
       "1 16497.0000      3                     1      0          177      9     0   \n",
       "2  5797.0000      3                     1    109          194     21    79   \n",
       "\n",
       "   purchase first_message_date  duration  messages_per_quarter  target  \n",
       "0         4         2022-05-19       635                    18       0  \n",
       "1         0         2022-06-18       606                    26       0  \n",
       "2         3         2022-05-27       629                    31       0  "
      ]
     },
     "execution_count": 254,
     "metadata": {},
     "output_type": "execute_result"
    }
   ],
   "source": [
    "df.head(3)"
   ]
  },
  {
   "cell_type": "code",
   "execution_count": 255,
   "id": "badca63a-6113-4d0f-98a6-951f8b3f5e54",
   "metadata": {},
   "outputs": [
    {
     "data": {
      "text/plain": [
       "(41982, 17)"
      ]
     },
     "execution_count": 255,
     "metadata": {},
     "output_type": "execute_result"
    }
   ],
   "source": [
    "df.shape"
   ]
  },
  {
   "cell_type": "markdown",
   "id": "08d50fe4-584a-42e5-933a-0f289f1584e4",
   "metadata": {},
   "source": [
    "## Создание новых признаков"
   ]
  },
  {
   "cell_type": "markdown",
   "id": "fc0e31de-a58b-4560-bd2b-cb218fb42534",
   "metadata": {},
   "source": [
    "Найдем разницу между отправкой первого сообщения клиенту и датой последней покупки. Назовем этот признак - продолжительность активности. Сколько дней клиент является зарегестрированным пользователем магазина и продолжает покупать. Возможен вариант, что клиент ничего не покупал после получения первого сообщения и разнаца дат будет отрицательной, значенния меньше нуля приравняем к нулю."
   ]
  },
  {
   "cell_type": "code",
   "execution_count": 258,
   "id": "e07e2e4f-f920-486b-8fbc-ed30246e9587",
   "metadata": {},
   "outputs": [],
   "source": [
    "df['active_duration'] = (df['last_purchase_date'] - df['first_message_date']).dt.days.apply(lambda x: x if x > 0 else 0)"
   ]
  },
  {
   "cell_type": "code",
   "execution_count": 259,
   "id": "d9e0f3d6-0ce6-4283-b42e-b6f5d755fc1c",
   "metadata": {},
   "outputs": [],
   "source": [
    "df = df.drop(['last_purchase_date', 'first_message_date'], axis=1)"
   ]
  },
  {
   "cell_type": "code",
   "execution_count": 260,
   "id": "1016f351-fdb0-44e6-b61f-edbaf64a1c22",
   "metadata": {},
   "outputs": [
    {
     "data": {
      "text/html": [
       "<div>\n",
       "<style scoped>\n",
       "    .dataframe tbody tr th:only-of-type {\n",
       "        vertical-align: middle;\n",
       "    }\n",
       "\n",
       "    .dataframe tbody tr th {\n",
       "        vertical-align: top;\n",
       "    }\n",
       "\n",
       "    .dataframe thead th {\n",
       "        text-align: right;\n",
       "    }\n",
       "</style>\n",
       "<table border=\"1\" class=\"dataframe\">\n",
       "  <thead>\n",
       "    <tr style=\"text-align: right;\">\n",
       "      <th></th>\n",
       "      <th>client_id</th>\n",
       "      <th>top_parent</th>\n",
       "      <th>top_child</th>\n",
       "      <th>days_after</th>\n",
       "      <th>cost</th>\n",
       "      <th>count</th>\n",
       "      <th>quarter_active_count</th>\n",
       "      <th>email</th>\n",
       "      <th>mobile_push</th>\n",
       "      <th>click</th>\n",
       "      <th>open</th>\n",
       "      <th>purchase</th>\n",
       "      <th>duration</th>\n",
       "      <th>messages_per_quarter</th>\n",
       "      <th>target</th>\n",
       "      <th>active_duration</th>\n",
       "    </tr>\n",
       "  </thead>\n",
       "  <tbody>\n",
       "    <tr>\n",
       "      <th>33735</th>\n",
       "      <td>1515915625501547429</td>\n",
       "      <td>4</td>\n",
       "      <td>431</td>\n",
       "      <td>227</td>\n",
       "      <td>9941.0000</td>\n",
       "      <td>3</td>\n",
       "      <td>1</td>\n",
       "      <td>113</td>\n",
       "      <td>109</td>\n",
       "      <td>1</td>\n",
       "      <td>55</td>\n",
       "      <td>1</td>\n",
       "      <td>637</td>\n",
       "      <td>26</td>\n",
       "      <td>0</td>\n",
       "      <td>411</td>\n",
       "    </tr>\n",
       "    <tr>\n",
       "      <th>32994</th>\n",
       "      <td>1515915625487943853</td>\n",
       "      <td>4</td>\n",
       "      <td>701</td>\n",
       "      <td>233</td>\n",
       "      <td>2498.0000</td>\n",
       "      <td>2</td>\n",
       "      <td>1</td>\n",
       "      <td>88</td>\n",
       "      <td>50</td>\n",
       "      <td>6</td>\n",
       "      <td>6</td>\n",
       "      <td>2</td>\n",
       "      <td>624</td>\n",
       "      <td>17</td>\n",
       "      <td>0</td>\n",
       "      <td>393</td>\n",
       "    </tr>\n",
       "    <tr>\n",
       "      <th>31653</th>\n",
       "      <td>1515915625973929420</td>\n",
       "      <td>-1</td>\n",
       "      <td>-1</td>\n",
       "      <td>250</td>\n",
       "      <td>1404.0000</td>\n",
       "      <td>2</td>\n",
       "      <td>1</td>\n",
       "      <td>0</td>\n",
       "      <td>49</td>\n",
       "      <td>2</td>\n",
       "      <td>0</td>\n",
       "      <td>1</td>\n",
       "      <td>107</td>\n",
       "      <td>11</td>\n",
       "      <td>0</td>\n",
       "      <td>4</td>\n",
       "    </tr>\n",
       "  </tbody>\n",
       "</table>\n",
       "</div>"
      ],
      "text/plain": [
       "                 client_id  top_parent  top_child  days_after      cost  \\\n",
       "33735  1515915625501547429           4        431         227 9941.0000   \n",
       "32994  1515915625487943853           4        701         233 2498.0000   \n",
       "31653  1515915625973929420          -1         -1         250 1404.0000   \n",
       "\n",
       "       count  quarter_active_count  email  mobile_push  click  open  purchase  \\\n",
       "33735      3                     1    113          109      1    55         1   \n",
       "32994      2                     1     88           50      6     6         2   \n",
       "31653      2                     1      0           49      2     0         1   \n",
       "\n",
       "       duration  messages_per_quarter  target  active_duration  \n",
       "33735       637                    26       0              411  \n",
       "32994       624                    17       0              393  \n",
       "31653       107                    11       0                4  "
      ]
     },
     "execution_count": 260,
     "metadata": {},
     "output_type": "execute_result"
    }
   ],
   "source": [
    "df.sample(3)"
   ]
  },
  {
   "cell_type": "markdown",
   "id": "eb38ad7d-3716-4862-abdb-5f4032839599",
   "metadata": {},
   "source": [
    "# Создание выборок"
   ]
  },
  {
   "cell_type": "code",
   "execution_count": null,
   "id": "d638e8f8-a730-4559-b319-0dbc9dfcb7ea",
   "metadata": {},
   "outputs": [],
   "source": []
  },
  {
   "cell_type": "code",
   "execution_count": 262,
   "id": "78b52774-01cb-47e9-9bce-35b6f37a0cef",
   "metadata": {},
   "outputs": [],
   "source": [
    "df_copy = df.copy()"
   ]
  },
  {
   "cell_type": "code",
   "execution_count": 802,
   "id": "3e108060-8dea-4073-9afc-4d0a5823de5f",
   "metadata": {},
   "outputs": [],
   "source": [
    "df = df_copy.copy()"
   ]
  },
  {
   "cell_type": "code",
   "execution_count": 804,
   "id": "df76bd99-1c3e-4bce-a386-cd29bf78616d",
   "metadata": {},
   "outputs": [],
   "source": [
    "df['frequency_purchase'] = (\n",
    "    df['quarter_active_count'] / \n",
    "    df['active_duration'].apply(lambda x: x / 90 if x > 90 else 90)\n",
    ")"
   ]
  },
  {
   "cell_type": "code",
   "execution_count": 806,
   "id": "9fa70ed8-16a6-42e7-b724-3f0e138a0509",
   "metadata": {},
   "outputs": [],
   "source": [
    "df['click_to_buy'] = (df['purchase'] / df['click']).replace([np.inf, np.nan], 0).apply(lambda x: x if x < 1 else .9)"
   ]
  },
  {
   "cell_type": "code",
   "execution_count": 808,
   "id": "5c63d536-1e9d-4541-9a97-c56733c74596",
   "metadata": {},
   "outputs": [],
   "source": [
    "df['open_to_buy'] = (df['purchase'] / df['open']).replace([np.inf, np.nan], 0).apply(lambda x: x if x < 1 else .9)"
   ]
  },
  {
   "cell_type": "code",
   "execution_count": 810,
   "id": "347553a2-fa87-450d-ac69-2e3c8d1875e4",
   "metadata": {},
   "outputs": [],
   "source": [
    "df = df.drop('purchase', axis=1)"
   ]
  },
  {
   "cell_type": "code",
   "execution_count": 812,
   "id": "94db1dc3-5d71-489b-a7ef-d7d8862176e1",
   "metadata": {},
   "outputs": [],
   "source": [
    "df = df.drop('cost', axis=1)"
   ]
  },
  {
   "cell_type": "code",
   "execution_count": 814,
   "id": "ae02d8d2-e526-44a1-8170-bfb7f66a57f7",
   "metadata": {},
   "outputs": [],
   "source": [
    "df = df.drop('top_parent', axis=1)"
   ]
  },
  {
   "cell_type": "code",
   "execution_count": 816,
   "id": "9ea49e43-3333-4b89-b56e-48b4d66a9638",
   "metadata": {},
   "outputs": [
    {
     "name": "stdout",
     "output_type": "stream",
     "text": [
      "(41136, 16) (846, 16)\n"
     ]
    }
   ],
   "source": [
    "# Разделяем классы\n",
    "majority_class = df[df['target'] == 0]\n",
    "minority_class = df[df['target'] == 1]\n",
    "print(majority_class.shape, minority_class.shape)"
   ]
  },
  {
   "cell_type": "code",
   "execution_count": 818,
   "id": "087f2fb9-1bee-4e0b-a7e5-602d36378862",
   "metadata": {},
   "outputs": [],
   "source": [
    "# андерсэмплинг мажорного класса \n",
    "# уменьшаем до размера минорного умноженноно на мажорный коэффициент\n",
    "majority_undersampled = resample(\n",
    "    majority_class,\n",
    "    replace=False,\n",
    "    n_samples=len(minority_class) * MAJOR_COEF, \n",
    "    random_state=RANDOM_STATE\n",
    ")\n",
    "# Собираем обратно в один датафрейм\n",
    "df = pd.concat([majority_undersampled, minority_class])"
   ]
  },
  {
   "cell_type": "code",
   "execution_count": 820,
   "id": "1e3a7e8e-1d81-4ec4-880d-cd7358e0cdb3",
   "metadata": {},
   "outputs": [
    {
     "data": {
      "text/plain": [
       "(8460, 16)"
      ]
     },
     "execution_count": 820,
     "metadata": {},
     "output_type": "execute_result"
    }
   ],
   "source": [
    "df.shape"
   ]
  },
  {
   "cell_type": "code",
   "execution_count": 822,
   "id": "29895409-6dad-4a20-b618-ade237b9b953",
   "metadata": {},
   "outputs": [],
   "source": [
    "X_train, X_test, y_train, y_test = train_test_split(\n",
    "    df.drop(TARGET, axis=1),\n",
    "    df[TARGET], \n",
    "    test_size=TEST_SIZE, \n",
    "    stratify=df[TARGET],\n",
    "    random_state=RANDOM_STATE\n",
    ")"
   ]
  },
  {
   "cell_type": "code",
   "execution_count": 824,
   "id": "a6626aba-891c-48c0-a0ec-95b777980fff",
   "metadata": {},
   "outputs": [],
   "source": [
    "smote = SMOTE(\n",
    "    sampling_strategy=MINOR_COEF,  \n",
    "    random_state=RANDOM_STATE,\n",
    "    k_neighbors=4\n",
    ")\n",
    "X_resampled, y_resampled = smote.fit_resample(X_train, y_train)"
   ]
  },
  {
   "cell_type": "code",
   "execution_count": 826,
   "id": "7188d0d9-1b9f-4cfa-91d9-2e310f92f7c4",
   "metadata": {},
   "outputs": [
    {
     "name": "stdout",
     "output_type": "stream",
     "text": [
      "target\n",
      "0    5710\n",
      "1    1142\n",
      "Name: count, dtype: int64\n"
     ]
    }
   ],
   "source": [
    "print(pd.Series(y_resampled).value_counts())"
   ]
  },
  {
   "cell_type": "code",
   "execution_count": 828,
   "id": "fcd3d738-89ff-4347-99bb-1f129cb7c561",
   "metadata": {},
   "outputs": [],
   "source": [
    "#train_resampled = pd.concat([X_train, y_train], axis=1)"
   ]
  },
  {
   "cell_type": "code",
   "execution_count": 830,
   "id": "c354e642-cea5-449d-bf1d-2b5c2e6f706c",
   "metadata": {},
   "outputs": [],
   "source": [
    "train_resampled = pd.concat([X_resampled, y_resampled], axis=1)"
   ]
  },
  {
   "cell_type": "markdown",
   "id": "9a8d9a4b-2883-4f38-a511-ac6f93a13e90",
   "metadata": {},
   "source": [
    "# Анализ данных"
   ]
  },
  {
   "cell_type": "code",
   "execution_count": 833,
   "id": "cb3358d4-bd2f-42b6-9f75-bf8a5a9ceb10",
   "metadata": {},
   "outputs": [],
   "source": [
    "# определяем перечень непрерывных количественных столбцов для построения матрицы \n",
    "interval_cols = train_resampled.drop('client_id', axis=1).select_dtypes(include=['int', 'float64']).columns.tolist()"
   ]
  },
  {
   "cell_type": "code",
   "execution_count": 835,
   "id": "1a273934-0ef3-4f30-a813-a96c5d6f6dbd",
   "metadata": {},
   "outputs": [
    {
     "data": {
      "image/png": "[encoded data removed]",
      "text/plain": [
       "<Figure size 1500x1500 with 2 Axes>"
      ]
     },
     "metadata": {},
     "output_type": "display_data"
    }
   ],
   "source": [
    "# строим матрицу корреляции\n",
    "plt.figure(figsize=(15,15))\n",
    "sns.heatmap(\n",
    "    train_resampled.drop('client_id', axis=1).phik_matrix(\n",
    "        interval_cols=interval_cols,\n",
    "        verbose=False\n",
    "    ),\n",
    "    annot=True,\n",
    "    cmap='Reds',\n",
    "    fmt='.4f',\n",
    "    linewidths=3\n",
    ")\n",
    "plt.title('Корреляционная матрица признаков (по коэффициенту корреляции Фи).', fontsize=20)\n",
    "plt.show()"
   ]
  },
  {
   "cell_type": "code",
   "execution_count": 836,
   "id": "c657e689-d6e3-4840-86df-accb7f0d614e",
   "metadata": {},
   "outputs": [
    {
     "data": {
      "image/png": "[encoded data removed]",
      "text/plain": [
       "<Figure size 1000x1000 with 1 Axes>"
      ]
     },
     "metadata": {},
     "output_type": "display_data"
    }
   ],
   "source": [
    "# построим диаграмму коэффициентов корреляции с целевым признаком\n",
    "plt.figure(figsize=(10,10))\n",
    "train_resampled.drop('client_id', axis=1).phik_matrix(\n",
    "        interval_cols=interval_cols,\n",
    "        verbose=False\n",
    ")[TARGET].sort_values()[:-1].plot.barh()\n",
    "plt.grid(axis='x')\n",
    "plt.title('Диаграмма коэффициентов корреляции с целевым признаком', fontsize=20)\n",
    "plt.xlabel('Коэффициенты корреляции')\n",
    "plt.ylabel('Признаки')\n",
    "plt.show()"
   ]
  },
  {
   "cell_type": "code",
   "execution_count": 837,
   "id": "bb6cb65f-5ff1-45d0-b3e2-a151bea1f770",
   "metadata": {},
   "outputs": [],
   "source": [
    "#train_resampled = train_resampled.drop('cost', axis=1)\n",
    "#X_test = X_test.drop('cost', axis=1)"
   ]
  },
  {
   "cell_type": "code",
   "execution_count": 839,
   "id": "12ac305e-67ac-4233-9c48-a87e13c3afcd",
   "metadata": {},
   "outputs": [],
   "source": [
    "#train_resampled = train_resampled.drop('top_parent', axis=1)\n",
    "#X_test = X_test.drop('top_parent', axis=1)"
   ]
  },
  {
   "cell_type": "code",
   "execution_count": 843,
   "id": "69050517-05af-4ff2-b9a5-0ed68b16f322",
   "metadata": {},
   "outputs": [
    {
     "data": {
      "image/png": "[encoded data removed]",
      "text/plain": [
       "<Figure size 1000x1000 with 1 Axes>"
      ]
     },
     "metadata": {},
     "output_type": "display_data"
    }
   ],
   "source": [
    "# построим диаграмму коэффициентов корреляции с целевым признаком\n",
    "plt.figure(figsize=(10,10))\n",
    "train_resampled.drop('client_id', axis=1).phik_matrix(\n",
    "        interval_cols=interval_cols,\n",
    "        verbose=False\n",
    ")[TARGET].sort_values()[:-1].plot.barh()\n",
    "plt.grid(axis='x')\n",
    "plt.title('Диаграмма коэффициентов корреляции с целевым признаком', fontsize=20)\n",
    "plt.xlabel('Коэффициенты корреляции')\n",
    "plt.ylabel('Признаки')\n",
    "plt.show()"
   ]
  },
  {
   "cell_type": "markdown",
   "id": "402b89f8-3b98-44e2-82f7-78f1643f3d1d",
   "metadata": {},
   "source": [
    "# Обучение моделей"
   ]
  },
  {
   "cell_type": "code",
   "execution_count": 846,
   "id": "8fa15a03-4c0a-4ac2-966e-7efce2eccf35",
   "metadata": {},
   "outputs": [],
   "source": [
    "# создадим словарь для хранения метрик и времени обучения моделей\n",
    "best_models = {'model':[], 'ROC-AUC_cv':[], 'ROC-AUC':[], 'Precision':[]}"
   ]
  },
  {
   "cell_type": "markdown",
   "id": "3fe8382c-4cee-4c2a-9534-30cbeefeb74c",
   "metadata": {},
   "source": [
    "## LGBM"
   ]
  },
  {
   "cell_type": "code",
   "execution_count": 849,
   "id": "71ad3d28-ba17-431a-9c8e-cb02e48591df",
   "metadata": {},
   "outputs": [],
   "source": [
    "# набор параметров модели\n",
    "params_grid_lgb = {\n",
    "    'num_iterations': [75, 150],\n",
    "    'learning_rate': [.1],\n",
    "    'max_depth': [5],\n",
    "    'num_leaves': [31],\n",
    "    'seed': [RANDOM_STATE],\n",
    "    'metric': ['precision'],\n",
    "    'boosting_type': ['gbdt'],\n",
    "    'verbose': [-1]\n",
    "}"
   ]
  },
  {
   "cell_type": "code",
   "execution_count": 851,
   "id": "43adeffe-7169-40ed-a40c-f73918df5d67",
   "metadata": {},
   "outputs": [],
   "source": [
    "# используем кросс-валидацию\n",
    "grid_lgb = GridSearchCV(\n",
    "    estimator = lgb.LGBMClassifier(),\n",
    "    param_grid=params_grid_lgb,\n",
    "    cv=5,\n",
    "    scoring='roc_auc',\n",
    "    n_jobs=-1\n",
    ")"
   ]
  },
  {
   "cell_type": "code",
   "execution_count": 853,
   "id": "d8d03906-c6c3-4bf5-a2cb-f401737902a4",
   "metadata": {},
   "outputs": [],
   "source": [
    "best_models['model'].append('LGBMClassifier')\n",
    "grid_lgb.fit(\n",
    "    train_resampled.drop(['target', 'client_id'], axis=1),\n",
    "    train_resampled['target']\n",
    ")\n",
    "best_models['ROC-AUC_cv'].append(grid_lgb.best_score_)"
   ]
  },
  {
   "cell_type": "code",
   "execution_count": 854,
   "id": "8aaa8624-ea5f-4271-9549-688befd16c00",
   "metadata": {},
   "outputs": [],
   "source": [
    "# Оцениваем модель на тестовых данных\n",
    "best_model_lgb = grid_lgb.best_estimator_\n",
    "y_pred = best_model_lgb.predict(X_test.drop('client_id', axis=1))\n",
    "y_pred_proba = best_model_lgb.predict_proba(X_test.drop('client_id', axis=1))[:, 1]\n",
    "roc_auc_lgb = roc_auc_score(y_test, y_pred_proba)\n",
    "precision_lgb = precision_score(y_test, y_pred)\n",
    "best_models['ROC-AUC'].append(roc_auc_lgb)\n",
    "best_models['Precision'].append(precision_lgb)"
   ]
  },
  {
   "cell_type": "markdown",
   "id": "c65bd84e-3aa8-45d9-a34a-013d203c08db",
   "metadata": {},
   "source": [
    "## CatBoostClassifier"
   ]
  },
  {
   "cell_type": "code",
   "execution_count": 856,
   "id": "510fc15d-f993-4e96-8d87-e62c40b9c163",
   "metadata": {},
   "outputs": [],
   "source": [
    "# Параметры модели\n",
    "params_grid_cb = {\n",
    "    'iterations': [100],\n",
    "    'learning_rate': [.1],\n",
    "    'depth': [5],\n",
    "    'verbose': [False],\n",
    "    'eval_metric': ['AUC'],\n",
    "    'random_seed': [RANDOM_STATE]\n",
    "}"
   ]
  },
  {
   "cell_type": "code",
   "execution_count": 857,
   "id": "3f260790-f697-4de0-88f6-88de5a440bef",
   "metadata": {},
   "outputs": [],
   "source": [
    "# используем кросс-валидацию, количество для модели LinearRegression\n",
    "grid_cb = GridSearchCV(\n",
    "    estimator=CatBoostClassifier(),\n",
    "    param_grid=params_grid_cb,\n",
    "    cv=5,\n",
    "    scoring='roc_auc',\n",
    "    n_jobs=-1\n",
    ")"
   ]
  },
  {
   "cell_type": "code",
   "execution_count": 858,
   "id": "ebac3ce6-af37-4dac-94f9-2bc4225c1daa",
   "metadata": {},
   "outputs": [],
   "source": [
    "best_models['model'].append('CatBoostClassifier')\n",
    "grid_cb.fit(\n",
    "    train_resampled.drop(['target', 'client_id'], axis=1),\n",
    "    train_resampled['target']\n",
    ")\n",
    "best_models['ROC-AUC_cv'].append(grid_cb.best_score_)"
   ]
  },
  {
   "cell_type": "code",
   "execution_count": 859,
   "id": "84955b1d-c2ad-4902-ad21-4e7f7a1d8aff",
   "metadata": {},
   "outputs": [],
   "source": [
    "# Оцениваем модель на тестовых данных\n",
    "best_model_cb = grid_cb.best_estimator_\n",
    "y_pred = best_model_cb.predict(X_test.drop('client_id', axis=1))\n",
    "y_pred_proba = best_model_cb.predict_proba(X_test.drop('client_id', axis=1))[:, 1]\n",
    "roc_auc_cb = roc_auc_score(y_test, y_pred_proba)\n",
    "precision_cb = precision_score(y_test, y_pred)\n",
    "best_models['ROC-AUC'].append(roc_auc_cb)\n",
    "best_models['Precision'].append(precision_cb)"
   ]
  },
  {
   "cell_type": "markdown",
   "id": "9acc9f01-df5c-4c49-a071-367388faf70b",
   "metadata": {},
   "source": [
    "## Подготовка Pipeline"
   ]
  },
  {
   "cell_type": "code",
   "execution_count": 861,
   "id": "c4e470c4-7fa9-46a4-a0b5-b798f3022a34",
   "metadata": {},
   "outputs": [],
   "source": [
    "# подготовим печень количественных признаков\n",
    "num_features = train_resampled.drop([TARGET, 'client_id'], axis=1).select_dtypes(include=['int', 'float']).columns.tolist()"
   ]
  },
  {
   "cell_type": "code",
   "execution_count": 862,
   "id": "53db826c-0b15-4f1d-8224-51e26dcf6763",
   "metadata": {},
   "outputs": [],
   "source": [
    "# пайплайн для масштабирования количественных признаков, пропуски заполеям медианой\n",
    "num_pipe = Pipeline(\n",
    "    [\n",
    "        ('simpleImputer_num', SimpleImputer(missing_values=np.nan, strategy='median')),\n",
    "        ('scaler', StandardScaler())\n",
    "    ]\n",
    ")"
   ]
  },
  {
   "cell_type": "code",
   "execution_count": 863,
   "id": "924b5a26-83f5-44c2-9e26-c9ac67238ab3",
   "metadata": {},
   "outputs": [],
   "source": [
    "# пайплайн для кодирования и масштабирования всех признаков\n",
    "data_preprocessor = ColumnTransformer(\n",
    "    [\n",
    "        ('num', num_pipe, num_features)\n",
    "    ], \n",
    "    remainder='passthrough'\n",
    ") "
   ]
  },
  {
   "cell_type": "code",
   "execution_count": 864,
   "id": "962f3064-0bec-4ac7-83b4-0508a7573e63",
   "metadata": {},
   "outputs": [],
   "source": [
    "# финальный пайплайн\n",
    "pipe_final = Pipeline(\n",
    "    [\n",
    "        ('preprocessor', data_preprocessor),\n",
    "        ('models', None)\n",
    "    ]\n",
    ")"
   ]
  },
  {
   "cell_type": "markdown",
   "id": "48373c92-9d89-4d1e-9b96-777958ae20c5",
   "metadata": {},
   "source": [
    "## LogisiticRegression"
   ]
  },
  {
   "cell_type": "code",
   "execution_count": 870,
   "id": "e599ae42-a31c-4c6a-8423-1d0a666b36cb",
   "metadata": {},
   "outputs": [],
   "source": [
    "from sklearn.linear_model import LogisticRegression\n",
    "param_grid_lr = [    \n",
    "    {\n",
    "        'models': [\n",
    "            LogisticRegression()\n",
    "        ],\n",
    "        'models__C': [0.1, 1, 10],\n",
    "        'models__penalty': ['l2'],\n",
    "        'models__solver': ['lbfgs', 'liblinear'],\n",
    "        'models__class_weight': ['balanced']\n",
    "    }\n",
    "]"
   ]
  },
  {
   "cell_type": "code",
   "execution_count": 871,
   "id": "40d0402b-104b-4c04-b37a-6f03a369fa60",
   "metadata": {},
   "outputs": [],
   "source": [
    "# используем кросс-валидацию, количество для модели LinearRegression\n",
    "grid_lr = GridSearchCV(\n",
    "    pipe_final,\n",
    "    param_grid_lr,\n",
    "    cv=5,\n",
    "    scoring='roc_auc',\n",
    "    n_jobs=-1\n",
    ")"
   ]
  },
  {
   "cell_type": "code",
   "execution_count": 872,
   "id": "73115041-c68f-4a7c-9c50-0fe21b69e971",
   "metadata": {},
   "outputs": [],
   "source": [
    "best_models['model'].append('LinearRegression')\n",
    "grid_lr.fit(\n",
    "    train_resampled.drop([TARGET, 'client_id'], axis=1),\n",
    "    train_resampled[TARGET]\n",
    ")\n",
    "best_models['ROC-AUC_cv'].append(grid_lr.best_score_)"
   ]
  },
  {
   "cell_type": "code",
   "execution_count": 873,
   "id": "e62dab7e-8d1b-4934-a25b-b9cccd5b421e",
   "metadata": {},
   "outputs": [],
   "source": [
    "# Оцениваем модель на тестовых данных\n",
    "best_model_lr = grid_lr.best_estimator_\n",
    "y_pred = best_model_lr.predict(X_test.drop('client_id', axis=1))\n",
    "y_pred_proba = best_model_lr.predict_proba(X_test.drop('client_id', axis=1))[:, 1]\n",
    "\n",
    "# dыводим метрики\n",
    "roc_auc_lr = roc_auc_score(y_test, y_pred_proba)\n",
    "precision_lr = precision_score(y_test, y_pred)\n",
    "best_models['ROC-AUC'].append(roc_auc_lr)\n",
    "best_models['Precision'].append(precision_lr)"
   ]
  },
  {
   "cell_type": "markdown",
   "id": "584090a0-be47-4877-9da1-98ff7562c708",
   "metadata": {},
   "source": [
    "## RandomForestClassifier"
   ]
  },
  {
   "cell_type": "code",
   "execution_count": 875,
   "id": "31a5e5a1-984f-42f4-b5dd-5d245f9ed85c",
   "metadata": {},
   "outputs": [],
   "source": [
    "param_grid_rf = [\n",
    "    {\n",
    "        'models': [\n",
    "            RandomForestClassifier(random_state=RANDOM_STATE)\n",
    "        ],\n",
    "        'models__n_estimators': [50, 100, 200],\n",
    "        'models__max_depth': [5, 8],\n",
    "        'models__min_samples_split': [5, 10],\n",
    "        'models__min_samples_leaf': [2, 4],\n",
    "        'models__class_weight': ['balanced']\n",
    "    }\n",
    "]            "
   ]
  },
  {
   "cell_type": "code",
   "execution_count": 876,
   "id": "52aa44b7-7fb4-4615-85db-e4453572a63e",
   "metadata": {},
   "outputs": [],
   "source": [
    "# используем кросс-валидацию, количество для модели LinearRegression\n",
    "grid_rf = GridSearchCV(\n",
    "    pipe_final,\n",
    "    param_grid_rf,\n",
    "    cv=5,\n",
    "    scoring='roc_auc',\n",
    "    n_jobs=-1\n",
    ")"
   ]
  },
  {
   "cell_type": "code",
   "execution_count": 877,
   "id": "27704f61-b5c3-4793-a428-b4273fb628ef",
   "metadata": {},
   "outputs": [],
   "source": [
    "best_models['model'].append('RandomForestClassifier')\n",
    "grid_rf.fit(\n",
    "    train_resampled.drop([TARGET, 'client_id'], axis=1),\n",
    "    train_resampled[TARGET]\n",
    ")\n",
    "best_models['ROC-AUC_cv'].append(grid_rf.best_score_)"
   ]
  },
  {
   "cell_type": "code",
   "execution_count": 886,
   "id": "5793fdde-f703-4b17-8412-b1c20590717d",
   "metadata": {},
   "outputs": [],
   "source": [
    "# Оцениваем модель на тестовых данных\n",
    "best_model_rf = grid_rf.best_estimator_\n",
    "y_pred = best_model_rf.predict(X_test.drop('client_id', axis=1))\n",
    "y_pred_proba = best_model_rf.predict_proba(X_test.drop('client_id', axis=1))[:, 1]\n",
    "# метрики\n",
    "roc_auc_rf = roc_auc_score(y_test, y_pred_proba)\n",
    "precision_rf = precision_score(y_test, y_pred)\n",
    "best_models['ROC-AUC'].append(roc_auc_rf)\n",
    "best_models['Precision'].append(precision_rf)"
   ]
  },
  {
   "cell_type": "code",
   "execution_count": null,
   "id": "ff471446-498d-440b-bbb3-c731e0ee3076",
   "metadata": {},
   "outputs": [],
   "source": []
  },
  {
   "cell_type": "code",
   "execution_count": null,
   "id": "2ccd414f-7576-4cf0-b9fb-d6a662af0b3f",
   "metadata": {},
   "outputs": [],
   "source": []
  },
  {
   "cell_type": "code",
   "execution_count": null,
   "id": "4a4deda6-bd06-4992-86b5-61df8c4b4aba",
   "metadata": {},
   "outputs": [],
   "source": []
  },
  {
   "cell_type": "markdown",
   "id": "f07c3f5e-e849-4a02-b07d-6341e8e2e750",
   "metadata": {},
   "source": [
    "# Анализ моделей"
   ]
  },
  {
   "cell_type": "code",
   "execution_count": 895,
   "id": "16c8ec5e-e7ae-4e37-a1d7-85804e9b4ecd",
   "metadata": {},
   "outputs": [],
   "source": [
    "models_results = pd.DataFrame(best_models, columns=['model', 'ROC-AUC_cv', 'ROC-AUC', 'Precision'])"
   ]
  },
  {
   "cell_type": "code",
   "execution_count": 896,
   "id": "2abe1c29-443e-4361-a926-5fe71d9b8dd7",
   "metadata": {},
   "outputs": [
    {
     "data": {
      "text/html": [
       "<div>\n",
       "<style scoped>\n",
       "    .dataframe tbody tr th:only-of-type {\n",
       "        vertical-align: middle;\n",
       "    }\n",
       "\n",
       "    .dataframe tbody tr th {\n",
       "        vertical-align: top;\n",
       "    }\n",
       "\n",
       "    .dataframe thead th {\n",
       "        text-align: right;\n",
       "    }\n",
       "</style>\n",
       "<table border=\"1\" class=\"dataframe\">\n",
       "  <thead>\n",
       "    <tr style=\"text-align: right;\">\n",
       "      <th></th>\n",
       "      <th>model</th>\n",
       "      <th>ROC-AUC_cv</th>\n",
       "      <th>ROC-AUC</th>\n",
       "      <th>Precision</th>\n",
       "    </tr>\n",
       "  </thead>\n",
       "  <tbody>\n",
       "    <tr>\n",
       "      <th>0</th>\n",
       "      <td>LGBMClassifier</td>\n",
       "      <td>0.8277</td>\n",
       "      <td>0.7225</td>\n",
       "      <td>0.3971</td>\n",
       "    </tr>\n",
       "    <tr>\n",
       "      <th>1</th>\n",
       "      <td>CatBoostClassifier</td>\n",
       "      <td>0.8047</td>\n",
       "      <td>0.7523</td>\n",
       "      <td>0.5208</td>\n",
       "    </tr>\n",
       "    <tr>\n",
       "      <th>2</th>\n",
       "      <td>LinearRegression</td>\n",
       "      <td>0.7408</td>\n",
       "      <td>0.7428</td>\n",
       "      <td>0.1941</td>\n",
       "    </tr>\n",
       "    <tr>\n",
       "      <th>3</th>\n",
       "      <td>RandomForestClassifier</td>\n",
       "      <td>0.7574</td>\n",
       "      <td>0.7325</td>\n",
       "      <td>0.2400</td>\n",
       "    </tr>\n",
       "  </tbody>\n",
       "</table>\n",
       "</div>"
      ],
      "text/plain": [
       "                    model  ROC-AUC_cv  ROC-AUC  Precision\n",
       "0          LGBMClassifier      0.8277   0.7225     0.3971\n",
       "1      CatBoostClassifier      0.8047   0.7523     0.5208\n",
       "2        LinearRegression      0.7408   0.7428     0.1941\n",
       "3  RandomForestClassifier      0.7574   0.7325     0.2400"
      ]
     },
     "execution_count": 896,
     "metadata": {},
     "output_type": "execute_result"
    }
   ],
   "source": [
    "models_results"
   ]
  },
  {
   "cell_type": "code",
   "execution_count": null,
   "id": "dcd1ba79-6701-48b9-8f6d-0a0a884ccdc1",
   "metadata": {},
   "outputs": [],
   "source": []
  },
  {
   "cell_type": "code",
   "execution_count": null,
   "id": "0324700b-39a6-4940-99cf-04d09570408e",
   "metadata": {},
   "outputs": [],
   "source": []
  }
 ],
 "metadata": {
  "kernelspec": {
   "display_name": "Python [conda env:base] *",
   "language": "python",
   "name": "conda-base-py"
  },
  "language_info": {
   "codemirror_mode": {
    "name": "ipython",
    "version": 3
   },
   "file_extension": ".py",
   "mimetype": "text/x-python",
   "name": "python",
   "nbconvert_exporter": "python",
   "pygments_lexer": "ipython3",
   "version": "3.12.7"
  }
 },
 "nbformat": 4,
 "nbformat_minor": 5
}
